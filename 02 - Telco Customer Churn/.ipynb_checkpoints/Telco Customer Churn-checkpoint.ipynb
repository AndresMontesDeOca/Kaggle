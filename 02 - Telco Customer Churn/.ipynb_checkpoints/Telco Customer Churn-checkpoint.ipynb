{
 "cells": [
  {
   "cell_type": "markdown",
   "id": "20b360aa",
   "metadata": {},
   "source": [
    "# Telco Customer Churn"
   ]
  },
  {
   "cell_type": "markdown",
   "id": "bdcc61d6",
   "metadata": {},
   "source": [
    "#### LogBook"
   ]
  },
  {
   "cell_type": "code",
   "execution_count": null,
   "id": "2ae9a4ed",
   "metadata": {},
   "outputs": [],
   "source": [
    "#  21 Oct 2022   >>>   Project Start\n",
    "#  23 Oct 2022   >>>   Project End\n",
    "\n",
    "# Author: Andres Montes de Oca\n",
    "# GitHub: https://github.com/AndresMontesDeOca\n",
    "# Competition #02 (https://www.kaggle.com/datasets/blastchar/telco-customer-churn)"
   ]
  },
  {
   "cell_type": "markdown",
   "id": "55bf00ae",
   "metadata": {},
   "source": [
    "#### Load Data and Info"
   ]
  },
  {
   "cell_type": "code",
   "execution_count": null,
   "id": "1eac41f3",
   "metadata": {
    "scrolled": true
   },
   "outputs": [],
   "source": [
    "import numpy as np\n",
    "import pandas as pd\n",
    "import matplotlib.pyplot as plt\n",
    "import seaborn as sns\n",
    "import scipy.stats as st\n",
    "\n",
    "pd.set_option('display.max_columns', None)\n",
    "\n",
    "data = pd.read_csv('Data/data.csv')\n",
    "\n",
    "# Ignore Warnings\n",
    "import warnings\n",
    "warnings.filterwarnings('ignore')\n",
    "\n",
    "%matplotlib inline\n",
    "sns.set(style='white', context='notebook', palette='pastel')\n",
    "\n",
    "\n",
    "print(data.info())\n",
    "display(data.head())"
   ]
  },
  {
   "cell_type": "markdown",
   "id": "e08b0e86",
   "metadata": {},
   "source": [
    "# Categorical Features"
   ]
  },
  {
   "cell_type": "code",
   "execution_count": null,
   "id": "9de38c0c",
   "metadata": {},
   "outputs": [],
   "source": [
    "categorical_cols = ['gender', 'SeniorCitizen', 'Partner', 'Dependents', 'PhoneService', 'MultipleLines',\n",
    "           'InternetService', 'OnlineSecurity', 'OnlineBackup', 'DeviceProtection', 'TechSupport', 'StreamingTV', \n",
    "           'StreamingMovies', 'Contract', 'PaperlessBilling', 'PaymentMethod', 'Churn']"
   ]
  },
  {
   "cell_type": "markdown",
   "id": "1908512b",
   "metadata": {},
   "source": [
    "#### SeniorCitizen"
   ]
  },
  {
   "cell_type": "code",
   "execution_count": null,
   "id": "a9ba2d2a",
   "metadata": {},
   "outputs": [],
   "source": [
    "# Converting 1 to True and 0 to False\n",
    "data['SeniorCitizen'] = data['SeniorCitizen'].astype(bool)"
   ]
  },
  {
   "cell_type": "markdown",
   "id": "ff435f8e",
   "metadata": {},
   "source": [
    "#### Category Cast"
   ]
  },
  {
   "cell_type": "code",
   "execution_count": null,
   "id": "4ed0a18d",
   "metadata": {},
   "outputs": [],
   "source": [
    "# Converting dtype to Category\n",
    "data[categorical_cols] = data[categorical_cols].astype('category')"
   ]
  },
  {
   "cell_type": "markdown",
   "id": "e435e801",
   "metadata": {},
   "source": [
    "#### Plots"
   ]
  },
  {
   "cell_type": "code",
   "execution_count": null,
   "id": "eff12891",
   "metadata": {
    "scrolled": false
   },
   "outputs": [],
   "source": [
    "# To draw the right number of subplots\n",
    "columns = 3\n",
    "rows = int(np.ceil(len(categorical_cols)/columns))\n",
    "fig = plt.figure(figsize=(10, 20))\n",
    "\n",
    "# Plot\n",
    "for i, column_name in enumerate(categorical_cols):\n",
    "    ax = fig.add_subplot(rows, columns, i+1)\n",
    "    data[column_name].value_counts(True).plot(kind='pie', autopct='%.2f%%', # explode not working\n",
    "                        textprops={'fontsize':8}, startangle=90, cmap='Set2').set_title(column_name)\n",
    "                                                                                       \n",
    "    ax.set_ylabel('')\n",
    "\n",
    "# Asthetics    \n",
    "fig.tight_layout()\n",
    "plt.show()\n"
   ]
  },
  {
   "cell_type": "markdown",
   "id": "7bfb773b",
   "metadata": {},
   "source": [
    "# Discrete Features"
   ]
  },
  {
   "cell_type": "code",
   "execution_count": null,
   "id": "367706e8",
   "metadata": {},
   "outputs": [],
   "source": [
    "discrete_cols = ['tenure']"
   ]
  },
  {
   "cell_type": "markdown",
   "id": "5b6f7557",
   "metadata": {},
   "source": [
    "#### Tenure (CountPlot)"
   ]
  },
  {
   "cell_type": "code",
   "execution_count": null,
   "id": "2b1871bb",
   "metadata": {},
   "outputs": [],
   "source": [
    "# Set x_ticks values and labels\n",
    "x_ticks = [0, 12, data[discrete_cols]['tenure'].median(), data[discrete_cols]['tenure'].max()]\n",
    "\n",
    "fig = plt.figure(figsize=(10, 3))\n",
    "sns.countplot(x=data[discrete_cols]['tenure']).set_title('Tenure (in months)')\n",
    "plt.xlabel('')\n",
    "plt.xticks(x_ticks)\n",
    "plt.show()\n",
    "\n",
    "# Problem on the first six months\n",
    "# Even though it is an Ordinal feature, an histogram is the best way to show it. Too "
   ]
  },
  {
   "cell_type": "markdown",
   "id": "25bfc8df",
   "metadata": {},
   "source": [
    "# Continuous Features"
   ]
  },
  {
   "cell_type": "code",
   "execution_count": null,
   "id": "46ebb428",
   "metadata": {
    "scrolled": true
   },
   "outputs": [],
   "source": [
    "continuous_cols = ['MonthlyCharges', 'TotalCharges']"
   ]
  },
  {
   "cell_type": "markdown",
   "id": "00ad7536",
   "metadata": {},
   "source": [
    "#### TotalCharges Cast to Numeric"
   ]
  },
  {
   "cell_type": "code",
   "execution_count": null,
   "id": "78636035",
   "metadata": {},
   "outputs": [],
   "source": [
    "data['TotalCharges'] = pd.to_numeric(data['TotalCharges'], errors='coerce')\n",
    "\n",
    "# Not Numbers replaced for Nulls\n",
    "print('Nulls deleted:', data.TotalCharges.isnull().sum())\n",
    "\n",
    "# Nulls drop??\n",
    "data.dropna(subset='TotalCharges', inplace=True)"
   ]
  },
  {
   "cell_type": "markdown",
   "id": "0f2f6069",
   "metadata": {},
   "source": [
    "#### Plots"
   ]
  },
  {
   "cell_type": "code",
   "execution_count": null,
   "id": "1825f3b6",
   "metadata": {
    "scrolled": true
   },
   "outputs": [],
   "source": [
    "# To draw the right number of subplots\n",
    "rows = len(continuous_cols)\n",
    "\n",
    "fig = plt.figure(figsize=(10, 4)) # Explore about this\n",
    "\n",
    "for i, col_name in enumerate(continuous_cols):\n",
    "    ax = fig.add_subplot(rows, 1, i+1)\n",
    "    sns.histplot(data=data[col_name], bins=72).set_title(col_name)\n",
    "    ax.set_xlabel('')\n",
    "    \n",
    "# Skew value of raw data\n",
    "print('Skew:\\n', data[continuous_cols].skew(), '\\n')\n",
    "print('Mean:\\n', data[continuous_cols].mean())\n",
    "print(data[continuous_cols].shape)\n",
    "    \n",
    "fig.tight_layout()\n",
    "plt.show()"
   ]
  },
  {
   "cell_type": "markdown",
   "id": "844f9cef",
   "metadata": {},
   "source": [
    "# Feature Engineering"
   ]
  },
  {
   "cell_type": "markdown",
   "id": "a90bc30b",
   "metadata": {},
   "source": [
    "## Churn (Target)"
   ]
  },
  {
   "cell_type": "code",
   "execution_count": null,
   "id": "5618953e",
   "metadata": {},
   "outputs": [],
   "source": [
    "from sklearn.preprocessing import LabelEncoder\n",
    "\n",
    "y = pd.Series(LabelEncoder().fit_transform(data.Churn.astype('category')), name='Churn')"
   ]
  },
  {
   "cell_type": "code",
   "execution_count": null,
   "id": "fed2a500",
   "metadata": {},
   "outputs": [],
   "source": [
    "nominal_cols = ['gender', 'SeniorCitizen', 'Partner', 'Dependents',  'OnlineSecurity', 'DeviceProtection', 'TechSupport', 'StreamingTV', \\\n",
    "           'StreamingMovies',  'PaperlessBilling', 'OnlineBackup']"
   ]
  },
  {
   "cell_type": "code",
   "execution_count": null,
   "id": "0addc28e",
   "metadata": {},
   "outputs": [],
   "source": [
    "# Generic Functions\n",
    "from sklearn.preprocessing import OneHotEncoder\n",
    "\n",
    "def onehot_encoding(data_):\n",
    "    oh_encoder = OneHotEncoder(handle_unknown='ignore', drop='if_binary', sparse=False).fit(data_)\n",
    "    result = pd.DataFrame(oh_encoder.transform(data_), columns=oh_encoder.get_feature_names_out())\n",
    "    return result"
   ]
  },
  {
   "cell_type": "markdown",
   "id": "a24f16ca",
   "metadata": {},
   "source": [
    "#### 'No internet service' Problem"
   ]
  },
  {
   "cell_type": "code",
   "execution_count": null,
   "id": "f3431305",
   "metadata": {},
   "outputs": [],
   "source": [
    "# Lets replace 'No internet service' for 'No' in all impacted Features\n",
    "no_internet_service_cols = ['OnlineSecurity', 'OnlineBackup', \n",
    "                            'DeviceProtection', 'TechSupport', 'StreamingTV', 'StreamingMovies']\n",
    "\n",
    "for col_name in no_internet_service_cols:\n",
    "    data.loc[data[col_name]=='No internet service', col_name] = 'No'"
   ]
  },
  {
   "cell_type": "markdown",
   "id": "2aa815dd",
   "metadata": {},
   "source": [
    "#### PaymentMethod Cardinality"
   ]
  },
  {
   "cell_type": "code",
   "execution_count": null,
   "id": "c8fe5017",
   "metadata": {},
   "outputs": [],
   "source": [
    "print(data.PaymentMethod.value_counts())"
   ]
  },
  {
   "cell_type": "markdown",
   "id": "f090c6f8",
   "metadata": {},
   "source": [
    "#### PaymentMethod (OneHot Encoder)"
   ]
  },
  {
   "cell_type": "code",
   "execution_count": null,
   "id": "f777b5da",
   "metadata": {},
   "outputs": [],
   "source": [
    "# Big ccardinality\n",
    "# print(data.PaymentMethod.value_counts())\n",
    "\n",
    "data_PaymentMethod_oh = onehot_encoding(data['PaymentMethod'].to_frame())\n",
    "print(data_PaymentMethod_oh.shape)"
   ]
  },
  {
   "cell_type": "markdown",
   "id": "56b60f78",
   "metadata": {},
   "source": [
    "#### PaymentMethod (LabelEncoder)"
   ]
  },
  {
   "cell_type": "code",
   "execution_count": null,
   "id": "06ff9755",
   "metadata": {},
   "outputs": [],
   "source": [
    "from sklearn.preprocessing import LabelEncoder\n",
    "\n",
    "data_PaymentMethod_label= pd.Series(LabelEncoder().fit_transform(data['PaymentMethod']), name='PaymentMethod')\n",
    "print(data_PaymentMethod_label.shape)"
   ]
  },
  {
   "cell_type": "markdown",
   "id": "efba3e92",
   "metadata": {},
   "source": [
    "## OneHot Encoder"
   ]
  },
  {
   "cell_type": "code",
   "execution_count": null,
   "id": "4c85d8f8",
   "metadata": {
    "scrolled": true
   },
   "outputs": [],
   "source": [
    "from sklearn.preprocessing import OneHotEncoder\n",
    "\n",
    "oh_encoder = OneHotEncoder(handle_unknown='ignore', drop='if_binary', sparse=False).fit(data[nominal_cols])\n",
    "\n",
    "data_nominals = pd.DataFrame(oh_encoder.transform(data[nominal_cols]), columns=oh_encoder.get_feature_names_out())\n",
    "\n",
    "print(data_nominals.shape)"
   ]
  },
  {
   "cell_type": "markdown",
   "id": "b6ad1888",
   "metadata": {},
   "source": [
    "## Ordinal Encoder"
   ]
  },
  {
   "cell_type": "code",
   "execution_count": null,
   "id": "d1031a98",
   "metadata": {
    "scrolled": true
   },
   "outputs": [],
   "source": [
    "from sklearn.preprocessing import OrdinalEncoder\n",
    "\n",
    "ordinal_cols = ['MultipleLines', 'InternetService', 'Contract']\n",
    "\n",
    "ordinal_encoder = OrdinalEncoder(handle_unknown='use_encoded_value', unknown_value=np.nan)\n",
    "data_ordinals = pd.DataFrame()\n",
    "\n",
    "for col_name in ordinal_cols:\n",
    "    ordinal_serie = pd.Series(ordinal_encoder.fit_transform(data[col_name].to_frame())\\\n",
    "                              .flatten(), name=col_name)\n",
    "    data_ordinals = pd.concat([data_ordinals, ordinal_serie], axis=1)\n",
    "    \n",
    "print(data_ordinals.shape)"
   ]
  },
  {
   "cell_type": "markdown",
   "id": "87bf372f",
   "metadata": {},
   "source": [
    "## Continuous Features"
   ]
  },
  {
   "cell_type": "code",
   "execution_count": null,
   "id": "d3164d38",
   "metadata": {},
   "outputs": [],
   "source": [
    "continuous_cols = ['MonthlyCharges', 'TotalCharges']\n",
    "\n",
    "# Skew values before Transformation\n",
    "print('Series.skew(): Around 0 should be Normal')\n",
    "print('TotalCharges:', data.TotalCharges.skew())\n",
    "print('MonthlyCharges:', data.MonthlyCharges.skew(), '\\n')\n",
    "\n",
    "# P-Value \n",
    "print('Stats.shapiro(): real p-value ')\n",
    "print('Shapiro TotalCharges:', st.shapiro(data.TotalCharges)[1])\n",
    "print('Shapiro MonthlyCharges:', st.shapiro(data.MonthlyCharges)[1], '\\n')\n",
    "\n",
    "# P-Value as well?\n",
    "print('Stats.skewtest(): Same as Shapiro?')\n",
    "print('TotalCharges:', st.skewtest(data.TotalCharges)[1])\n",
    "print('MonthlyCharges:', st.skewtest(data.MonthlyCharges)[1])"
   ]
  },
  {
   "cell_type": "markdown",
   "id": "b131f1e6",
   "metadata": {},
   "source": [
    "### BoxCox"
   ]
  },
  {
   "cell_type": "code",
   "execution_count": null,
   "id": "665e6534",
   "metadata": {},
   "outputs": [],
   "source": [
    "data_continuous_boxcox = pd.DataFrame()\n",
    "\n",
    "for col_name in continuous_cols:\n",
    "    continuous_serie = pd.Series(st.boxcox(data[col_name])[0], name=col_name)\n",
    "    data_continuous_boxcox = pd.concat([data_continuous_boxcox, continuous_serie], axis=1)\n",
    "    \n",
    "# Skew value of transformed data\n",
    "print('Skew:\\n', data_continuous_boxcox.skew(), '\\n')\n",
    "print('Mean:\\n', data_continuous_boxcox.mean())\n",
    "print(data_continuous_boxcox.shape)\n",
    "\n",
    "\n",
    "fig = plt.figure(figsize=(10, 4)) # Explore about this\n",
    "\n",
    "for i, col_name in enumerate(continuous_cols):\n",
    "    ax = fig.add_subplot(rows, 1, i+1)\n",
    "    sns.histplot(data=data_continuous_boxcox[col_name], bins=72).set_title(column_name)\n",
    "    ax.set_xlabel('')\n",
    "    \n",
    "fig.tight_layout()\n",
    "plt.show()"
   ]
  },
  {
   "cell_type": "markdown",
   "id": "35bef8c2",
   "metadata": {},
   "source": [
    "### Standard Scaler"
   ]
  },
  {
   "cell_type": "code",
   "execution_count": null,
   "id": "908be056",
   "metadata": {
    "scrolled": false
   },
   "outputs": [],
   "source": [
    "from sklearn.preprocessing import StandardScaler\n",
    "\n",
    "data_continuous_stdscaler = pd.DataFrame()\n",
    "\n",
    "for col_names in continuous_cols:\n",
    "    continuous_serie = pd.Series(StandardScaler().fit_transform(data[col_names].to_frame()).flatten(), name=col_names)\n",
    "    data_continuous_stdscaler = pd.concat([data_continuous_stdscaler, continuous_serie], axis=1)\n",
    "\n",
    "print('Skew:\\n', data_continuous_stdscaler.skew(), '\\n')\n",
    "print('Mean:\\n', data_continuous_stdscaler.mean())\n",
    "print(data_continuous_stdscaler.shape)\n",
    "\n",
    "\n",
    "fig = plt.figure(figsize=(10, 4)) # Explore about this\n",
    "\n",
    "for i, col_name in enumerate(continuous_cols):\n",
    "    ax = fig.add_subplot(rows, 1, i+1)\n",
    "    sns.histplot(data=data_continuous_stdscaler[col_name], bins=72).set_title(col_name)\n",
    "    ax.set_xlabel('')\n",
    "    \n",
    "fig.tight_layout()\n",
    "plt.show()\n",
    "\n",
    "# Shape doesn't change, just the scale"
   ]
  },
  {
   "cell_type": "markdown",
   "id": "0c1e3aed",
   "metadata": {},
   "source": [
    "# Discrete Features"
   ]
  },
  {
   "cell_type": "code",
   "execution_count": null,
   "id": "32b9b110",
   "metadata": {},
   "outputs": [],
   "source": [
    "discrete_cols = ['tenure']\n",
    "\n",
    "data_discrete = data[discrete_cols]\n",
    "\n",
    "# Nothing to do here"
   ]
  },
  {
   "cell_type": "markdown",
   "id": "e24862e7",
   "metadata": {},
   "source": [
    "# Correlation Analysis"
   ]
  },
  {
   "cell_type": "code",
   "execution_count": null,
   "id": "708b998b",
   "metadata": {},
   "outputs": [],
   "source": [
    "data_cols = [y, data_discrete, data_nominals, data_ordinals, data_PaymentMethod_label, data_continuous_boxcox]\n",
    "\n",
    "# data_continuous_stdscaler reduce the performance\n",
    "# data_PaymentMethod_oh reduce the performance too\n",
    "\n",
    "# Lets create the final DataFrame\n",
    "# Dont know why there are 11 nulls\n",
    "data_FINAL = pd.concat(data_cols, axis=1)\n",
    "\n",
    "print(data_FINAL.isnull().sum())\n",
    "data_FINAL.dropna(inplace=True)\n",
    "print(data_FINAL.shape)"
   ]
  },
  {
   "cell_type": "markdown",
   "id": "745919e1",
   "metadata": {},
   "source": [
    "#### Correlation Matrix"
   ]
  },
  {
   "cell_type": "code",
   "execution_count": null,
   "id": "3b8989f8",
   "metadata": {
    "scrolled": true
   },
   "outputs": [],
   "source": [
    "fig = plt.figure(figsize=(6, 4))\n",
    "sns.heatmap(data_FINAL.corr(), vmin=-1, vmax=1, cmap='RdYlGn')\n",
    "plt.title('Correlation Matrix')\n",
    "plt.show()"
   ]
  },
  {
   "cell_type": "markdown",
   "id": "893d4e48",
   "metadata": {},
   "source": [
    "#### Feature Selection"
   ]
  },
  {
   "cell_type": "code",
   "execution_count": null,
   "id": "6ccf8678",
   "metadata": {},
   "outputs": [],
   "source": [
    "# Drop Features from data_FINAL to test\n",
    "\n",
    "data_FINAL.drop(columns=['StreamingMovies_Yes', 'DeviceProtection_Yes', 'StreamingTV_Yes', 'StreamingMovies_Yes',\n",
    "                        'OnlineBackup_Yes', 'TotalCharges'], inplace=True)"
   ]
  },
  {
   "cell_type": "markdown",
   "id": "e7a53371",
   "metadata": {},
   "source": [
    "# Basic Modeling"
   ]
  },
  {
   "cell_type": "code",
   "execution_count": null,
   "id": "1b926269",
   "metadata": {
    "scrolled": true
   },
   "outputs": [],
   "source": [
    "from sklearn.model_selection import train_test_split\n",
    "\n",
    "Xtrain, Xtest, ytrain, ytest = train_test_split(data_FINAL.drop(columns='Churn'), data_FINAL.Churn)\n",
    "\n",
    "# !pip install lazypredict\n",
    "import lazypredict\n",
    "from lazypredict.Supervised import LazyClassifier\n",
    "from sklearn.metrics import precision_score, accuracy_score, recall_score\n",
    "\n",
    "model_lazy = LazyClassifier()\n",
    "models, predictions = model_lazy.fit(Xtrain, Xtest, ytrain, ytest)\n",
    "display(models.sort_values(by='Accuracy', ascending=False))\n"
   ]
  }
 ],
 "metadata": {
  "kernelspec": {
   "display_name": "Python 3 (ipykernel)",
   "language": "python",
   "name": "python3"
  },
  "language_info": {
   "codemirror_mode": {
    "name": "ipython",
    "version": 3
   },
   "file_extension": ".py",
   "mimetype": "text/x-python",
   "name": "python",
   "nbconvert_exporter": "python",
   "pygments_lexer": "ipython3",
   "version": "3.10.4"
  }
 },
 "nbformat": 4,
 "nbformat_minor": 5
}
