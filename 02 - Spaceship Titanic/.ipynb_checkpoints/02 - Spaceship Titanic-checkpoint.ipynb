{
 "cells": [
  {
   "cell_type": "markdown",
   "id": "bb1ecb49",
   "metadata": {},
   "source": [
    "# Spaceship Titanic"
   ]
  },
  {
   "cell_type": "markdown",
   "id": "2e46d63e",
   "metadata": {},
   "source": [
    "# LogBook"
   ]
  },
  {
   "cell_type": "code",
   "execution_count": null,
   "id": "a67abe7b",
   "metadata": {},
   "outputs": [],
   "source": [
    "'''\n",
    " 7 Oct 2022   >>>   Project Start\n",
    " 7 Oct 2022   >>>   Individual Features Analysis\n",
    " 8 Oct 2022   >>>   Data Wrangling\n",
    "11 Oct 2022   >>>   EDA\n",
    "14 Oct 2022   >>>   Data Modeling\n",
    "15 Oct 2022   >>>   Asthetics and Proyect End\n",
    "'''\n",
    "# Author: Andres Montes de Oca\n",
    "# GitHub: https://github.com/AndresMontesDeOca"
   ]
  },
  {
   "cell_type": "markdown",
   "id": "d08428ef",
   "metadata": {},
   "source": [
    "# Load Data and Info"
   ]
  },
  {
   "cell_type": "code",
   "execution_count": null,
   "id": "dd57b3dd",
   "metadata": {},
   "outputs": [],
   "source": [
    "import numpy as np\n",
    "import pandas as pd\n",
    "import matplotlib.pyplot as plt\n",
    "import seaborn as sns\n",
    "import scipy.stats as st\n",
    "\n",
    "# Ignore Warnings\n",
    "import warnings\n",
    "warnings.filterwarnings('ignore')\n",
    "\n",
    "%matplotlib inline\n",
    "sns.set(style='white', context='notebook', palette='pastel')\n",
    "\n",
    "train = pd.read_csv('Data/train.csv')\n",
    "data = train\n",
    "test = pd.read_csv('Data/test.csv')\n",
    "\n",
    "print(data.info())\n",
    "display(data.head())"
   ]
  },
  {
   "cell_type": "markdown",
   "id": "81bf605d",
   "metadata": {},
   "source": [
    "# Individual Features Check"
   ]
  },
  {
   "cell_type": "markdown",
   "id": "a1720045",
   "metadata": {},
   "source": [
    "## Transported (Target)"
   ]
  },
  {
   "cell_type": "code",
   "execution_count": null,
   "id": "6eea5250",
   "metadata": {
    "scrolled": false
   },
   "outputs": [],
   "source": [
    "print(data['Transported'].value_counts(), '\\n')\n",
    "\n",
    "# Plot\n",
    "fig, ax = plt.subplots(1, 1, figsize=(5, 2))\n",
    "data['Transported'].value_counts().plot(kind='pie', \n",
    "        autopct='%.1f%%', textprops={'fontsize':8}, startangle=90).set_title('Transported Rate')\n",
    "ax.set_ylabel('')\n",
    "plt.show()\n",
    "\n",
    "# We will use it later\n",
    "mask_transported = data['Transported']==True\n",
    "\n",
    "# Transported is well balanced"
   ]
  },
  {
   "cell_type": "markdown",
   "id": "4cb34daa",
   "metadata": {},
   "source": [
    "## PassengerId (Feature)"
   ]
  },
  {
   "cell_type": "code",
   "execution_count": null,
   "id": "c5577bae",
   "metadata": {
    "scrolled": false
   },
   "outputs": [],
   "source": [
    "print('Nulls:', data.PassengerId.isnull().sum(), '\\n')\n",
    "print(data.PassengerId.head())\n",
    "\n",
    "# We will have to split the GroupId form this Feature, there are no nulls"
   ]
  },
  {
   "cell_type": "markdown",
   "id": "13df5909",
   "metadata": {},
   "source": [
    "## GroupSize (Created Feature)"
   ]
  },
  {
   "cell_type": "code",
   "execution_count": null,
   "id": "9594684b",
   "metadata": {},
   "outputs": [],
   "source": [
    "data['GroupId'] = data['PassengerId'].str.split('_', expand=True)[0]\n",
    "\n",
    "# Grouping by GroupId to count each group size\n",
    "GroupId_size_serie = data.groupby('GroupId').size() # temp GroupId_size Serie\n",
    "GroupId_size_serie.rename('GroupSize', inplace=True) # necesary for the Join\n",
    "\n",
    "# First we add how many passengers are in the group\n",
    "data = pd.merge(left=data, right=GroupId_size_serie, left_on='GroupId', right_on='GroupId', how='left')\n",
    "\n",
    "print(data['GroupSize'].value_counts())\n",
    "\n",
    "# Plot\n",
    "fig, ax = plt.subplots(1, 1, figsize=(5, 3))\n",
    "sns.countplot(y=data['GroupSize'], palette='Set2')\n",
    "ax.set_ylabel('')\n",
    "ax.set_xlabel('Passenger Count')\n",
    "\n",
    "plt.title('GroupSize')\n",
    "plt.show()\n",
    "\n",
    "# Few Passangers in big groups"
   ]
  },
  {
   "cell_type": "markdown",
   "id": "23ff9cfb",
   "metadata": {},
   "source": [
    "## IsAlone (Created Feature)"
   ]
  },
  {
   "cell_type": "code",
   "execution_count": null,
   "id": "b4ee4d97",
   "metadata": {
    "scrolled": true
   },
   "outputs": [],
   "source": [
    "# IsAlone Feature Generation (Solo Travelers)\n",
    "\n",
    "data.loc[:, 'IsAlone'] = data['GroupSize']==1 # Or we can leave it as it is, maybe improves the results\n",
    "# data.rename(columns={'Group_size':'IsAlone'}, inplace=True)\n",
    "\n",
    "print(data['IsAlone'].value_counts(), '\\n')\n",
    "# Plots\n",
    "fig, ax = plt.subplots(1, 2, figsize=(12, 2))\n",
    "\n",
    "# PieChart\n",
    "data['IsAlone'].value_counts(dropna=False).sort_index(ascending=False).plot(kind='pie', autopct='%.1f%%', ax=ax[0], \\\n",
    "                                                                cmap='Set2', startangle=90, textprops={'fontsize':8})\n",
    "ax[0].set_ylabel('')\n",
    "ax[0].set_title('On-Board Rate')\n",
    "\n",
    "# CountPlot\n",
    "sns.countplot(y=data['IsAlone'], hue=data['Transported'], ax=ax[1], order=[True, False], hue_order=[True, False])\n",
    "ax[1].set_ylabel('')\n",
    "ax[1].set_title('Count and Comparison w/Target')\n",
    "\n",
    "fig.suptitle('Solo Travellers\\n')\n",
    "plt.show()\n",
    "\n",
    "# There are more Solo Travellers, but they have lower Transported Rate"
   ]
  },
  {
   "cell_type": "markdown",
   "id": "8627bb67",
   "metadata": {},
   "source": [
    "## HomePlanet (Feature)"
   ]
  },
  {
   "cell_type": "code",
   "execution_count": null,
   "id": "3eae5d0f",
   "metadata": {
    "scrolled": true
   },
   "outputs": [],
   "source": [
    "print(data['HomePlanet'].value_counts(dropna=False), '\\n')\n",
    "\n",
    "# Plots\n",
    "fig, ax = plt.subplots(1, 2, figsize=(12, 2))\n",
    "\n",
    "# PieChart\n",
    "data['HomePlanet'].value_counts(dropna=False).plot(kind='pie', autopct='%.1f%%', ax=ax[0], \\\n",
    "                                    startangle=90, cmap='Set2', textprops={'fontsize':8})\n",
    "ax[0].set_ylabel('')\n",
    "ax[0].set_title('Distribution')\n",
    "\n",
    "# CountPlot\n",
    "sns.countplot(y=data['HomePlanet'], order=data['HomePlanet'].value_counts().index, ax=ax[1], \\\n",
    "              hue=data['Transported'], hue_order=[True, False])\n",
    "\n",
    "ax[1].set_ylabel('')\n",
    "ax[1].set_xlabel('')\n",
    "ax[1].set_title('Count and Comparison w/Target')\n",
    "\n",
    "fig.suptitle('HomePlanet')\n",
    "plt.show()\n",
    "\n",
    "# There are 201 nulls\n",
    "# Most coming from Earth\n",
    "# Passangers from Europe have more chances to be Transported"
   ]
  },
  {
   "cell_type": "markdown",
   "id": "84db1be0",
   "metadata": {},
   "source": [
    "## CryoSleep (Feature)"
   ]
  },
  {
   "cell_type": "code",
   "execution_count": null,
   "id": "281b65c7",
   "metadata": {
    "scrolled": false
   },
   "outputs": [],
   "source": [
    "print(data['CryoSleep'].value_counts(dropna=False).sort_index(ascending=False), '\\n')\n",
    "\n",
    "# Plots\n",
    "fig, ax = plt.subplots(1, 2, figsize=(12, 2))\n",
    "\n",
    "# PieChart\n",
    "data['CryoSleep'].value_counts(dropna=False).sort_index(ascending=False).plot(kind='pie', cmap='Set2', \\\n",
    "                                    autopct='%.1f%%', ax=ax[0], startangle=90, textprops={'fontsize':8})\n",
    "ax[0].set_ylabel('')\n",
    "ax[0].set_title('Distribution')\n",
    "\n",
    "# CountPlot\n",
    "sns.countplot(y=data['CryoSleep'], hue=data['Transported'], ax=ax[1], hue_order=[True, False])\n",
    "ax[1].set_ylabel('')\n",
    "ax[1].set_xlabel('')\n",
    "ax[1].set_title('Count and Comparison w/Target')\n",
    "\n",
    "fig.suptitle('CryoSleep')\n",
    "plt.show()\n",
    "\n",
    "# Just 1/3 are in CryoSleep\n",
    "# There are 217 Nulls\n",
    "# Strong correlation with Target Variable"
   ]
  },
  {
   "cell_type": "markdown",
   "id": "a82077a1",
   "metadata": {},
   "source": [
    "#### Correlation with VIP"
   ]
  },
  {
   "cell_type": "code",
   "execution_count": null,
   "id": "477b6b9c",
   "metadata": {
    "scrolled": true
   },
   "outputs": [],
   "source": [
    "print('Total VIP Passengers:', data[data.VIP==True].shape[0])\n",
    "\n",
    "# Plot\n",
    "fig, ax = plt.subplots(1, 1, figsize=(5, 2))\n",
    "data[data.VIP==True].CryoSleep.value_counts().sort_index(ascending=False).plot(kind='pie', autopct='%.1f%%', \\\n",
    "                                                        cmap='Set2', startangle=90, textprops={'fontsize':8})\n",
    "ax.set_ylabel('')\n",
    "plt.suptitle('CryoSleep')\n",
    "plt.show()\n",
    "\n",
    "# There few VIP Passengers\n",
    "# Strong correlation, VIP passengers dont want to be put to sleep"
   ]
  },
  {
   "cell_type": "markdown",
   "id": "f023f885",
   "metadata": {},
   "source": [
    "#### Correlation with Age"
   ]
  },
  {
   "cell_type": "code",
   "execution_count": null,
   "id": "1ded3afd",
   "metadata": {},
   "outputs": [],
   "source": [
    "# Plot\n",
    "fig, ax = plt.subplots(1, 1, figsize=(10, 3))\n",
    "data[data.CryoSleep==True].Age.value_counts().sort_index().plot(title='Count Passengers by Age', color='blue', label='Cryo Passengers')\n",
    "data[data.CryoSleep==False].Age.value_counts().sort_index().plot(color='red', label='Non-Cryo Passengers')\n",
    "\n",
    "plt.legend()\n",
    "plt.show()\n",
    "\n",
    "# Kids (<18) and Seniors (>65) have similar Rate\n",
    "# The gap between both gets gradually reduced for adults (18 to 65 years) "
   ]
  },
  {
   "cell_type": "markdown",
   "id": "8bb186ba",
   "metadata": {},
   "source": [
    "#### Correlation with GroupSize"
   ]
  },
  {
   "cell_type": "code",
   "execution_count": null,
   "id": "4c023921",
   "metadata": {},
   "outputs": [],
   "source": [
    "# Plot\n",
    "fig, ax = plt.subplots(1, 1, figsize=(10, 3))\n",
    "data[data.CryoSleep==True].GroupSize.value_counts().sort_index().plot(title='blue Passengers by GroupSize', \n",
    "                                                                      color='blue', label='Cryo Passengers')\n",
    "data[data.CryoSleep==False].GroupSize.value_counts().sort_index().plot(title='Count Passengers by GroupSize', \n",
    "                                                                      color='red', label='Non-Cryo Passengers')\n",
    "\n",
    "plt.yticks(np.arange(0, 5000, 1000))\n",
    "plt.legend()\n",
    "plt.show()"
   ]
  },
  {
   "cell_type": "markdown",
   "id": "dafc9774",
   "metadata": {},
   "source": [
    "## Cabin (Feature)"
   ]
  },
  {
   "cell_type": "code",
   "execution_count": null,
   "id": "b2920033",
   "metadata": {
    "scrolled": true
   },
   "outputs": [],
   "source": [
    "# The cabin number where the passenger is staying. Takes the form deck/num/side, \n",
    "# where side can be either P for Port or S for Starboard.\n",
    "\n",
    "print('Nulls Count Cabin:', data[data.Cabin.isnull()].shape[0], '\\n')\n",
    "print(data['Cabin'].head()) # PortSide/StarboardSide: Left/Right"
   ]
  },
  {
   "cell_type": "markdown",
   "id": "0e613468",
   "metadata": {},
   "source": [
    "#### FillNa (GroupId Approach)"
   ]
  },
  {
   "cell_type": "code",
   "execution_count": null,
   "id": "166eb9e4",
   "metadata": {},
   "outputs": [],
   "source": [
    "# GroupID DIM table for completing NA values\n",
    "GroupId_DIM = data[['GroupId', 'Cabin']].drop_duplicates(subset='GroupId').set_index('GroupId').squeeze()\n",
    "display(GroupId_DIM.head())\n",
    "\n",
    "data.Cabin.fillna('GroupId_DIM')\n",
    "\n",
    "# SQL Merge (should be an easier way for sure)\n",
    "data.loc[data.Cabin.isnull(), 'Cabin']= pd.merge(left=data.loc[data.Cabin.isnull()][['GroupId', 'Cabin']],\n",
    "         right=GroupId_DIM,\n",
    "         how='left',\n",
    "         left_on='GroupId',\n",
    "         right_index=True\n",
    "        )['Cabin_y']\n",
    "\n",
    "print('Nulls Count Cabin:', data[data.Cabin.isnull()].shape[0], '\\n')\n",
    "\n",
    "# There will be another fillna() for each individual fature after split (Deck, Num, Side)"
   ]
  },
  {
   "cell_type": "markdown",
   "id": "28de1f55",
   "metadata": {},
   "source": [
    "#### Split (Cabin)"
   ]
  },
  {
   "cell_type": "code",
   "execution_count": null,
   "id": "fc5b4e93",
   "metadata": {
    "scrolled": true
   },
   "outputs": [],
   "source": [
    "col_names = ['Deck', 'Num', 'Side']\n",
    "data_Cabin = data['Cabin'].str.split('/', expand=True).set_axis(col_names, axis=1)\n",
    "\n",
    "# Converting Num to Int\n",
    "data_Cabin.loc[data_Cabin.Num.notnull(), 'Num'] = \\\n",
    "                data_Cabin.loc[data_Cabin.Num.notnull()].Num.astype(int) # Probably there is an easier way\n",
    "\n",
    "display(data_Cabin)\n",
    "\n",
    "# Concat\n",
    "data = pd.concat([data, data_Cabin], axis=1)"
   ]
  },
  {
   "cell_type": "markdown",
   "id": "154dc0ae",
   "metadata": {},
   "source": [
    "## Deck (Created Feature)"
   ]
  },
  {
   "cell_type": "code",
   "execution_count": null,
   "id": "29451446",
   "metadata": {
    "scrolled": true
   },
   "outputs": [],
   "source": [
    "# Working but ugly\n",
    "print(data['Deck'].value_counts(dropna=False))\n",
    "\n",
    "fig, ax = plt.subplots(1, 1, figsize=(8, 3))\n",
    "sns.countplot(y=data['Deck'], palette='Set2', order=data['Deck'].value_counts().index)\n",
    "ax.set_ylabel('')\n",
    "ax.set_xlabel('')\n",
    "\n",
    "plt.title('Count by Deck')\n",
    "plt.show()\n",
    "\n",
    "# 199 nulls"
   ]
  },
  {
   "cell_type": "markdown",
   "id": "8a60e9ab",
   "metadata": {},
   "source": [
    "## Side (Created Feature)"
   ]
  },
  {
   "cell_type": "code",
   "execution_count": null,
   "id": "0af4cd1b",
   "metadata": {
    "scrolled": true
   },
   "outputs": [],
   "source": [
    "print(data.Side.value_counts(dropna=False), '\\n')\n",
    "\n",
    "# Plot\n",
    "fix, ax = plt.subplots(1, 2, figsize=(10, 2))\n",
    "\n",
    "# PieChart\n",
    "data['Side'].value_counts(dropna=False).sort_index(ascending=False). \\\n",
    "                    plot(kind='pie', autopct='%.1f%%', ax=ax[0], startangle=270, cmap='Set2', textprops={'fontsize':8})\n",
    "ax[0].set_ylabel('')\n",
    "ax[0].set_title('Distribution')\n",
    "\n",
    "# CountPlot\n",
    "sns.countplot(y=data['Side'], hue=data['Transported'], ax=ax[1], hue_order=[True, False])\n",
    "ax[1].set_ylabel('')\n",
    "ax[1].set_xlabel('')\n",
    "ax[1].set_title('Count and Comparison w/Target')\n",
    "plt.show()\n",
    "\n",
    "# Same # nulls as Deck, maybe are related?\n",
    "print('Nulls for Deck, Side and Num are the same:', \\\n",
    "      data[data.Deck.isnull() & data.Side.isnull() & data.Num.isnull()].shape[0]) # 134 = All the same"
   ]
  },
  {
   "cell_type": "markdown",
   "id": "ca4882b4",
   "metadata": {},
   "source": [
    "## Num (Created Feature)"
   ]
  },
  {
   "cell_type": "code",
   "execution_count": null,
   "id": "0d18802b",
   "metadata": {},
   "outputs": [],
   "source": [
    "print('Nulls:', data['Num'].isnull().sum(), '\\n')\n",
    "\n",
    "# Checking boat simetry\n",
    "Cabin_P_F = data[(data.Side=='P') & (data.Deck=='F')].groupby(['Side', 'Deck', 'Num']).size().to_frame('Count')\n",
    "Cabin_S_F = data[(data.Side=='S') & (data.Deck=='F')].groupby(['Side', 'Deck', 'Num']).size().to_frame('Count')\n",
    "\n",
    "display(Cabin_P_F)\n",
    "display(Cabin_S_F)"
   ]
  },
  {
   "cell_type": "markdown",
   "id": "d756ae38",
   "metadata": {},
   "source": [
    "## Destination (Feature)"
   ]
  },
  {
   "cell_type": "code",
   "execution_count": null,
   "id": "c0083439",
   "metadata": {
    "scrolled": true
   },
   "outputs": [],
   "source": [
    "print(data['Destination'].value_counts(dropna=False), '\\n')\n",
    "\n",
    "# Plots\n",
    "fig, ax = plt.subplots(1, 2, figsize=(12, 2))\n",
    "\n",
    "# PieChart\n",
    "data['Destination'].value_counts(dropna=False).plot(kind='pie', autopct='%.1f%%', ax=ax[0], startangle=90, \\\n",
    "                                                    cmap='Set2', textprops={'fontsize':8})\n",
    "ax[0].set_ylabel('')\n",
    "ax[0].set_title('Distribution')\n",
    "\n",
    "# CountPlot\n",
    "sns.countplot(y=data['Destination'], order=data['Destination'].value_counts().index, ax=ax[1], hue=data['Transported'])\n",
    "ax[1].set_ylabel('')\n",
    "ax[1].set_title('Count and Comparison w/Target')\n",
    "\n",
    "plt.suptitle('Destination')\n",
    "plt.show()\n",
    "\n",
    "# Similar to HomePlanet. Most passengers heading TRAPPIST-1e, 182 Nulls\n",
    "# 55 Cancri e looks like they have a better Transported Rate"
   ]
  },
  {
   "cell_type": "markdown",
   "id": "a6ffada4",
   "metadata": {},
   "source": [
    "## Age (Feature)"
   ]
  },
  {
   "cell_type": "code",
   "execution_count": null,
   "id": "774ddd6c",
   "metadata": {
    "scrolled": false
   },
   "outputs": [],
   "source": [
    "print('Nulls:', data['Age'].isnull().sum())\n",
    "print(\"Skewness: %f\" % data['Age'].skew(), '\\n') # Right\n",
    "print(data['Age'].describe())\n",
    "\n",
    "# Plots\n",
    "fig,ax=plt.subplots(1,1,figsize=(18,4))\n",
    "sns.histplot(data=data['Age'], binwidth=5)\n",
    "\n",
    "plt.title('Age')\n",
    "plt.show()\n",
    "\n",
    "# To descritize this one?"
   ]
  },
  {
   "cell_type": "markdown",
   "id": "c41fc4ac",
   "metadata": {},
   "source": [
    "## VIP (Feature)"
   ]
  },
  {
   "cell_type": "code",
   "execution_count": null,
   "id": "8b267723",
   "metadata": {
    "scrolled": false
   },
   "outputs": [],
   "source": [
    "print(data['VIP'].value_counts(dropna=False).sort_index(ascending=False), '\\n')\n",
    "\n",
    "# Plot\n",
    "fig,ax=plt.subplots(1,2,figsize=(12,2))\n",
    "\n",
    "# ax[0]\n",
    "data['VIP'].value_counts(dropna=False).plot(kind='pie', autopct='%.1f%%', startangle=90, cmap='Set2', \\\n",
    "                                            ax=ax[0], textprops={'fontsize':8})\n",
    "ax[0].set_ylabel('')\n",
    "ax[0].set_title('Distribution')\n",
    "\n",
    "# ax[1]\n",
    "sns.countplot(y=data['VIP'], hue=data['Transported'], order=[True, False], hue_order=[True, False], ax=ax[1])\n",
    "ax[1].set_ylabel('')\n",
    "ax[1].set_title('Count and Comparison w/Target')\n",
    "fig.suptitle('VIP')\n",
    "plt.show()\n",
    "\n",
    "# Few VIPS and few Nulls, nothing important here"
   ]
  },
  {
   "cell_type": "markdown",
   "id": "c768c199",
   "metadata": {},
   "source": [
    "## Name (Feature)"
   ]
  },
  {
   "cell_type": "code",
   "execution_count": null,
   "id": "8d87bed7",
   "metadata": {
    "scrolled": true
   },
   "outputs": [],
   "source": [
    "print('Nulls:', data['Name'].isnull().sum(), '\\n')\n",
    "print(data['Name'].value_counts())\n",
    "\n",
    "# 200 nulls, couple of name repeted"
   ]
  },
  {
   "cell_type": "markdown",
   "id": "ad8d02fc",
   "metadata": {},
   "source": [
    " ## RoomService (Feature)"
   ]
  },
  {
   "cell_type": "code",
   "execution_count": null,
   "id": "fa671951",
   "metadata": {
    "scrolled": true
   },
   "outputs": [],
   "source": [
    "print('Nulls:', data['RoomService'].isnull().sum(), '\\n')\n",
    "print(data['RoomService'].describe())\n",
    "\n",
    "# Plot\n",
    "fig, ax = plt.subplots(2, 1, figsize=(10, 2))\n",
    "\n",
    "# ax[0]\n",
    "sns.boxplot(x=data['RoomService'], showfliers=True, ax=ax[0])\n",
    "ax[0].set_ylabel('')\n",
    "\n",
    "# ax[1]\n",
    "sns.boxplot(x=data['RoomService'], showfliers=False, ax=ax[1])\n",
    "ax[1].set_ylabel('')\n",
    "\n",
    "fig.suptitle('RoomService with and without Outliers')\n",
    "plt.show()\n",
    "\n",
    "# ax[0] xticks shold be added"
   ]
  },
  {
   "cell_type": "markdown",
   "id": "0c2f4423",
   "metadata": {},
   "source": [
    "## FoodCourt (Feature)"
   ]
  },
  {
   "cell_type": "code",
   "execution_count": null,
   "id": "121be00c",
   "metadata": {
    "scrolled": false
   },
   "outputs": [],
   "source": [
    "print('Nulls:', data['FoodCourt'].isnull().sum(), '\\n')\n",
    "print(data['FoodCourt'].describe())\n",
    "\n",
    "# Plot\n",
    "fig, ax = plt.subplots(2, 1, figsize=(8, 2))\n",
    "\n",
    "# ax[0]\n",
    "sns.boxplot(x=data['FoodCourt'], showfliers=True, ax=ax[0])\n",
    "ax[0].set_ylabel('')\n",
    "\n",
    "# ax[1]\n",
    "sns.boxplot(x=data['FoodCourt'], showfliers=False, ax=ax[1])\n",
    "ax[1].set_ylabel('')\n",
    "\n",
    "fig.suptitle('FoodCourt with and without Outliers')\n",
    "plt.show()\n",
    "\n",
    "# ax[0] xticks shold be added"
   ]
  },
  {
   "cell_type": "markdown",
   "id": "7c5536ba",
   "metadata": {},
   "source": [
    "## ShoppingMall (Feature)"
   ]
  },
  {
   "cell_type": "code",
   "execution_count": null,
   "id": "b7d6c0da",
   "metadata": {
    "scrolled": true
   },
   "outputs": [],
   "source": [
    "print('Nulls:', data['ShoppingMall'].isnull().sum(), '\\n')\n",
    "print(data['ShoppingMall'].describe())\n",
    "\n",
    "# Plot\n",
    "fig, ax = plt.subplots(2, 1, figsize=(8, 2))\n",
    "\n",
    "# ax[0]\n",
    "sns.boxplot(x=data['ShoppingMall'], showfliers=True, ax=ax[0])\n",
    "ax[0].set_ylabel('')\n",
    "\n",
    "# ax[1]\n",
    "sns.boxplot(x=data['ShoppingMall'], showfliers=False, ax=ax[1])\n",
    "ax[1].set_ylabel('')\n",
    "\n",
    "fig.suptitle('ShoppingMall with and without Outliers')\n",
    "plt.show()\n",
    "\n",
    "# ax[0] xticks shold be added"
   ]
  },
  {
   "cell_type": "markdown",
   "id": "12e2b141",
   "metadata": {},
   "source": [
    "## Spa (Feature)"
   ]
  },
  {
   "cell_type": "code",
   "execution_count": null,
   "id": "2faf9f4f",
   "metadata": {
    "scrolled": true
   },
   "outputs": [],
   "source": [
    "print('Nulls:', data['Spa'].isnull().sum(), '\\n')\n",
    "print(data['Spa'].describe())\n",
    "\n",
    "# Plot\n",
    "fig, ax = plt.subplots(2, 1, figsize=(8, 2))\n",
    "\n",
    "# ax[0]\n",
    "sns.boxplot(x=data['Spa'], showfliers=True, ax=ax[0])\n",
    "ax[0].set_ylabel('')\n",
    "\n",
    "# ax[1]\n",
    "sns.boxplot(x=data['Spa'], showfliers=False, ax=ax[1])\n",
    "ax[1].set_ylabel('')\n",
    "\n",
    "fig.suptitle('Spa with and without Outliers')\n",
    "plt.show()\n",
    "\n",
    "# ax[0] xticks shold be added"
   ]
  },
  {
   "cell_type": "markdown",
   "id": "dcecb41d",
   "metadata": {},
   "source": [
    "## VRDeck (Feature)"
   ]
  },
  {
   "cell_type": "code",
   "execution_count": null,
   "id": "15df860e",
   "metadata": {
    "scrolled": false
   },
   "outputs": [],
   "source": [
    "print('Nulls:', data['VRDeck'].isnull().sum(), '\\n')\n",
    "print(data['VRDeck'].describe())\n",
    "\n",
    "# Plot\n",
    "fig, ax = plt.subplots(2, 1, figsize=(8, 2))\n",
    "\n",
    "# ax[0]\n",
    "sns.boxplot(x=data['VRDeck'], showfliers=True, ax=ax[0])\n",
    "ax[0].set_ylabel('')\n",
    "\n",
    "# ax[1]\n",
    "sns.boxplot(x=data['VRDeck'], showfliers=False, ax=ax[1])\n",
    "ax[1].set_ylabel('')\n",
    "\n",
    "fig.suptitle('VRDeck with and without Outliers')\n",
    "plt.show()\n",
    "\n",
    "# ax[0] xticks shold be added"
   ]
  },
  {
   "cell_type": "markdown",
   "id": "19669266",
   "metadata": {},
   "source": [
    "# Spa (Feature)"
   ]
  },
  {
   "cell_type": "code",
   "execution_count": null,
   "id": "4bb733b8",
   "metadata": {},
   "outputs": [],
   "source": [
    "print('Nulls:', data['Spa'].isnull().sum(), '\\n')\n",
    "print(data['Spa'].describe())\n",
    "\n",
    "# Plot\n",
    "fig, ax = plt.subplots(2, 1, figsize=(8, 2))\n",
    "\n",
    "# ax[0]\n",
    "sns.boxplot(x=data['Spa'], showfliers=True, ax=ax[0])\n",
    "ax[0].set_ylabel('')\n",
    "\n",
    "# ax[1]\n",
    "sns.boxplot(x=data['Spa'], showfliers=False, ax=ax[1])\n",
    "ax[1].set_ylabel('')\n",
    "\n",
    "fig.suptitle('Spa with and without Outliers')\n",
    "plt.show()\n",
    "\n",
    "# ax[0] xticks shold be added\n",
    "# Weird values, probably we will ignore this Feature"
   ]
  },
  {
   "cell_type": "markdown",
   "id": "135fc630",
   "metadata": {},
   "source": [
    "## Continuous Features Comparation (PairPlot)"
   ]
  },
  {
   "cell_type": "code",
   "execution_count": null,
   "id": "d9b847ed",
   "metadata": {
    "scrolled": false
   },
   "outputs": [],
   "source": [
    "# Complete NA values with 0\n",
    "data_plot = pd.concat([data.select_dtypes(['float64']).fillna(0), data['Transported']], axis=1)\n",
    "\n",
    "# Plot\n",
    "sns.pairplot(data=data_plot, hue='Transported', hue_order=[True, False])\n",
    "plt.show()\n",
    "\n",
    "# Passangers with no expenses on Spa either VRDeck, are mostly in Cryo (ofc, they are sleeping)\n",
    "# Probably creating a new single feature for expenses could improve the model performance"
   ]
  },
  {
   "cell_type": "markdown",
   "id": "31144e51",
   "metadata": {},
   "source": [
    "# Correcting and Completing Nulls"
   ]
  },
  {
   "cell_type": "markdown",
   "id": "0b99256a",
   "metadata": {},
   "source": [
    "## HomePlanet (Feature)"
   ]
  },
  {
   "cell_type": "code",
   "execution_count": null,
   "id": "74b2a2e2",
   "metadata": {},
   "outputs": [],
   "source": [
    "# Counting and Checking nulls\n",
    "print('Nulls Count:', data[data.HomePlanet.isnull()].shape[0], '\\n')"
   ]
  },
  {
   "cell_type": "markdown",
   "id": "ff3881cc",
   "metadata": {},
   "source": [
    "#### Groups Approach"
   ]
  },
  {
   "cell_type": "code",
   "execution_count": null,
   "id": "ec110d2e",
   "metadata": {
    "scrolled": false
   },
   "outputs": [],
   "source": [
    "# Passangers in Groups\n",
    "display('Passengers in groups', data[data.HomePlanet.isnull() & ~(data.IsAlone)]\n",
    "        [['PassengerId', 'HomePlanet', 'IsAlone']].head())\n",
    "print('In groups with other passengers',data[data.HomePlanet.isnull() & ~(data.IsAlone)].shape[0])\n",
    "\n",
    "# We can get HomePlanet from GroupId for almost 50% of NA. Lets check if this is a valid approach"
   ]
  },
  {
   "cell_type": "code",
   "execution_count": null,
   "id": "4adaf7e3",
   "metadata": {
    "scrolled": true
   },
   "outputs": [],
   "source": [
    "# Lets confirm all members of each group departed from the same HomePlanet\n",
    "\n",
    "data_grp_groupid_homeplanet = data.groupby(['GroupId', 'HomePlanet']).size().to_frame('Count').reset_index()\n",
    "display(data_grp_groupid_homeplanet.head())\n",
    "\n",
    "# There are no duplicated GroupId, so all are from the same HomePlanet\n",
    "print('Is GroupId unique?:', data_grp_groupid_homeplanet.GroupId.is_unique)\n",
    "\n",
    "# Filling Passangers in Groups with value from same GroupId\n",
    "data.loc[:, 'HomePlanet'] = data.sort_values(by=['GroupId', 'HomePlanet'])['HomePlanet'].fillna(method='ffill')\n",
    "print('Nulls Count HomePlanet:', data.HomePlanet.isnull().sum())"
   ]
  },
  {
   "cell_type": "markdown",
   "id": "b1336a7a",
   "metadata": {},
   "source": [
    "#### Mode Approach"
   ]
  },
  {
   "cell_type": "code",
   "execution_count": null,
   "id": "d7aab47f",
   "metadata": {},
   "outputs": [],
   "source": [
    "# Filling Solo Travelers with the mode # Not Necesary, nulls already 0\n",
    "# data.loc[data.HomePlanet.isnull() & data.IsAlone, 'HomePlanet'] = data.HomePlanet.mode()[0]\n",
    "\n",
    "# print('Nulls Count HomePlanet:', data.HomePlanet.isnull().sum())"
   ]
  },
  {
   "cell_type": "markdown",
   "id": "fd14521f",
   "metadata": {},
   "source": [
    "## CryoSleep (Feature)"
   ]
  },
  {
   "cell_type": "code",
   "execution_count": null,
   "id": "3a4c8adb",
   "metadata": {},
   "outputs": [],
   "source": [
    "# Counting and Checking nulls\n",
    "print('Nulls Count CryoSleep:', data[data.CryoSleep.isnull()].shape[0], '\\n')"
   ]
  },
  {
   "cell_type": "markdown",
   "id": "94db0388",
   "metadata": {},
   "source": [
    "#### Amenites Approcah"
   ]
  },
  {
   "cell_type": "code",
   "execution_count": null,
   "id": "beb49425",
   "metadata": {},
   "outputs": [],
   "source": [
    "# Users spending money onboard are not in Cryo\n",
    "mask_amenities_expenses = (data.RoomService>0) | (data.FoodCourt>0) | (data.ShoppingMall>0) | (data.VRDeck>0)\n",
    "data.loc[mask_amenities_expenses & data.CryoSleep.isnull(), 'CryoSleep'] = False\n",
    "\n",
    "print('Nulls Count CryoSleep:', data[data.CryoSleep.isnull()].shape[0], '\\n')"
   ]
  },
  {
   "cell_type": "markdown",
   "id": "6d36a2a7",
   "metadata": {},
   "source": [
    "#### Transported Approach"
   ]
  },
  {
   "cell_type": "code",
   "execution_count": null,
   "id": "14f812cd",
   "metadata": {
    "scrolled": true
   },
   "outputs": [],
   "source": [
    "# Set True for Transported Passengers. Is this a good approach? Or is this a Data Leak?\n",
    "\n",
    "display(data.loc[data.CryoSleep.isnull() & data.Transported][['CryoSleep', 'Transported']])\n",
    "data.loc[data.CryoSleep.isnull() & data.Transported, 'CryoSleep'] = True\n",
    "\n",
    "print('\\nNulls Count CryoSleep:', data[data.CryoSleep.isnull()].shape[0], '\\n')"
   ]
  },
  {
   "cell_type": "markdown",
   "id": "aede0e12",
   "metadata": {},
   "source": [
    "#### VIP Approach"
   ]
  },
  {
   "cell_type": "code",
   "execution_count": null,
   "id": "840f41c9",
   "metadata": {
    "scrolled": true
   },
   "outputs": [],
   "source": [
    "# Set to False for VIPs, any there are just 2\n",
    "print(data[data.CryoSleep.isnull()].VIP.value_counts())\n",
    "data.loc[data.CryoSleep.isnull() & data.VIP, 'CryoSleep'] = False\n",
    "\n",
    "print('\\nNulls Count CryoSleep:', data[data.CryoSleep.isnull()].shape[0], '\\n')"
   ]
  },
  {
   "cell_type": "markdown",
   "id": "4da6972d",
   "metadata": {},
   "source": [
    "#### Mode Approach"
   ]
  },
  {
   "cell_type": "code",
   "execution_count": null,
   "id": "af0f17c4",
   "metadata": {},
   "outputs": [],
   "source": [
    "# For the rest\n",
    "data['CryoSleep'].fillna(data['CryoSleep'].mode()[0], inplace=True)\n",
    "\n",
    "print('\\nNulls Count CryoSleep:', data[data.CryoSleep.isnull()].shape[0], '\\n')"
   ]
  },
  {
   "cell_type": "markdown",
   "id": "f548447c",
   "metadata": {},
   "source": [
    "## Destination (Feature)"
   ]
  },
  {
   "cell_type": "code",
   "execution_count": null,
   "id": "583be3b0",
   "metadata": {},
   "outputs": [],
   "source": [
    "print('Nulls Count Destination:', data[data.Destination.isnull()].shape[0], '\\n')"
   ]
  },
  {
   "cell_type": "markdown",
   "id": "ef17e92d",
   "metadata": {},
   "source": [
    "#### Mode Approach"
   ]
  },
  {
   "cell_type": "code",
   "execution_count": null,
   "id": "7bba3b80",
   "metadata": {
    "scrolled": true
   },
   "outputs": [],
   "source": [
    "data['Destination'].fillna(data['Destination'].mode()[0], inplace=True)\n",
    "print('Nulls Count Destination:', data[data.Destination.isnull()].shape[0], '\\n')"
   ]
  },
  {
   "cell_type": "markdown",
   "id": "663b98f1",
   "metadata": {},
   "source": [
    "## Age (Feature)"
   ]
  },
  {
   "cell_type": "code",
   "execution_count": null,
   "id": "35a8cb1b",
   "metadata": {
    "scrolled": true
   },
   "outputs": [],
   "source": [
    "print('Nulls Count Age:', data[data.Age.isnull()].shape[0], '\\n')"
   ]
  },
  {
   "cell_type": "markdown",
   "id": "4bb32d9c",
   "metadata": {},
   "source": [
    "#### Median Approach"
   ]
  },
  {
   "cell_type": "code",
   "execution_count": null,
   "id": "b43c8099",
   "metadata": {
    "scrolled": true
   },
   "outputs": [],
   "source": [
    "# Unnecessary, we will deal with Continuous Features later on\n",
    "\n",
    "# data['Age'].fillna(data['Age'].median(), inplace=True)\n",
    "\n",
    "# print('Nulls Count Age:', data[data.Age.isnull()].shape[0], '\\n')"
   ]
  },
  {
   "cell_type": "markdown",
   "id": "7e7f6044",
   "metadata": {},
   "source": [
    "## VIP (Feature)"
   ]
  },
  {
   "cell_type": "code",
   "execution_count": null,
   "id": "b3b7df60",
   "metadata": {},
   "outputs": [],
   "source": [
    "print('Nulls Count VIP:', data[data.VIP.isnull()].shape[0], '\\n')"
   ]
  },
  {
   "cell_type": "markdown",
   "id": "a2f7b982",
   "metadata": {},
   "source": [
    "#### Mode Approach"
   ]
  },
  {
   "cell_type": "code",
   "execution_count": null,
   "id": "097e6710",
   "metadata": {
    "scrolled": true
   },
   "outputs": [],
   "source": [
    "data['VIP'].fillna(data['VIP'].mode()[0], inplace=True)\n",
    "print('Nulls Count VIP:', data[data.VIP.isnull()].shape[0], '\\n')"
   ]
  },
  {
   "cell_type": "markdown",
   "id": "b90aa568",
   "metadata": {},
   "source": [
    "## Age & Amenities (Continuous Features)"
   ]
  },
  {
   "cell_type": "code",
   "execution_count": null,
   "id": "a24dfbc7",
   "metadata": {},
   "outputs": [],
   "source": [
    "continuous_cols = ['RoomService', 'FoodCourt', 'ShoppingMall', 'VRDeck', 'Age'] #Age?\n",
    "\n",
    "print('Nulls Count Amenities:', data[continuous_cols].isnull().sum())"
   ]
  },
  {
   "cell_type": "markdown",
   "id": "d6bf3989",
   "metadata": {},
   "source": [
    "#### Median Approach"
   ]
  },
  {
   "cell_type": "code",
   "execution_count": null,
   "id": "f31216a4",
   "metadata": {
    "scrolled": true
   },
   "outputs": [],
   "source": [
    "# Medians are 0, I'm not sure if this is a good approach\n",
    "\n",
    "for col in continuous_cols:\n",
    "    data[col].fillna(data[col].median(), inplace=True)\n",
    "\n",
    "\n",
    "print('Nulls Count Amenities:', data[continuous_cols].isnull().sum())"
   ]
  },
  {
   "cell_type": "markdown",
   "id": "d897d65b",
   "metadata": {},
   "source": [
    "## Deck, Num, Side (Created Features)"
   ]
  },
  {
   "cell_type": "code",
   "execution_count": null,
   "id": "f974c40e",
   "metadata": {
    "scrolled": false
   },
   "outputs": [],
   "source": [
    "print('Nulls Count Deck:', data[data.Deck.isnull()].shape[0], '\\n')"
   ]
  },
  {
   "cell_type": "markdown",
   "id": "af1fe71f",
   "metadata": {},
   "source": [
    "#### DropNA"
   ]
  },
  {
   "cell_type": "code",
   "execution_count": null,
   "id": "17cfa892",
   "metadata": {
    "scrolled": false
   },
   "outputs": [],
   "source": [
    "data.dropna(subset='Deck', inplace=True)\n",
    "\n",
    "print('Nulls Count Deck:', data[data.Deck.isnull()].shape[0], '\\n')\n",
    "\n",
    "# Pending to try better approaches"
   ]
  },
  {
   "cell_type": "markdown",
   "id": "2341e917",
   "metadata": {},
   "source": [
    "# Features Selection and Convertion"
   ]
  },
  {
   "cell_type": "code",
   "execution_count": null,
   "id": "5168e3bd",
   "metadata": {
    "scrolled": true
   },
   "outputs": [],
   "source": [
    "X_cols = ['HomePlanet', 'CryoSleep', 'Destination', 'Age', 'VIP', 'RoomService', \n",
    "          'FoodCourt', 'ShoppingMall', 'VRDeck', 'GroupId', 'GroupSize', 'IsAlone', 'Deck', 'Num', 'Side']\n",
    "\n",
    "X = data[X_cols]\n",
    "y = data['Transported']\n",
    "\n",
    "print(X.info())\n",
    "print('Target size:', y.shape)"
   ]
  },
  {
   "cell_type": "markdown",
   "id": "67a24ae4",
   "metadata": {},
   "source": [
    "## Nominal Features "
   ]
  },
  {
   "cell_type": "code",
   "execution_count": null,
   "id": "48065f6c",
   "metadata": {
    "scrolled": true
   },
   "outputs": [],
   "source": [
    "nominal_cols = ['HomePlanet', 'CryoSleep', 'Destination', 'VIP', 'Side', 'Deck']\n",
    "X_nominals = data[nominal_cols].astype('category').reset_index(drop=True)\n",
    "print(X_nominals.info())\n",
    "\n",
    "# in doubt: IsAlone(correlated with GroupSize), Deck (Nominal?), Num (Ordinal?)"
   ]
  },
  {
   "cell_type": "markdown",
   "id": "adf3a424",
   "metadata": {},
   "source": [
    "#### Encoding"
   ]
  },
  {
   "cell_type": "code",
   "execution_count": null,
   "id": "78149d3f",
   "metadata": {},
   "outputs": [],
   "source": [
    "from sklearn.preprocessing import OneHotEncoder\n",
    "oh_encoder = OneHotEncoder(handle_unknown='infrequent_if_exist', sparse=False, drop='first')\n",
    "\n",
    "X_nominals_encoded = oh_encoder.fit_transform(X_nominals)\n",
    "X_nominals_encoded = pd.DataFrame\\\n",
    "    (X_nominals_encoded, columns=oh_encoder.get_feature_names_out()) # DF and column names\n",
    "\n",
    "display(X_nominals_encoded.head())\n",
    "\n",
    "# Is ok OneHot on Deck with cardinality of 9?"
   ]
  },
  {
   "cell_type": "markdown",
   "id": "dc0a8457",
   "metadata": {},
   "source": [
    "## Ordinal Features"
   ]
  },
  {
   "cell_type": "code",
   "execution_count": null,
   "id": "c96abe05",
   "metadata": {
    "scrolled": true
   },
   "outputs": [],
   "source": [
    "ordinal_cols = ['GroupSize']\n",
    "\n",
    "X_ordinals = data[ordinal_cols].astype('category').reset_index(drop=True)\n",
    "print(X_ordinals.info())"
   ]
  },
  {
   "cell_type": "markdown",
   "id": "5d3b40d4",
   "metadata": {},
   "source": [
    "#### Encoding"
   ]
  },
  {
   "cell_type": "code",
   "execution_count": null,
   "id": "299a51a7",
   "metadata": {},
   "outputs": [],
   "source": [
    "from sklearn.preprocessing import OrdinalEncoder\n",
    "ord_encoder = OrdinalEncoder(handle_unknown='use_encoded_value', unknown_value=np.nan)\n",
    "\n",
    "X_ordinals_encoded = ord_encoder.fit_transform(X_ordinals)\n",
    "X_ordinals_encoded = pd.DataFrame\\\n",
    "    (X_ordinals_encoded, columns=ord_encoder.get_feature_names_out()) # DF and column names\n",
    "\n",
    "display(X_ordinals_encoded.head())"
   ]
  },
  {
   "cell_type": "markdown",
   "id": "cdaf5748",
   "metadata": {},
   "source": [
    "## Quantitative Features"
   ]
  },
  {
   "cell_type": "code",
   "execution_count": null,
   "id": "dd0b22c9",
   "metadata": {
    "scrolled": true
   },
   "outputs": [],
   "source": [
    "X_continuous = data[continuous_cols].reset_index(drop=True)\n",
    "print(X_continuous.info())"
   ]
  },
  {
   "cell_type": "markdown",
   "id": "38b0b490",
   "metadata": {},
   "source": [
    "#### Encoding"
   ]
  },
  {
   "cell_type": "code",
   "execution_count": null,
   "id": "6901683e",
   "metadata": {
    "scrolled": false
   },
   "outputs": [],
   "source": [
    "from sklearn.preprocessing import KBinsDiscretizer\n",
    "\n",
    "kbins_encoder = KBinsDiscretizer(n_bins=10, encode='ordinal', strategy='quantile')\n",
    "\n",
    "X_continuous_encoded = kbins_encoder.fit_transform(X_continuous)\n",
    "X_continuous_encoded = pd.DataFrame(X_continuous_encoded, columns=kbins_encoder.get_feature_names_out()) # DF and column names\n",
    "display(X_continuous_encoded.head())\n",
    "\n",
    "# ain't sure if this is right"
   ]
  },
  {
   "cell_type": "markdown",
   "id": "d0bd872e",
   "metadata": {},
   "source": [
    "## Target Feature"
   ]
  },
  {
   "cell_type": "code",
   "execution_count": null,
   "id": "3f344ea8",
   "metadata": {},
   "outputs": [],
   "source": [
    "from sklearn.preprocessing import LabelEncoder\n",
    "lb_encoder = LabelEncoder()\n",
    "\n",
    "y_encoded = lb_encoder.fit_transform(data['Transported'])\n",
    "y_encoded = pd.Series(y_encoded, name='Transported')"
   ]
  },
  {
   "cell_type": "markdown",
   "id": "7ee31841",
   "metadata": {},
   "source": [
    "# Correlation"
   ]
  },
  {
   "cell_type": "code",
   "execution_count": null,
   "id": "d091c2b6",
   "metadata": {
    "scrolled": false
   },
   "outputs": [],
   "source": [
    "X_encoded = pd.concat([X_nominals_encoded, X_ordinals_encoded, X_continuous], axis=1)\n",
    "data_tmp = pd.concat([X_encoded, y_encoded], axis=1)\n",
    "\n",
    "sns.heatmap(data_tmp.corr(), vmin=-1, vmax=1, cmap='RdYlGn')\n",
    "plt.show()\n",
    "\n",
    "# Probably some decks can be put together?"
   ]
  },
  {
   "cell_type": "markdown",
   "id": "fe7ff45c",
   "metadata": {},
   "source": [
    "# Modeling"
   ]
  },
  {
   "cell_type": "markdown",
   "id": "3b0f577d",
   "metadata": {},
   "source": [
    "#### Pre-Procesing"
   ]
  },
  {
   "cell_type": "code",
   "execution_count": null,
   "id": "3f9216f1",
   "metadata": {},
   "outputs": [],
   "source": [
    "from sklearn.model_selection import train_test_split\n",
    "from sklearn.model_selection import RandomizedSearchCV, RepeatedStratifiedKFold\n",
    "from sklearn.metrics import confusion_matrix, classification_report\n",
    "\n",
    "# Folds\n",
    "cv = RepeatedStratifiedKFold(n_splits=5, n_repeats=3)"
   ]
  },
  {
   "cell_type": "markdown",
   "id": "fa558343",
   "metadata": {},
   "source": [
    "#### Standarization"
   ]
  },
  {
   "cell_type": "code",
   "execution_count": null,
   "id": "3d38ed42",
   "metadata": {},
   "outputs": [],
   "source": [
    "from sklearn.preprocessing import StandardScaler\n",
    "\n",
    "scaler = StandardScaler().fit(X_encoded[continuous_cols])\n",
    "X_encoded[continuous_cols] = scaler.transform(X_encoded[continuous_cols]) # Comment for skipping Normalization\n",
    "\n",
    "# Split\n",
    "Xtrain, Xtest, ytrain, ytest = train_test_split(X_encoded, y_encoded)"
   ]
  },
  {
   "cell_type": "markdown",
   "id": "29e26449",
   "metadata": {},
   "source": [
    "## Lazy Predict"
   ]
  },
  {
   "cell_type": "code",
   "execution_count": null,
   "id": "58ac70d4",
   "metadata": {
    "scrolled": true
   },
   "outputs": [],
   "source": [
    "# pip install lazypredict\n",
    "\n",
    "import lazypredict\n",
    "from lazypredict.Supervised import LazyClassifier\n",
    "from sklearn.metrics import precision_score, accuracy_score, recall_score\n",
    "\n",
    "models, predictions = LazyClassifier().fit(Xtrain, Xtest, ytrain, ytest)\n",
    "display(models)\n",
    "\n",
    "\n",
    "# Quick look at the performance of various models\n",
    "# PipeLines pending"
   ]
  },
  {
   "cell_type": "markdown",
   "id": "d0594096",
   "metadata": {},
   "source": [
    "## LGBMClassifier"
   ]
  },
  {
   "cell_type": "code",
   "execution_count": null,
   "id": "81d17bd8",
   "metadata": {},
   "outputs": [],
   "source": [
    "import lightgbm as lgb\n",
    "\n",
    "# Hyper\n",
    "boosting_type = ['gbdt', 'dart', 'goss', 'rf']\n",
    "num_leaves = np.arange(50, 150, 1)\n",
    "learning_rate = np.arange(.01, .1, .01)\n",
    "param_grid = dict(boosting_type=boosting_type, num_leaves=num_leaves, learning_rate=learning_rate)\n",
    "\n",
    "# Model\n",
    "model_lgbm = RandomizedSearchCV(estimator=lgb.LGBMClassifier(), param_distributions=param_grid, cv=cv)\n",
    "model_lgbm.fit(Xtrain, ytrain)\n",
    "ypred = model_lgbm.predict(Xtest)\n",
    "\n",
    "# Print Scores\n",
    "print(classification_report(ytest, ypred), '\\n')\n",
    "print('Best Score:', model_lgbm.best_score_)\n",
    "print('Best HyperParameters:', model_lgbm.best_params_, '\\n')\n",
    "\n",
    "# Confusion Matrix\n",
    "fig, ax = plt.subplots(1, 1, figsize=(6, 4))\n",
    "sns.heatmap(confusion_matrix(ytest, ypred), annot=True, fmt='d')\n",
    "plt.title('Confusion Matrix')\n",
    "plt.show()"
   ]
  },
  {
   "cell_type": "markdown",
   "id": "bf27ef90",
   "metadata": {},
   "source": [
    "## KNN"
   ]
  },
  {
   "cell_type": "code",
   "execution_count": null,
   "id": "a2b358ff",
   "metadata": {
    "scrolled": true
   },
   "outputs": [],
   "source": [
    "from sklearn.neighbors import KNeighborsClassifier\n",
    "\n",
    "# Hyper\n",
    "n_neighbros = np.arange(1, 31, 1)\n",
    "weights = ['uniform', 'distance']\n",
    "param_grid = dict(n_neighbors=n_neighbros, weights=weights)\n",
    "\n",
    "# Model\n",
    "model_knn = RandomizedSearchCV(estimator=KNeighborsClassifier(), \n",
    "                               param_distributions=param_grid, cv=cv)\n",
    "model_knn.fit(Xtrain, ytrain)\n",
    "ypred = model_knn.predict(Xtest)\n",
    "\n",
    "# Print Scores\n",
    "print(classification_report(ytest, ypred), '\\n')\n",
    "print('Best Score:', model_knn.best_score_)\n",
    "print('Best HyperParameters:', model_knn.best_params_, '\\n')\n",
    "\n",
    "# Confusion Matrix\n",
    "# fig, ax = plt.subplots(1, 1, figsize=(4, 4))\n",
    "# sns.heatmap(confusion_matrix(ytest, ypred), annot=True, fmt='d')\n",
    "# plt.title('Confusion Matrix')\n",
    "# plt.show()"
   ]
  },
  {
   "cell_type": "markdown",
   "id": "092c30af",
   "metadata": {},
   "source": [
    "# Naive-Bayes"
   ]
  },
  {
   "cell_type": "code",
   "execution_count": null,
   "id": "7a895e01",
   "metadata": {
    "scrolled": true
   },
   "outputs": [],
   "source": [
    "from sklearn.naive_bayes import GaussianNB\n",
    "\n",
    "# Model\n",
    "model_NB = GaussianNB()\n",
    "model_NB.fit(Xtrain, ytrain)\n",
    "ypred = model_NB.predict(Xtest)\n",
    "\n",
    "# Print Scores\n",
    "print(classification_report(ytest, ypred), '\\n')\n",
    "\n",
    "# Confusion Matrix\n",
    "# fig, ax = plt.subplots(1, 1, figsize=(4, 4))\n",
    "# sns.heatmap(confusion_matrix(ytest, ypred), annot=True, fmt='d')\n",
    "# plt.title('Confusion Matrix')\n",
    "# plt.show()"
   ]
  },
  {
   "cell_type": "markdown",
   "id": "4f55ca5e",
   "metadata": {},
   "source": [
    "## Logistic Regresion"
   ]
  },
  {
   "cell_type": "code",
   "execution_count": null,
   "id": "92c111d4",
   "metadata": {
    "scrolled": true
   },
   "outputs": [],
   "source": [
    "from sklearn.linear_model import LogisticRegression\n",
    "\n",
    "# Hyper\n",
    "penalty = ['none', 'l2', 'l1', 'elasticnet']\n",
    "C = [0.001, 0.01, 0.1, 1, 10, 100, 1000]\n",
    "param_grid = dict(penalty=penalty, C=C)\n",
    "\n",
    "# Model\n",
    "model_LR = RandomizedSearchCV(estimator=LogisticRegression(), param_distributions=param_grid)\n",
    "model_LR.fit(Xtrain, ytrain)\n",
    "ypred = model_LR.predict(Xtest)\n",
    "\n",
    "# Print Scores\n",
    "print(classification_report(ytest, ypred), '\\n')\n",
    "print('Best Score:', model_LR.best_score_)\n",
    "print('Best HyperParameters:', model_LR.best_params_, '\\n')\n",
    "\n",
    "# Confusion Matrix\n",
    "# fig, ax = plt.subplots(1, 1, figsize=(4, 4))\n",
    "# sns.heatmap(confusion_matrix(ytest, ypred), annot=True, fmt='d')\n",
    "# plt.title('Confusion Matrix')\n",
    "# plt.show()"
   ]
  },
  {
   "cell_type": "markdown",
   "id": "9d3b1494",
   "metadata": {},
   "source": [
    "## Random Forest"
   ]
  },
  {
   "cell_type": "code",
   "execution_count": null,
   "id": "ddc0d598",
   "metadata": {
    "scrolled": false
   },
   "outputs": [],
   "source": [
    "# from sklearn.preprocessing import StandardScaler\n",
    "\n",
    "# scaler = StandardScaler().fit(X_encoded[continuous_cols])\n",
    "# # X_encoded.loc[continuous_cols]\n",
    "\n",
    "# # X_encoded[continuous_cols] = scaler.transform(X_encoded[continuous_cols])\n",
    "\n",
    "# # Split\n",
    "# Xtrain, Xtest, ytrain, ytest = train_test_split(X_encoded, y_encoded)\n",
    "from sklearn.ensemble import RandomForestClassifier\n",
    "\n",
    "# Hyper\n",
    "n_estimators = np.arange(50, 151, 1)\n",
    "criterion = ['gini', 'entropy', 'log_loss']\n",
    "min_samples_leaf = [1, 2, 3]\n",
    "max_features = ['auto', 'sqrt', 'log2']\n",
    "param_grid = dict(n_estimators=n_estimators, criterion=criterion, max_features=max_features)\n",
    "\n",
    "# Model\n",
    "model_RF = RandomizedSearchCV(estimator=RandomForestClassifier(), param_distributions=param_grid, cv=3)\n",
    "model_RF.fit(Xtrain, ytrain)\n",
    "ypred = model_RF.predict(Xtest)\n",
    "\n",
    "# Print Scores\n",
    "print(classification_report(ytest, ypred), '\\n')\n",
    "print('Best Score:', model_RF.best_score_)\n",
    "print('Best HyperParameters:', model_RF.best_params_, '\\n')\n",
    "\n",
    "# Confusion Matrix\n",
    "# fig, ax = plt.subplots(1, 1, figsize=(4, 4))\n",
    "# sns.heatmap(confusion_matrix(ytest, ypred), annot=True, fmt='d')\n",
    "# plt.title('Confusion Matrix')\n",
    "# plt.show()"
   ]
  },
  {
   "cell_type": "markdown",
   "id": "70d9cd80",
   "metadata": {},
   "source": [
    "# Submission"
   ]
  },
  {
   "cell_type": "code",
   "execution_count": null,
   "id": "1bd68891",
   "metadata": {
    "scrolled": true
   },
   "outputs": [],
   "source": [
    "sample = pd.read_csv('Data/sample_submission.csv')\n",
    "results = pd.read_csv('train_stand.csv')\n",
    "results.drop(columns=['Side_nan', 'Deck_nan', 'Unnamed: 0'], inplace=True)\n",
    "print('test set:', results.shape)\n",
    "print('X set:', X_encoded.shape)\n",
    "print('y set:', y_encoded.shape)"
   ]
  },
  {
   "cell_type": "code",
   "execution_count": null,
   "id": "e0ea1989",
   "metadata": {
    "scrolled": true
   },
   "outputs": [],
   "source": [
    "model = lgb.LGBMClassifier(boosting_type='dart', learning_rate=.09, num_leaves=68)\n",
    "model.fit(X_encoded, y_encoded)\n",
    "ypred = model.predict(results)"
   ]
  },
  {
   "cell_type": "code",
   "execution_count": null,
   "id": "d25fba5e",
   "metadata": {
    "scrolled": true
   },
   "outputs": [],
   "source": [
    "sample.loc[:, 'Transported'] = ypred.astype(bool)\n",
    "sample.set_index('PassengerId', inplace=True)\n",
    "# sample.to_csv('submision.csv')\n"
   ]
  }
 ],
 "metadata": {
  "kernelspec": {
   "display_name": "Python 3 (ipykernel)",
   "language": "python",
   "name": "python3"
  },
  "language_info": {
   "codemirror_mode": {
    "name": "ipython",
    "version": 3
   },
   "file_extension": ".py",
   "mimetype": "text/x-python",
   "name": "python",
   "nbconvert_exporter": "python",
   "pygments_lexer": "ipython3",
   "version": "3.10.4"
  }
 },
 "nbformat": 4,
 "nbformat_minor": 5
}
