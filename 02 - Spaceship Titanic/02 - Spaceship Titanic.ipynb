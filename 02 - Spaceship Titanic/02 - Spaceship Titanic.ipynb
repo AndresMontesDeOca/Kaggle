{
 "cells": [
  {
   "cell_type": "markdown",
   "id": "bb1ecb49",
   "metadata": {},
   "source": [
    "# Spaceshift Titanic"
   ]
  },
  {
   "cell_type": "markdown",
   "id": "2e46d63e",
   "metadata": {},
   "source": [
    "# LogBook"
   ]
  },
  {
   "cell_type": "code",
   "execution_count": null,
   "id": "a67abe7b",
   "metadata": {},
   "outputs": [],
   "source": [
    "# 10/07/22 --> Notebook Creation\n",
    "\n",
    "# Author: Andres Montes de Oca\n",
    "# GitHub: https://github.com/AndresMontesDeOca"
   ]
  },
  {
   "cell_type": "markdown",
   "id": "d08428ef",
   "metadata": {},
   "source": [
    "# Load Data and Info"
   ]
  },
  {
   "cell_type": "code",
   "execution_count": null,
   "id": "dd57b3dd",
   "metadata": {},
   "outputs": [],
   "source": [
    "import numpy as np\n",
    "import pandas as pd\n",
    "import matplotlib.pyplot as plt\n",
    "import seaborn as sns\n",
    "import scipy.stats as st\n",
    "\n",
    "%matplotlib inline\n",
    "sns.set(style='white', context='notebook', palette='pastel')\n",
    "\n",
    "train = pd.read_csv('Data/train.csv')\n",
    "data = train\n",
    "test = pd.read_csv('Data/test.csv')\n",
    "\n",
    "print(data.info())\n",
    "display(data.head())\n",
    "# display(data.describe())\n",
    "# display(data.describe(include='object'))"
   ]
  },
  {
   "cell_type": "markdown",
   "id": "81bf605d",
   "metadata": {},
   "source": [
    "# Individual Features Check"
   ]
  },
  {
   "cell_type": "markdown",
   "id": "a1720045",
   "metadata": {},
   "source": [
    "## Transported (Target)"
   ]
  },
  {
   "cell_type": "code",
   "execution_count": null,
   "id": "6eea5250",
   "metadata": {
    "scrolled": false
   },
   "outputs": [],
   "source": [
    "print(data['Transported'].value_counts(), '\\n')\n",
    "\n",
    "# Plot\n",
    "fig, ax = plt.subplots(1, 1, figsize=(5, 2))\n",
    "data['Transported'].value_counts().plot(kind='pie', autopct='%.1f%%')\n",
    "plt.show()\n",
    "\n",
    "# We will use it later\n",
    "mask_transported = data['Transported']==True\n",
    "\n",
    "# Transported is well balanced"
   ]
  },
  {
   "cell_type": "markdown",
   "id": "4cb34daa",
   "metadata": {},
   "source": [
    "## PassengerId (Feature)"
   ]
  },
  {
   "cell_type": "code",
   "execution_count": null,
   "id": "c5577bae",
   "metadata": {
    "scrolled": false
   },
   "outputs": [],
   "source": [
    "print('Nulls:', data.PassengerId.isnull().sum(), '\\n')\n",
    "print(data.PassengerId.head())\n",
    "\n",
    "# We will have to split the GroupId form this Feature, there are no nulls"
   ]
  },
  {
   "cell_type": "markdown",
   "id": "1b1f20c8",
   "metadata": {},
   "source": [
    "#### Split (PassangerId)"
   ]
  },
  {
   "cell_type": "markdown",
   "id": "19990f48",
   "metadata": {},
   "source": [
    "## GroupSize (Created Feature)"
   ]
  },
  {
   "cell_type": "code",
   "execution_count": null,
   "id": "9d273a8a",
   "metadata": {},
   "outputs": [],
   "source": [
    "# GroupId and GroupSize feature generation\n",
    "\n",
    "data['GroupId'] = data['PassengerId'].str.split('_', expand=True)[0]\n",
    "\n",
    "# Grouping by GroupId to count each group size\n",
    "GroupId_size_serie = data.groupby('GroupId').size() # temp GroupId_size Serie\n",
    "GroupId_size_serie.rename('GroupSize', inplace=True) # necesary for the Join\n",
    "\n",
    "# First we add how many passengers are in the group\n",
    "data = pd.merge(left=data, right=GroupId_size_serie, left_on='GroupId', right_on='GroupId', how='left')\n",
    "\n",
    "print(data['GroupSize'].value_counts())\n",
    "\n",
    "# Plot\n",
    "fig, ax = plt.subplots(1, 1, figsize=(5, 3))\n",
    "sns.countplot(y=data['GroupSize'], palette='Set2')\n",
    "ax.set_ylabel('')\n",
    "\n",
    "plt.title('GroupSize')\n",
    "plt.show()\n",
    "\n",
    "# Few Passangers in big groups"
   ]
  },
  {
   "cell_type": "markdown",
   "id": "e994fbb1",
   "metadata": {},
   "source": [
    "## IsAlone (Created Feature)"
   ]
  },
  {
   "cell_type": "code",
   "execution_count": null,
   "id": "b4ee4d97",
   "metadata": {
    "scrolled": true
   },
   "outputs": [],
   "source": [
    "# IsAlone Feature Generation (Solo Travelers)\n",
    "\n",
    "# Then we filter just the solo travelelrs\n",
    "data.loc[:, 'IsAlone'] = data['GroupSize']==1 # Or we can leave it as it is, maybe improves the results\n",
    "# data.rename(columns={'Group_size':'IsAlone'}, inplace=True)\n",
    "\n",
    "print(data['IsAlone'].value_counts(), '\\n')\n",
    "# Plots\n",
    "fig, ax = plt.subplots(1, 2, figsize=(12, 2))\n",
    "\n",
    "# ax[0]\n",
    "data['IsAlone'].value_counts(dropna=False).sort_index(ascending=False).plot(kind='pie', autopct='%.1f%%', ax=ax[0], \n",
    "                                                                            startangle=90)\n",
    "ax[0].set_ylabel('')\n",
    "ax[0].set_title('On-Board Rate')\n",
    "\n",
    "# ax[1]\n",
    "sns.countplot(y=data['IsAlone'], hue=data['Transported'], ax=ax[1], order=[True, False], hue_order=[True, False])\n",
    "ax[1].set_ylabel('')\n",
    "ax[1].set_title('Count and Comparison w/Target')\n",
    "\n",
    "fig.suptitle('Solo Travellers\\n')\n",
    "plt.show()\n",
    "\n",
    "# There are more Solo Travellers, but they have lower Transported Rate"
   ]
  },
  {
   "cell_type": "markdown",
   "id": "8627bb67",
   "metadata": {},
   "source": [
    "## HomePlanet (Feature)"
   ]
  },
  {
   "cell_type": "code",
   "execution_count": null,
   "id": "3eae5d0f",
   "metadata": {
    "scrolled": true
   },
   "outputs": [],
   "source": [
    "print(data['HomePlanet'].value_counts(dropna=False))\n",
    "\n",
    "# Plots\n",
    "fig, ax = plt.subplots(1, 2, figsize=(12, 2))\n",
    "data['HomePlanet'].value_counts(dropna=False).plot(kind='pie', autopct='%.1f%%', ax=ax[0], startangle=90, cmap='Set2')\n",
    "ax[0].set_ylabel('')\n",
    "ax[0].set_title('Distribution')\n",
    "sns.countplot(y=data['HomePlanet'], order=data['HomePlanet'].value_counts().index, ax=ax[1], \n",
    "              hue=data['Transported'], hue_order=[True, False])\n",
    "ax[1].set_ylabel('')\n",
    "ax[1].set_xlabel('')\n",
    "ax[1].set_title('Count and Comparison w/Target')\n",
    "\n",
    "fig.suptitle('HomePlanet')\n",
    "plt.show()\n",
    "\n",
    "# There are 201 nulls\n",
    "# Most coming from Earth\n",
    "# Passangers from Europe have more chances to be Transported\n",
    "# Pending: Reduce annot_size for the PieChart"
   ]
  },
  {
   "cell_type": "markdown",
   "id": "da08051c",
   "metadata": {},
   "source": [
    "### Nulls Check"
   ]
  },
  {
   "cell_type": "code",
   "execution_count": null,
   "id": "02b2e30b",
   "metadata": {
    "scrolled": false
   },
   "outputs": [],
   "source": [
    "# Counting and Checking nulls\n",
    "print('Nulls Count:', data[data.HomePlanet.isnull()].shape[0], '\\n')\n",
    "\n",
    "# Passangers in Groups\n",
    "display('Passengers in groups', data[data.HomePlanet.isnull() & ~(data.IsAlone)]\n",
    "        [['PassengerId', 'HomePlanet', 'IsAlone']].head())\n",
    "print('In groups with other passengers',data[data.HomePlanet.isnull() & ~(data.IsAlone)].shape[0])\n",
    "\n",
    "# We can get HomePlanet from GroupId for almost 50% of NA. Lets check if this is a valid approach"
   ]
  },
  {
   "cell_type": "markdown",
   "id": "1a408a4a",
   "metadata": {},
   "source": [
    "### Fill Nulls Check"
   ]
  },
  {
   "cell_type": "code",
   "execution_count": null,
   "id": "7c1f739d",
   "metadata": {},
   "outputs": [],
   "source": [
    "# Lets confirm all members of each group member departed from the same HomePlanet\n",
    "\n",
    "data_grp_groupid_homeplanet = data.groupby(['GroupId', 'HomePlanet']).size().to_frame('Count').reset_index()\n",
    "display(data_grp_groupid_homeplanet.head())\n",
    "\n",
    "# There are no duplicated GroupId, so all are from the same HomePlanet\n",
    "print('Is GroupId unique?:', data_grp_groupid_homeplanet.GroupId.is_unique)"
   ]
  },
  {
   "cell_type": "markdown",
   "id": "d115a9cf",
   "metadata": {},
   "source": [
    "### Fill Nulls"
   ]
  },
  {
   "cell_type": "code",
   "execution_count": null,
   "id": "21db8c9e",
   "metadata": {
    "scrolled": true
   },
   "outputs": [],
   "source": [
    "# Working, but for later\n",
    "\n",
    "# Filling Solo Travelers with the mode\n",
    "# data.loc[data.HomePlanet.isnull() & data.IsAlone, 'HomePlanet'] = data.HomePlanet.mode()[0]\n",
    "\n",
    "# Filling Passangers in Groups with value from same GroupId\n",
    "# data.loc[:, 'HomePlanet'] = data.sort_values(by=['GroupId', 'HomePlanet'])['HomePlanet'].fillna(method='ffill')\n",
    "# print('New Nulls Count:', data.HomePlanet.isnull().sum())"
   ]
  },
  {
   "cell_type": "markdown",
   "id": "84db1be0",
   "metadata": {},
   "source": [
    "## CryoSleep (Feature)"
   ]
  },
  {
   "cell_type": "code",
   "execution_count": null,
   "id": "281b65c7",
   "metadata": {
    "scrolled": false
   },
   "outputs": [],
   "source": [
    "print(data['CryoSleep'].value_counts(dropna=False).sort_index(ascending=False))\n",
    "\n",
    "# Plots\n",
    "fig, ax = plt.subplots(1, 2, figsize=(12, 2))\n",
    "\n",
    "# ax[0]\n",
    "data['CryoSleep'].value_counts(dropna=False).sort_index(ascending=False). \\\n",
    "                                        plot(kind='pie', autopct='%.1f%%', ax=ax[0], startangle=90)\n",
    "ax[0].set_ylabel('')\n",
    "ax[0].set_title('Distribution')\n",
    "\n",
    "# ax[1]\n",
    "sns.countplot(y=data['CryoSleep'], hue=data['Transported'], ax=ax[1], hue_order=[True, False])\n",
    "ax[1].set_ylabel('')\n",
    "ax[1].set_xlabel('')\n",
    "ax[1].set_title('Count and Comparison w/Target')\n",
    "\n",
    "fig.suptitle('CryoSleep')\n",
    "plt.show()\n",
    "\n",
    "# Just 1/3 are in CryoSleep\n",
    "# There are 217 Nulls\n",
    "# Strong correlation with Target Variable"
   ]
  },
  {
   "cell_type": "markdown",
   "id": "a82077a1",
   "metadata": {},
   "source": [
    "### Correlation with VIP"
   ]
  },
  {
   "cell_type": "code",
   "execution_count": null,
   "id": "477b6b9c",
   "metadata": {
    "scrolled": true
   },
   "outputs": [],
   "source": [
    "print('Total VIP Passengers:', data[data.VIP==True].shape[0])\n",
    "\n",
    "# Plot\n",
    "fig, ax = plt.subplots(1, 1, figsize=(4, 3))\n",
    "data[data.VIP==True].CryoSleep.value_counts().sort_index(ascending=False).plot(kind='pie', autopct='%.1f%%', startangle=90)\n",
    "ax.set_ylabel('')\n",
    "plt.suptitle('CryoSleep')\n",
    "plt.show()\n",
    "\n",
    "# There few VIP Passengers\n",
    "# Strong correlation, VIP passengers dont want to be put to sleep"
   ]
  },
  {
   "cell_type": "markdown",
   "id": "f023f885",
   "metadata": {},
   "source": [
    "### Correlation with Age"
   ]
  },
  {
   "cell_type": "code",
   "execution_count": null,
   "id": "b115b904",
   "metadata": {},
   "outputs": [],
   "source": [
    "# Plot\n",
    "fig, ax = plt.subplots(1, 1, figsize=(6, 2))\n",
    "data[data.CryoSleep==True].Age.value_counts().sort_index().plot(title='Count Passengers by Age', color='red', label='Sleeping Passengers')\n",
    "data.Age.value_counts().sort_index().plot(color='blue', label='All Passengers')\n",
    "\n",
    "plt.legend()\n",
    "plt.show()\n",
    "\n",
    "# Most Seniors (+65 years) are put to sleep, but they are few\n",
    "# Same happens with kids (0 to 12 years)????\n",
    "# The gap between both gets gradually reduced for adults (18 to 65 years) "
   ]
  },
  {
   "cell_type": "markdown",
   "id": "8bb186ba",
   "metadata": {},
   "source": [
    "### Correlation with GroupSize"
   ]
  },
  {
   "cell_type": "code",
   "execution_count": null,
   "id": "cd097591",
   "metadata": {},
   "outputs": [],
   "source": [
    "# Plot\n",
    "fig, ax = plt.subplots(1, 1, figsize=(6, 2))\n",
    "data[data.CryoSleep==True].GroupSize.value_counts().sort_index().plot(title='Count Passengers by GroupSize', \n",
    "                                                                      color='red', label='Sleeping Passengers')\n",
    "data.GroupSize.value_counts().sort_index().plot(color='blue', label='All Passengers')\n",
    "\n",
    "plt.yticks(np.arange(0, 5000, 1000))\n",
    "plt.legend()\n",
    "plt.show()\n",
    "\n",
    "# The bigger the GroupSize, more chances of CryoSleep?"
   ]
  },
  {
   "cell_type": "markdown",
   "id": "68802ec0",
   "metadata": {},
   "source": [
    "### FillNa"
   ]
  },
  {
   "cell_type": "code",
   "execution_count": null,
   "id": "d5527e60",
   "metadata": {},
   "outputs": [],
   "source": [
    "# For later\n",
    "# print('Nulls Count Original:', data[data.CryoSleep.isnull()].shape[0], '\\n')\n",
    "\n",
    "# Complete with VIPs (90% Rate)\n",
    "# data.loc[data.CryoSleep.isnull() & data.VIP, 'CryoSleep']=False # 214 to go\n",
    "# print('Nulls Count after VIPs:', data[data.CryoSleep.isnull()].shape[0], '\\n')\n",
    "\n",
    "# Complete for Kids and Seniors (to be tested)\n",
    "# data.loc[data.CryoSleep.isnull() & np.logical_or(data.Age>=65, data.Age<=12), 'CryoSleep'] = True\n",
    "# print('Nulls Count after Age:', data[data.CryoSleep.isnull()].shape[0], '\\n')"
   ]
  },
  {
   "cell_type": "markdown",
   "id": "dafc9774",
   "metadata": {},
   "source": [
    "## Cabin (Feature)"
   ]
  },
  {
   "cell_type": "code",
   "execution_count": null,
   "id": "b2920033",
   "metadata": {
    "scrolled": true
   },
   "outputs": [],
   "source": [
    "print('Nulls:', data['Cabin'].isnull().sum(), '\\n')\n",
    "print(data['Cabin'].head()) # PortSide/StarboardSide: Left/Right\n",
    "\n",
    "# Split into Deck/Num/Side, 199 nulls"
   ]
  },
  {
   "cell_type": "markdown",
   "id": "d756ae38",
   "metadata": {},
   "source": [
    "## Destination (Feature)"
   ]
  },
  {
   "cell_type": "code",
   "execution_count": null,
   "id": "c0083439",
   "metadata": {
    "scrolled": true
   },
   "outputs": [],
   "source": [
    "print(data['Destination'].value_counts(dropna=False))\n",
    "\n",
    "# Plots\n",
    "fig, ax = plt.subplots(1, 2, figsize=(12, 2))\n",
    "\n",
    "# ax[0]\n",
    "data['Destination'].value_counts(dropna=False).plot(kind='pie', autopct='%.1f%%', ax=ax[0], startangle=90, cmap='Set2')\n",
    "ax[0].set_ylabel('')\n",
    "ax[0].set_title('Distribution')\n",
    "\n",
    "# ax[1]\n",
    "sns.countplot(y=data['Destination'], order=data['Destination'].value_counts().index, ax=ax[1], hue=data['Transported'])\n",
    "ax[1].set_ylabel('')\n",
    "ax[1].set_title('Count and Comparison w/Target')\n",
    "\n",
    "\n",
    "plt.suptitle('Destination')\n",
    "plt.show()\n",
    "\n",
    "# Similar to HomePlanet. Most passengers heading TRAPPIST-1e, 182 Nulls\n",
    "# 55 Cancri e looks like they have a better Transported Rate"
   ]
  },
  {
   "cell_type": "markdown",
   "id": "a6ffada4",
   "metadata": {},
   "source": [
    "## Age (Feature)"
   ]
  },
  {
   "cell_type": "code",
   "execution_count": null,
   "id": "774ddd6c",
   "metadata": {
    "scrolled": false
   },
   "outputs": [],
   "source": [
    "print('Nulls:', data['Age'].isnull().sum())\n",
    "print(\"Skewness: %f\" % data['Age'].skew(), '\\n') # Right\n",
    "print(data['Age'].describe())\n",
    "\n",
    "# Plots\n",
    "fig,ax=plt.subplots(1,1,figsize=(18,4))\n",
    "sns.histplot(data=data['Age'], binwidth=5)\n",
    "\n",
    "plt.title('Age')\n",
    "plt.show()\n",
    "\n",
    "# Will I have to descritize this one?"
   ]
  },
  {
   "cell_type": "markdown",
   "id": "c41fc4ac",
   "metadata": {},
   "source": [
    "## VIP (Feature)"
   ]
  },
  {
   "cell_type": "code",
   "execution_count": null,
   "id": "8b267723",
   "metadata": {
    "scrolled": false
   },
   "outputs": [],
   "source": [
    "print(data['VIP'].value_counts(dropna=False).sort_index(ascending=False))\n",
    "\n",
    "# Plot\n",
    "fig,ax=plt.subplots(1,2,figsize=(12,2))\n",
    "\n",
    "# ax[0]\n",
    "data['VIP'].value_counts(dropna=False).plot(kind='pie', autopct='%.1f%%', startangle=90, cmap='Set2', ax=ax[0])\n",
    "ax[0].set_ylabel('')\n",
    "ax[0].set_title('Distribution')\n",
    "\n",
    "# ax[1]\n",
    "sns.countplot(y=data['VIP'], hue=data['Transported'], order=[True, False], hue_order=[True, False], ax=ax[1])\n",
    "ax[1].set_ylabel('')\n",
    "ax[1].set_title('Count and Comparison w/Target')\n",
    "fig.suptitle('VIP')\n",
    "plt.show()\n",
    "\n",
    "# Few VIPS and few Nulls, nothing important here"
   ]
  },
  {
   "cell_type": "markdown",
   "id": "c768c199",
   "metadata": {},
   "source": [
    "## Name (Feature)"
   ]
  },
  {
   "cell_type": "code",
   "execution_count": null,
   "id": "8d87bed7",
   "metadata": {
    "scrolled": true
   },
   "outputs": [],
   "source": [
    "print('Nulls:', data['Name'].isnull().sum(), '\\n')\n",
    "print(data['Name'].value_counts())\n",
    "\n",
    "# 200 nulls, couple of name repeted. Im pretty sure this Feature is useless"
   ]
  },
  {
   "cell_type": "markdown",
   "id": "ad8d02fc",
   "metadata": {},
   "source": [
    " ## RoomService (Feature)"
   ]
  },
  {
   "cell_type": "code",
   "execution_count": null,
   "id": "fa671951",
   "metadata": {
    "scrolled": false
   },
   "outputs": [],
   "source": [
    "print('Nulls:', data['RoomService'].isnull().sum(), '\\n')\n",
    "print(data['RoomService'].describe())\n",
    "\n",
    "# Plot\n",
    "fig, ax = plt.subplots(2, 1, figsize=(8, 2))\n",
    "\n",
    "# ax[0]\n",
    "sns.boxplot(x=data['RoomService'], showfliers=True, ax=ax[0])\n",
    "ax[0].set_ylabel('')\n",
    "\n",
    "# ax[1]\n",
    "sns.boxplot(x=data['RoomService'], showfliers=False, ax=ax[1])\n",
    "ax[1].set_ylabel('')\n",
    "\n",
    "fig.suptitle('RoomService with and without Outliers')\n",
    "plt.show()"
   ]
  },
  {
   "cell_type": "markdown",
   "id": "0c2f4423",
   "metadata": {},
   "source": [
    "## FoodCourt (Feature)"
   ]
  },
  {
   "cell_type": "code",
   "execution_count": null,
   "id": "121be00c",
   "metadata": {
    "scrolled": false
   },
   "outputs": [],
   "source": [
    "print('Nulls:', data['FoodCourt'].isnull().sum(), '\\n')\n",
    "print(data['FoodCourt'].describe())\n",
    "\n",
    "# Plot\n",
    "fig, ax = plt.subplots(2, 1, figsize=(8, 2))\n",
    "\n",
    "# ax[0]\n",
    "sns.boxplot(x=data['FoodCourt'], showfliers=True, ax=ax[0])\n",
    "ax[0].set_ylabel('')\n",
    "\n",
    "# ax[1]\n",
    "sns.boxplot(x=data['FoodCourt'], showfliers=False, ax=ax[1])\n",
    "ax[1].set_ylabel('')\n",
    "\n",
    "fig.suptitle('FoodCourt with and without Outliers')\n",
    "plt.show()"
   ]
  },
  {
   "cell_type": "markdown",
   "id": "7c5536ba",
   "metadata": {},
   "source": [
    "## ShoppingMall (Feature)"
   ]
  },
  {
   "cell_type": "code",
   "execution_count": null,
   "id": "b7d6c0da",
   "metadata": {
    "scrolled": true
   },
   "outputs": [],
   "source": [
    "print('Nulls:', data['ShoppingMall'].isnull().sum(), '\\n')\n",
    "print(data['ShoppingMall'].describe())\n",
    "\n",
    "# Plot\n",
    "fig, ax = plt.subplots(2, 1, figsize=(8, 2))\n",
    "\n",
    "# ax[0]\n",
    "sns.boxplot(x=data['ShoppingMall'], showfliers=True, ax=ax[0])\n",
    "ax[0].set_ylabel('')\n",
    "\n",
    "# ax[1]\n",
    "sns.boxplot(x=data['ShoppingMall'], showfliers=False, ax=ax[1])\n",
    "ax[1].set_ylabel('')\n",
    "\n",
    "fig.suptitle('ShoppingMall with and without Outliers')\n",
    "plt.show()"
   ]
  },
  {
   "cell_type": "markdown",
   "id": "12e2b141",
   "metadata": {},
   "source": [
    "## Spa (Feature)"
   ]
  },
  {
   "cell_type": "code",
   "execution_count": null,
   "id": "2faf9f4f",
   "metadata": {
    "scrolled": true
   },
   "outputs": [],
   "source": [
    "print('Nulls:', data['Spa'].isnull().sum(), '\\n')\n",
    "print(data['Spa'].describe())\n",
    "\n",
    "# Plot\n",
    "fig, ax = plt.subplots(2, 1, figsize=(8, 2))\n",
    "\n",
    "# ax[0]\n",
    "sns.boxplot(x=data['Spa'], showfliers=True, ax=ax[0])\n",
    "ax[0].set_ylabel('')\n",
    "\n",
    "# ax[1]\n",
    "sns.boxplot(x=data['Spa'], showfliers=False, ax=ax[1])\n",
    "ax[1].set_ylabel('')\n",
    "\n",
    "fig.suptitle('Spa with and without Outliers')\n",
    "plt.show()"
   ]
  },
  {
   "cell_type": "markdown",
   "id": "dcecb41d",
   "metadata": {},
   "source": [
    "## VRDeck (Feature)"
   ]
  },
  {
   "cell_type": "code",
   "execution_count": null,
   "id": "15df860e",
   "metadata": {
    "scrolled": true
   },
   "outputs": [],
   "source": [
    "print('Nulls:', data['VRDeck'].isnull().sum(), '\\n')\n",
    "print(data['VRDeck'].describe())\n",
    "\n",
    "# Plot\n",
    "fig, ax = plt.subplots(2, 1, figsize=(8, 2))\n",
    "\n",
    "# ax[0]\n",
    "sns.boxplot(x=data['VRDeck'], showfliers=True, ax=ax[0])\n",
    "ax[0].set_ylabel('')\n",
    "\n",
    "# ax[1]\n",
    "sns.boxplot(x=data['VRDeck'], showfliers=False, ax=ax[1])\n",
    "ax[1].set_ylabel('')\n",
    "\n",
    "fig.suptitle('VRDeck with and without Outliers')\n",
    "plt.show()"
   ]
  },
  {
   "cell_type": "markdown",
   "id": "5dc903ee",
   "metadata": {},
   "source": [
    "## Continuous Features Comparation (PairPlot)"
   ]
  },
  {
   "cell_type": "code",
   "execution_count": null,
   "id": "e34c29a9",
   "metadata": {
    "scrolled": false
   },
   "outputs": [],
   "source": [
    "# Complete NA values with 0\n",
    "data_plot = pd.concat([data.select_dtypes(['float64']).drop(columns='Age').fillna(0), data['Transported']], axis=1)\n",
    "\n",
    "# Plot\n",
    "sns.pairplot(data=data_plot, hue='Transported', hue_order=[True, False])\n",
    "plt.show()\n",
    "\n",
    "# I can't find any insights"
   ]
  },
  {
   "cell_type": "markdown",
   "id": "ee5c58ef",
   "metadata": {},
   "source": [
    "# Correcting and Completing Nulls"
   ]
  },
  {
   "cell_type": "code",
   "execution_count": null,
   "id": "a8039d1d",
   "metadata": {
    "scrolled": true
   },
   "outputs": [],
   "source": [
    "data.info()"
   ]
  },
  {
   "cell_type": "markdown",
   "id": "cda968db",
   "metadata": {},
   "source": []
  }
 ],
 "metadata": {
  "kernelspec": {
   "display_name": "Python 3 (ipykernel)",
   "language": "python",
   "name": "python3"
  },
  "language_info": {
   "codemirror_mode": {
    "name": "ipython",
    "version": 3
   },
   "file_extension": ".py",
   "mimetype": "text/x-python",
   "name": "python",
   "nbconvert_exporter": "python",
   "pygments_lexer": "ipython3",
   "version": "3.10.4"
  }
 },
 "nbformat": 4,
 "nbformat_minor": 5
}
