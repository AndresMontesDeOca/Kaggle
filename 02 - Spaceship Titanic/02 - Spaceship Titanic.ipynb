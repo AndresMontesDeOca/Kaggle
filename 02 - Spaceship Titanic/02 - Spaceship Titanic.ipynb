{
 "cells": [
  {
   "cell_type": "markdown",
   "id": "bb1ecb49",
   "metadata": {},
   "source": [
    "# Spaceshift Titanic"
   ]
  },
  {
   "cell_type": "markdown",
   "id": "2e46d63e",
   "metadata": {},
   "source": [
    "# LogBook"
   ]
  },
  {
   "cell_type": "code",
   "execution_count": 1,
   "id": "a67abe7b",
   "metadata": {},
   "outputs": [],
   "source": [
    "# 10/07/22 --> Notebook Creation\n",
    "\n",
    "# Author: Andres Montes de Oca\n",
    "# GitHub: https://github.com/AndresMontesDeOca"
   ]
  },
  {
   "cell_type": "markdown",
   "id": "d08428ef",
   "metadata": {},
   "source": [
    "# Load Data and Info"
   ]
  },
  {
   "cell_type": "code",
   "execution_count": 2,
   "id": "dd57b3dd",
   "metadata": {},
   "outputs": [
    {
     "name": "stdout",
     "output_type": "stream",
     "text": [
      "<class 'pandas.core.frame.DataFrame'>\n",
      "RangeIndex: 8693 entries, 0 to 8692\n",
      "Data columns (total 14 columns):\n",
      " #   Column        Non-Null Count  Dtype  \n",
      "---  ------        --------------  -----  \n",
      " 0   PassengerId   8693 non-null   object \n",
      " 1   HomePlanet    8492 non-null   object \n",
      " 2   CryoSleep     8476 non-null   object \n",
      " 3   Cabin         8494 non-null   object \n",
      " 4   Destination   8511 non-null   object \n",
      " 5   Age           8514 non-null   float64\n",
      " 6   VIP           8490 non-null   object \n",
      " 7   RoomService   8512 non-null   float64\n",
      " 8   FoodCourt     8510 non-null   float64\n",
      " 9   ShoppingMall  8485 non-null   float64\n",
      " 10  Spa           8510 non-null   float64\n",
      " 11  VRDeck        8505 non-null   float64\n",
      " 12  Name          8493 non-null   object \n",
      " 13  Transported   8693 non-null   bool   \n",
      "dtypes: bool(1), float64(6), object(7)\n",
      "memory usage: 891.5+ KB\n",
      "None\n"
     ]
    },
    {
     "data": {
      "text/html": [
       "<div>\n",
       "<style scoped>\n",
       "    .dataframe tbody tr th:only-of-type {\n",
       "        vertical-align: middle;\n",
       "    }\n",
       "\n",
       "    .dataframe tbody tr th {\n",
       "        vertical-align: top;\n",
       "    }\n",
       "\n",
       "    .dataframe thead th {\n",
       "        text-align: right;\n",
       "    }\n",
       "</style>\n",
       "<table border=\"1\" class=\"dataframe\">\n",
       "  <thead>\n",
       "    <tr style=\"text-align: right;\">\n",
       "      <th></th>\n",
       "      <th>PassengerId</th>\n",
       "      <th>HomePlanet</th>\n",
       "      <th>CryoSleep</th>\n",
       "      <th>Cabin</th>\n",
       "      <th>Destination</th>\n",
       "      <th>Age</th>\n",
       "      <th>VIP</th>\n",
       "      <th>RoomService</th>\n",
       "      <th>FoodCourt</th>\n",
       "      <th>ShoppingMall</th>\n",
       "      <th>Spa</th>\n",
       "      <th>VRDeck</th>\n",
       "      <th>Name</th>\n",
       "      <th>Transported</th>\n",
       "    </tr>\n",
       "  </thead>\n",
       "  <tbody>\n",
       "    <tr>\n",
       "      <th>0</th>\n",
       "      <td>0001_01</td>\n",
       "      <td>Europa</td>\n",
       "      <td>False</td>\n",
       "      <td>B/0/P</td>\n",
       "      <td>TRAPPIST-1e</td>\n",
       "      <td>39.0</td>\n",
       "      <td>False</td>\n",
       "      <td>0.0</td>\n",
       "      <td>0.0</td>\n",
       "      <td>0.0</td>\n",
       "      <td>0.0</td>\n",
       "      <td>0.0</td>\n",
       "      <td>Maham Ofracculy</td>\n",
       "      <td>False</td>\n",
       "    </tr>\n",
       "    <tr>\n",
       "      <th>1</th>\n",
       "      <td>0002_01</td>\n",
       "      <td>Earth</td>\n",
       "      <td>False</td>\n",
       "      <td>F/0/S</td>\n",
       "      <td>TRAPPIST-1e</td>\n",
       "      <td>24.0</td>\n",
       "      <td>False</td>\n",
       "      <td>109.0</td>\n",
       "      <td>9.0</td>\n",
       "      <td>25.0</td>\n",
       "      <td>549.0</td>\n",
       "      <td>44.0</td>\n",
       "      <td>Juanna Vines</td>\n",
       "      <td>True</td>\n",
       "    </tr>\n",
       "    <tr>\n",
       "      <th>2</th>\n",
       "      <td>0003_01</td>\n",
       "      <td>Europa</td>\n",
       "      <td>False</td>\n",
       "      <td>A/0/S</td>\n",
       "      <td>TRAPPIST-1e</td>\n",
       "      <td>58.0</td>\n",
       "      <td>True</td>\n",
       "      <td>43.0</td>\n",
       "      <td>3576.0</td>\n",
       "      <td>0.0</td>\n",
       "      <td>6715.0</td>\n",
       "      <td>49.0</td>\n",
       "      <td>Altark Susent</td>\n",
       "      <td>False</td>\n",
       "    </tr>\n",
       "    <tr>\n",
       "      <th>3</th>\n",
       "      <td>0003_02</td>\n",
       "      <td>Europa</td>\n",
       "      <td>False</td>\n",
       "      <td>A/0/S</td>\n",
       "      <td>TRAPPIST-1e</td>\n",
       "      <td>33.0</td>\n",
       "      <td>False</td>\n",
       "      <td>0.0</td>\n",
       "      <td>1283.0</td>\n",
       "      <td>371.0</td>\n",
       "      <td>3329.0</td>\n",
       "      <td>193.0</td>\n",
       "      <td>Solam Susent</td>\n",
       "      <td>False</td>\n",
       "    </tr>\n",
       "    <tr>\n",
       "      <th>4</th>\n",
       "      <td>0004_01</td>\n",
       "      <td>Earth</td>\n",
       "      <td>False</td>\n",
       "      <td>F/1/S</td>\n",
       "      <td>TRAPPIST-1e</td>\n",
       "      <td>16.0</td>\n",
       "      <td>False</td>\n",
       "      <td>303.0</td>\n",
       "      <td>70.0</td>\n",
       "      <td>151.0</td>\n",
       "      <td>565.0</td>\n",
       "      <td>2.0</td>\n",
       "      <td>Willy Santantines</td>\n",
       "      <td>True</td>\n",
       "    </tr>\n",
       "  </tbody>\n",
       "</table>\n",
       "</div>"
      ],
      "text/plain": [
       "  PassengerId HomePlanet CryoSleep  Cabin  Destination   Age    VIP  \\\n",
       "0     0001_01     Europa     False  B/0/P  TRAPPIST-1e  39.0  False   \n",
       "1     0002_01      Earth     False  F/0/S  TRAPPIST-1e  24.0  False   \n",
       "2     0003_01     Europa     False  A/0/S  TRAPPIST-1e  58.0   True   \n",
       "3     0003_02     Europa     False  A/0/S  TRAPPIST-1e  33.0  False   \n",
       "4     0004_01      Earth     False  F/1/S  TRAPPIST-1e  16.0  False   \n",
       "\n",
       "   RoomService  FoodCourt  ShoppingMall     Spa  VRDeck               Name  \\\n",
       "0          0.0        0.0           0.0     0.0     0.0    Maham Ofracculy   \n",
       "1        109.0        9.0          25.0   549.0    44.0       Juanna Vines   \n",
       "2         43.0     3576.0           0.0  6715.0    49.0      Altark Susent   \n",
       "3          0.0     1283.0         371.0  3329.0   193.0       Solam Susent   \n",
       "4        303.0       70.0         151.0   565.0     2.0  Willy Santantines   \n",
       "\n",
       "   Transported  \n",
       "0        False  \n",
       "1         True  \n",
       "2        False  \n",
       "3        False  \n",
       "4         True  "
      ]
     },
     "metadata": {},
     "output_type": "display_data"
    }
   ],
   "source": [
    "import numpy as np\n",
    "import pandas as pd\n",
    "import matplotlib.pyplot as plt\n",
    "import seaborn as sns\n",
    "import scipy.stats as st\n",
    "\n",
    "# Ignorar Warnings\n",
    "import warnings\n",
    "warnings.filterwarnings('ignore')\n",
    "\n",
    "%matplotlib inline\n",
    "sns.set(style='white', context='notebook', palette='pastel')\n",
    "\n",
    "train = pd.read_csv('Data/train.csv')\n",
    "data = train\n",
    "test = pd.read_csv('Data/test.csv')\n",
    "\n",
    "print(data.info())\n",
    "display(data.head())\n",
    "# display(data.describe())\n",
    "# display(data.describe(include='object'))"
   ]
  },
  {
   "cell_type": "markdown",
   "id": "81bf605d",
   "metadata": {},
   "source": [
    "# Individual Features Check"
   ]
  },
  {
   "cell_type": "markdown",
   "id": "a1720045",
   "metadata": {},
   "source": [
    "## Transported (Target)"
   ]
  },
  {
   "cell_type": "code",
   "execution_count": 3,
   "id": "6eea5250",
   "metadata": {
    "scrolled": false
   },
   "outputs": [
    {
     "name": "stdout",
     "output_type": "stream",
     "text": [
      "True     4378\n",
      "False    4315\n",
      "Name: Transported, dtype: int64 \n",
      "\n"
     ]
    },
    {
     "data": {
      "image/png": "[encoded data removed]",
      "text/plain": [
       "<Figure size 500x200 with 1 Axes>"
      ]
     },
     "metadata": {},
     "output_type": "display_data"
    }
   ],
   "source": [
    "print(data['Transported'].value_counts(), '\\n')\n",
    "\n",
    "# Plot\n",
    "fig, ax = plt.subplots(1, 1, figsize=(5, 2))\n",
    "data['Transported'].value_counts().plot(kind='pie', autopct='%.1f%%')\n",
    "plt.show()\n",
    "\n",
    "# We will use it later\n",
    "mask_transported = data['Transported']==True\n",
    "\n",
    "# Transported is well balanced"
   ]
  },
  {
   "cell_type": "markdown",
   "id": "4cb34daa",
   "metadata": {},
   "source": [
    "## PassengerId (Feature)"
   ]
  },
  {
   "cell_type": "code",
   "execution_count": 4,
   "id": "c5577bae",
   "metadata": {
    "scrolled": false
   },
   "outputs": [
    {
     "name": "stdout",
     "output_type": "stream",
     "text": [
      "Nulls: 0 \n",
      "\n",
      "0    0001_01\n",
      "1    0002_01\n",
      "2    0003_01\n",
      "3    0003_02\n",
      "4    0004_01\n",
      "Name: PassengerId, dtype: object\n"
     ]
    }
   ],
   "source": [
    "print('Nulls:', data.PassengerId.isnull().sum(), '\\n')\n",
    "print(data.PassengerId.head())\n",
    "\n",
    "# We will have to split the GroupId form this Feature, there are no nulls"
   ]
  },
  {
   "cell_type": "markdown",
   "id": "13df5909",
   "metadata": {},
   "source": [
    "## GroupSize (Created Feature)"
   ]
  },
  {
   "cell_type": "code",
   "execution_count": 5,
   "id": "9594684b",
   "metadata": {},
   "outputs": [
    {
     "name": "stdout",
     "output_type": "stream",
     "text": [
      "1    4805\n",
      "2    1682\n",
      "3    1020\n",
      "4     412\n",
      "5     265\n",
      "7     231\n",
      "6     174\n",
      "8     104\n",
      "Name: GroupSize, dtype: int64\n"
     ]
    },
    {
     "data": {
      "image/png": "[encoded data removed]",
      "text/plain": [
       "<Figure size 500x300 with 1 Axes>"
      ]
     },
     "metadata": {},
     "output_type": "display_data"
    }
   ],
   "source": [
    "# GroupId and GroupSize feature generation\n",
    "\n",
    "data['GroupId'] = data['PassengerId'].str.split('_', expand=True)[0]\n",
    "\n",
    "# Grouping by GroupId to count each group size\n",
    "GroupId_size_serie = data.groupby('GroupId').size() # temp GroupId_size Serie\n",
    "GroupId_size_serie.rename('GroupSize', inplace=True) # necesary for the Join\n",
    "\n",
    "# First we add how many passengers are in the group\n",
    "data = pd.merge(left=data, right=GroupId_size_serie, left_on='GroupId', right_on='GroupId', how='left')\n",
    "\n",
    "print(data['GroupSize'].value_counts())\n",
    "\n",
    "# Plot\n",
    "fig, ax = plt.subplots(1, 1, figsize=(5, 3))\n",
    "sns.countplot(y=data['GroupSize'], palette='Set2')\n",
    "ax.set_ylabel('')\n",
    "\n",
    "plt.title('GroupSize')\n",
    "plt.show()\n",
    "\n",
    "# Few Passangers in big groups"
   ]
  },
  {
   "cell_type": "markdown",
   "id": "23ff9cfb",
   "metadata": {},
   "source": [
    "## IsAlone (Created Feature)"
   ]
  },
  {
   "cell_type": "code",
   "execution_count": 6,
   "id": "b4ee4d97",
   "metadata": {
    "scrolled": true
   },
   "outputs": [
    {
     "name": "stdout",
     "output_type": "stream",
     "text": [
      "True     4805\n",
      "False    3888\n",
      "Name: IsAlone, dtype: int64 \n",
      "\n"
     ]
    },
    {
     "data": {
      "image/png": "[encoded data removed]",
      "text/plain": [
       "<Figure size 1200x200 with 2 Axes>"
      ]
     },
     "metadata": {},
     "output_type": "display_data"
    }
   ],
   "source": [
    "# IsAlone Feature Generation (Solo Travelers)\n",
    "\n",
    "# Then we filter just the solo travelelrs\n",
    "data.loc[:, 'IsAlone'] = data['GroupSize']==1 # Or we can leave it as it is, maybe improves the results\n",
    "# data.rename(columns={'Group_size':'IsAlone'}, inplace=True)\n",
    "\n",
    "print(data['IsAlone'].value_counts(), '\\n')\n",
    "# Plots\n",
    "fig, ax = plt.subplots(1, 2, figsize=(12, 2))\n",
    "\n",
    "# ax[0]\n",
    "data['IsAlone'].value_counts(dropna=False).sort_index(ascending=False).plot(kind='pie', autopct='%.1f%%', ax=ax[0], \n",
    "                                                                            startangle=90)\n",
    "ax[0].set_ylabel('')\n",
    "ax[0].set_title('On-Board Rate')\n",
    "\n",
    "# ax[1]\n",
    "sns.countplot(y=data['IsAlone'], hue=data['Transported'], ax=ax[1], order=[True, False], hue_order=[True, False])\n",
    "ax[1].set_ylabel('')\n",
    "ax[1].set_title('Count and Comparison w/Target')\n",
    "\n",
    "fig.suptitle('Solo Travellers\\n')\n",
    "plt.show()\n",
    "\n",
    "# There are more Solo Travellers, but they have lower Transported Rate"
   ]
  },
  {
   "cell_type": "markdown",
   "id": "8627bb67",
   "metadata": {},
   "source": [
    "## HomePlanet (Feature)"
   ]
  },
  {
   "cell_type": "code",
   "execution_count": 7,
   "id": "3eae5d0f",
   "metadata": {
    "scrolled": true
   },
   "outputs": [
    {
     "name": "stdout",
     "output_type": "stream",
     "text": [
      "Earth     4602\n",
      "Europa    2131\n",
      "Mars      1759\n",
      "NaN        201\n",
      "Name: HomePlanet, dtype: int64\n"
     ]
    },
    {
     "data": {
      "image/png": "[encoded data removed]",
      "text/plain": [
       "<Figure size 1200x200 with 2 Axes>"
      ]
     },
     "metadata": {},
     "output_type": "display_data"
    }
   ],
   "source": [
    "print(data['HomePlanet'].value_counts(dropna=False))\n",
    "\n",
    "# Plots\n",
    "fig, ax = plt.subplots(1, 2, figsize=(12, 2))\n",
    "data['HomePlanet'].value_counts(dropna=False).plot(kind='pie', autopct='%.1f%%', ax=ax[0], startangle=90, cmap='Set2')\n",
    "ax[0].set_ylabel('')\n",
    "ax[0].set_title('Distribution')\n",
    "sns.countplot(y=data['HomePlanet'], order=data['HomePlanet'].value_counts().index, ax=ax[1], \n",
    "              hue=data['Transported'], hue_order=[True, False])\n",
    "ax[1].set_ylabel('')\n",
    "ax[1].set_xlabel('')\n",
    "ax[1].set_title('Count and Comparison w/Target')\n",
    "\n",
    "fig.suptitle('HomePlanet')\n",
    "plt.show()\n",
    "\n",
    "# There are 201 nulls\n",
    "# Most coming from Earth\n",
    "# Passangers from Europe have more chances to be Transported\n",
    "# Pending: Reduce annot_size for the PieChart"
   ]
  },
  {
   "cell_type": "markdown",
   "id": "84db1be0",
   "metadata": {},
   "source": [
    "## CryoSleep (Feature)"
   ]
  },
  {
   "cell_type": "code",
   "execution_count": 8,
   "id": "281b65c7",
   "metadata": {
    "scrolled": false
   },
   "outputs": [
    {
     "name": "stdout",
     "output_type": "stream",
     "text": [
      "True     3037\n",
      "False    5439\n",
      "NaN       217\n",
      "Name: CryoSleep, dtype: int64\n"
     ]
    },
    {
     "data": {
      "image/png": "[encoded data removed]",
      "text/plain": [
       "<Figure size 1200x200 with 2 Axes>"
      ]
     },
     "metadata": {},
     "output_type": "display_data"
    }
   ],
   "source": [
    "print(data['CryoSleep'].value_counts(dropna=False).sort_index(ascending=False))\n",
    "\n",
    "# Plots\n",
    "fig, ax = plt.subplots(1, 2, figsize=(12, 2))\n",
    "\n",
    "# ax[0]\n",
    "data['CryoSleep'].value_counts(dropna=False).sort_index(ascending=False). \\\n",
    "                                        plot(kind='pie', autopct='%.1f%%', ax=ax[0], startangle=90)\n",
    "ax[0].set_ylabel('')\n",
    "ax[0].set_title('Distribution')\n",
    "\n",
    "# ax[1]\n",
    "sns.countplot(y=data['CryoSleep'], hue=data['Transported'], ax=ax[1], hue_order=[True, False])\n",
    "ax[1].set_ylabel('')\n",
    "ax[1].set_xlabel('')\n",
    "ax[1].set_title('Count and Comparison w/Target')\n",
    "\n",
    "fig.suptitle('CryoSleep')\n",
    "plt.show()\n",
    "\n",
    "# Just 1/3 are in CryoSleep\n",
    "# There are 217 Nulls\n",
    "# Strong correlation with Target Variable"
   ]
  },
  {
   "cell_type": "markdown",
   "id": "a82077a1",
   "metadata": {},
   "source": [
    "#### Correlation with VIP"
   ]
  },
  {
   "cell_type": "code",
   "execution_count": 9,
   "id": "477b6b9c",
   "metadata": {
    "scrolled": true
   },
   "outputs": [
    {
     "name": "stdout",
     "output_type": "stream",
     "text": [
      "Total VIP Passengers: 199\n"
     ]
    },
    {
     "data": {
      "image/png": "[encoded data removed]",
      "text/plain": [
       "<Figure size 400x300 with 1 Axes>"
      ]
     },
     "metadata": {},
     "output_type": "display_data"
    }
   ],
   "source": [
    "print('Total VIP Passengers:', data[data.VIP==True].shape[0])\n",
    "\n",
    "# Plot\n",
    "fig, ax = plt.subplots(1, 1, figsize=(4, 3))\n",
    "data[data.VIP==True].CryoSleep.value_counts().sort_index(ascending=False).plot(kind='pie', autopct='%.1f%%', startangle=90)\n",
    "ax.set_ylabel('')\n",
    "plt.suptitle('CryoSleep')\n",
    "plt.show()\n",
    "\n",
    "# There few VIP Passengers\n",
    "# Strong correlation, VIP passengers dont want to be put to sleep"
   ]
  },
  {
   "cell_type": "markdown",
   "id": "f023f885",
   "metadata": {},
   "source": [
    "#### Correlation with Age"
   ]
  },
  {
   "cell_type": "code",
   "execution_count": 10,
   "id": "b115b904",
   "metadata": {},
   "outputs": [
    {
     "data": {
      "image/png": "[encoded data removed]",
      "text/plain": [
       "<Figure size 600x200 with 1 Axes>"
      ]
     },
     "metadata": {},
     "output_type": "display_data"
    }
   ],
   "source": [
    "# Plot\n",
    "fig, ax = plt.subplots(1, 1, figsize=(6, 2))\n",
    "data[data.CryoSleep==True].Age.value_counts().sort_index().plot(title='Count Passengers by Age', color='red', label='Sleeping Passengers')\n",
    "data.Age.value_counts().sort_index().plot(color='blue', label='All Passengers')\n",
    "\n",
    "plt.legend()\n",
    "plt.show()\n",
    "\n",
    "# Most Seniors (+65 years) are put to sleep, but they are few\n",
    "# Same happens with kids (0 to 12 years)????\n",
    "# The gap between both gets gradually reduced for adults (18 to 65 years) "
   ]
  },
  {
   "cell_type": "markdown",
   "id": "8bb186ba",
   "metadata": {},
   "source": [
    "#### Correlation with GroupSize"
   ]
  },
  {
   "cell_type": "code",
   "execution_count": 11,
   "id": "cd097591",
   "metadata": {},
   "outputs": [
    {
     "data": {
      "image/png": "[encoded data removed]",
      "text/plain": [
       "<Figure size 600x200 with 1 Axes>"
      ]
     },
     "metadata": {},
     "output_type": "display_data"
    }
   ],
   "source": [
    "# Plot\n",
    "fig, ax = plt.subplots(1, 1, figsize=(6, 2))\n",
    "data[data.CryoSleep==True].GroupSize.value_counts().sort_index().plot(title='Count Passengers by GroupSize', \n",
    "                                                                      color='red', label='Sleeping Passengers')\n",
    "data.GroupSize.value_counts().sort_index().plot(color='blue', label='All Passengers')\n",
    "\n",
    "plt.yticks(np.arange(0, 5000, 1000))\n",
    "plt.legend()\n",
    "plt.show()\n",
    "\n",
    "# The bigger the GroupSize, more chances of CryoSleep?"
   ]
  },
  {
   "cell_type": "markdown",
   "id": "68802ec0",
   "metadata": {},
   "source": [
    "### FillNa"
   ]
  },
  {
   "cell_type": "code",
   "execution_count": 12,
   "id": "d5527e60",
   "metadata": {},
   "outputs": [],
   "source": [
    "# For later\n",
    "# print('Nulls Count Original:', data[data.CryoSleep.isnull()].shape[0], '\\n')\n",
    "\n",
    "# Complete with VIPs (90% Rate)\n",
    "# data.loc[data.CryoSleep.isnull() & data.VIP, 'CryoSleep']=False # 214 to go\n",
    "# print('Nulls Count after VIPs:', data[data.CryoSleep.isnull()].shape[0], '\\n')\n",
    "\n",
    "# Complete for Kids and Seniors (to be tested)\n",
    "# data.loc[data.CryoSleep.isnull() & np.logical_or(data.Age>=65, data.Age<=12), 'CryoSleep'] = True\n",
    "# print('Nulls Count after Age:', data[data.CryoSleep.isnull()].shape[0], '\\n')"
   ]
  },
  {
   "cell_type": "markdown",
   "id": "dafc9774",
   "metadata": {},
   "source": [
    "## Cabin (Feature)"
   ]
  },
  {
   "cell_type": "code",
   "execution_count": 13,
   "id": "b2920033",
   "metadata": {
    "scrolled": true
   },
   "outputs": [
    {
     "name": "stdout",
     "output_type": "stream",
     "text": [
      "Nulls Count Cabin: 199 \n",
      "\n",
      "0    B/0/P\n",
      "1    F/0/S\n",
      "2    A/0/S\n",
      "3    A/0/S\n",
      "4    F/1/S\n",
      "Name: Cabin, dtype: object\n"
     ]
    }
   ],
   "source": [
    "# The cabin number where the passenger is staying. Takes the form deck/num/side, \n",
    "# where side can be either P for Port or S for Starboard.\n",
    "\n",
    "print('Nulls Count Cabin:', data[data.Cabin.isnull()].shape[0], '\\n')\n",
    "print(data['Cabin'].head()) # PortSide/StarboardSide: Left/Right"
   ]
  },
  {
   "cell_type": "markdown",
   "id": "0e613468",
   "metadata": {},
   "source": [
    "#### FillNa (GroupId Approach)"
   ]
  },
  {
   "cell_type": "code",
   "execution_count": 14,
   "id": "166eb9e4",
   "metadata": {},
   "outputs": [
    {
     "data": {
      "text/plain": [
       "GroupId\n",
       "0001    B/0/P\n",
       "0002    F/0/S\n",
       "0003    A/0/S\n",
       "0004    F/1/S\n",
       "0005    F/0/P\n",
       "Name: Cabin, dtype: object"
      ]
     },
     "metadata": {},
     "output_type": "display_data"
    },
    {
     "name": "stdout",
     "output_type": "stream",
     "text": [
      "Nulls Count Cabin: 134 \n",
      "\n"
     ]
    }
   ],
   "source": [
    "# GroupID DIM table for completing NA values\n",
    "GroupId_DIM = data[['GroupId', 'Cabin']].drop_duplicates(subset='GroupId').set_index('GroupId').squeeze()\n",
    "display(GroupId_DIM.head())\n",
    "\n",
    "data.Cabin.fillna('GroupId_DIM')\n",
    "\n",
    "# SQL Merge (should be an easier way for sure)\n",
    "data.loc[data.Cabin.isnull(), 'Cabin']= pd.merge(left=data.loc[data.Cabin.isnull()][['GroupId', 'Cabin']],\n",
    "         right=GroupId_DIM,\n",
    "         how='left',\n",
    "         left_on='GroupId',\n",
    "         right_index=True\n",
    "        )['Cabin_y']\n",
    "\n",
    "print('Nulls Count Cabin:', data[data.Cabin.isnull()].shape[0], '\\n')\n",
    "\n",
    "# There will be another fillna() for each individual fature after split (Deck, Num, Side)"
   ]
  },
  {
   "cell_type": "markdown",
   "id": "28de1f55",
   "metadata": {},
   "source": [
    "#### Split (Cabin)"
   ]
  },
  {
   "cell_type": "code",
   "execution_count": 15,
   "id": "fc5b4e93",
   "metadata": {
    "scrolled": true
   },
   "outputs": [
    {
     "data": {
      "text/html": [
       "<div>\n",
       "<style scoped>\n",
       "    .dataframe tbody tr th:only-of-type {\n",
       "        vertical-align: middle;\n",
       "    }\n",
       "\n",
       "    .dataframe tbody tr th {\n",
       "        vertical-align: top;\n",
       "    }\n",
       "\n",
       "    .dataframe thead th {\n",
       "        text-align: right;\n",
       "    }\n",
       "</style>\n",
       "<table border=\"1\" class=\"dataframe\">\n",
       "  <thead>\n",
       "    <tr style=\"text-align: right;\">\n",
       "      <th></th>\n",
       "      <th>Deck</th>\n",
       "      <th>Num</th>\n",
       "      <th>Side</th>\n",
       "    </tr>\n",
       "  </thead>\n",
       "  <tbody>\n",
       "    <tr>\n",
       "      <th>0</th>\n",
       "      <td>B</td>\n",
       "      <td>0</td>\n",
       "      <td>P</td>\n",
       "    </tr>\n",
       "    <tr>\n",
       "      <th>1</th>\n",
       "      <td>F</td>\n",
       "      <td>0</td>\n",
       "      <td>S</td>\n",
       "    </tr>\n",
       "    <tr>\n",
       "      <th>2</th>\n",
       "      <td>A</td>\n",
       "      <td>0</td>\n",
       "      <td>S</td>\n",
       "    </tr>\n",
       "    <tr>\n",
       "      <th>3</th>\n",
       "      <td>A</td>\n",
       "      <td>0</td>\n",
       "      <td>S</td>\n",
       "    </tr>\n",
       "    <tr>\n",
       "      <th>4</th>\n",
       "      <td>F</td>\n",
       "      <td>1</td>\n",
       "      <td>S</td>\n",
       "    </tr>\n",
       "    <tr>\n",
       "      <th>...</th>\n",
       "      <td>...</td>\n",
       "      <td>...</td>\n",
       "      <td>...</td>\n",
       "    </tr>\n",
       "    <tr>\n",
       "      <th>8688</th>\n",
       "      <td>A</td>\n",
       "      <td>98</td>\n",
       "      <td>P</td>\n",
       "    </tr>\n",
       "    <tr>\n",
       "      <th>8689</th>\n",
       "      <td>G</td>\n",
       "      <td>1499</td>\n",
       "      <td>S</td>\n",
       "    </tr>\n",
       "    <tr>\n",
       "      <th>8690</th>\n",
       "      <td>G</td>\n",
       "      <td>1500</td>\n",
       "      <td>S</td>\n",
       "    </tr>\n",
       "    <tr>\n",
       "      <th>8691</th>\n",
       "      <td>E</td>\n",
       "      <td>608</td>\n",
       "      <td>S</td>\n",
       "    </tr>\n",
       "    <tr>\n",
       "      <th>8692</th>\n",
       "      <td>E</td>\n",
       "      <td>608</td>\n",
       "      <td>S</td>\n",
       "    </tr>\n",
       "  </tbody>\n",
       "</table>\n",
       "<p>8693 rows × 3 columns</p>\n",
       "</div>"
      ],
      "text/plain": [
       "     Deck   Num Side\n",
       "0       B     0    P\n",
       "1       F     0    S\n",
       "2       A     0    S\n",
       "3       A     0    S\n",
       "4       F     1    S\n",
       "...   ...   ...  ...\n",
       "8688    A    98    P\n",
       "8689    G  1499    S\n",
       "8690    G  1500    S\n",
       "8691    E   608    S\n",
       "8692    E   608    S\n",
       "\n",
       "[8693 rows x 3 columns]"
      ]
     },
     "metadata": {},
     "output_type": "display_data"
    }
   ],
   "source": [
    "col_names = ['Deck', 'Num', 'Side']\n",
    "data_Cabin = data['Cabin'].str.split('/', expand=True).set_axis(col_names, axis=1)\n",
    "\n",
    "# Converting Num to Int\n",
    "data_Cabin.loc[data_Cabin.Num.notnull(), 'Num'] = \\\n",
    "                data_Cabin.loc[data_Cabin.Num.notnull()].Num.astype(int) # Probably there is an easier way\n",
    "\n",
    "display(data_Cabin)\n",
    "\n",
    "# Concat\n",
    "data = pd.concat([data, data_Cabin], axis=1)"
   ]
  },
  {
   "cell_type": "markdown",
   "id": "154dc0ae",
   "metadata": {},
   "source": [
    "## Deck (Created Feature)"
   ]
  },
  {
   "cell_type": "code",
   "execution_count": 16,
   "id": "29451446",
   "metadata": {
    "scrolled": true
   },
   "outputs": [
    {
     "name": "stdout",
     "output_type": "stream",
     "text": [
      "F      2804\n",
      "G      2578\n",
      "E       880\n",
      "B       790\n",
      "C       758\n",
      "D       483\n",
      "A       261\n",
      "NaN     134\n",
      "T         5\n",
      "Name: Deck, dtype: int64\n"
     ]
    },
    {
     "data": {
      "image/png": "[encoded data removed]",
      "text/plain": [
       "<Figure size 800x300 with 1 Axes>"
      ]
     },
     "metadata": {},
     "output_type": "display_data"
    }
   ],
   "source": [
    "# Working but ugly\n",
    "print(data['Deck'].value_counts(dropna=False))\n",
    "\n",
    "fig, ax = plt.subplots(1, 1, figsize=(8, 3))\n",
    "sns.countplot(y=data['Deck'], palette='Set2', order=data['Deck'].value_counts().index)\n",
    "ax.set_ylabel('')\n",
    "ax.set_xlabel('')\n",
    "\n",
    "plt.title('Count by Deck')\n",
    "plt.show()\n",
    "\n",
    "# 199 nulls"
   ]
  },
  {
   "cell_type": "markdown",
   "id": "8a60e9ab",
   "metadata": {},
   "source": [
    "## Side (Created Feature)"
   ]
  },
  {
   "cell_type": "code",
   "execution_count": 17,
   "id": "0af4cd1b",
   "metadata": {
    "scrolled": true
   },
   "outputs": [
    {
     "name": "stdout",
     "output_type": "stream",
     "text": [
      "S      4323\n",
      "P      4236\n",
      "NaN     134\n",
      "Name: Side, dtype: int64\n"
     ]
    },
    {
     "data": {
      "image/png": "[encoded data removed]",
      "text/plain": [
       "<Figure size 1000x200 with 2 Axes>"
      ]
     },
     "metadata": {},
     "output_type": "display_data"
    },
    {
     "name": "stdout",
     "output_type": "stream",
     "text": [
      "Nulls for Deck, Side and Num are the same: 134\n"
     ]
    }
   ],
   "source": [
    "print(data.Side.value_counts(dropna=False))\n",
    "\n",
    "# Plot\n",
    "fix, ax = plt.subplots(1, 2, figsize=(10, 2))\n",
    "\n",
    "# ax[0]\n",
    "data['Side'].value_counts(dropna=False).sort_index(ascending=False). \\\n",
    "                    plot(kind='pie', autopct='%.1f%%', ax=ax[0], startangle=270, cmap='Set2')\n",
    "ax[0].set_ylabel('')\n",
    "ax[0].set_title('Distribution')\n",
    "\n",
    "# ax[1]\n",
    "sns.countplot(y=data['Side'], hue=data['Transported'], ax=ax[1], hue_order=[True, False])\n",
    "ax[1].set_ylabel('')\n",
    "ax[1].set_xlabel('')\n",
    "ax[1].set_title('Count and Comparison w/Target')\n",
    "plt.show()\n",
    "\n",
    "# Same # nulls as Deck, maybe are related?\n",
    "print('Nulls for Deck, Side and Num are the same:', \\\n",
    "      data[data.Deck.isnull() & data.Side.isnull() & data.Num.isnull()].shape[0]) # 199 = All the same"
   ]
  },
  {
   "cell_type": "markdown",
   "id": "ca4882b4",
   "metadata": {},
   "source": [
    "## Num (Created Feature)"
   ]
  },
  {
   "cell_type": "code",
   "execution_count": 18,
   "id": "e34011b8",
   "metadata": {},
   "outputs": [
    {
     "name": "stdout",
     "output_type": "stream",
     "text": [
      "Nulls: 134 \n",
      "\n"
     ]
    }
   ],
   "source": [
    "print('Nulls:', data['Num'].isnull().sum(), '\\n')"
   ]
  },
  {
   "cell_type": "code",
   "execution_count": 19,
   "id": "0d18802b",
   "metadata": {},
   "outputs": [
    {
     "data": {
      "text/html": [
       "<div>\n",
       "<style scoped>\n",
       "    .dataframe tbody tr th:only-of-type {\n",
       "        vertical-align: middle;\n",
       "    }\n",
       "\n",
       "    .dataframe tbody tr th {\n",
       "        vertical-align: top;\n",
       "    }\n",
       "\n",
       "    .dataframe thead th {\n",
       "        text-align: right;\n",
       "    }\n",
       "</style>\n",
       "<table border=\"1\" class=\"dataframe\">\n",
       "  <thead>\n",
       "    <tr style=\"text-align: right;\">\n",
       "      <th></th>\n",
       "      <th></th>\n",
       "      <th></th>\n",
       "      <th>Count</th>\n",
       "    </tr>\n",
       "    <tr>\n",
       "      <th>Side</th>\n",
       "      <th>Deck</th>\n",
       "      <th>Num</th>\n",
       "      <th></th>\n",
       "    </tr>\n",
       "  </thead>\n",
       "  <tbody>\n",
       "    <tr>\n",
       "      <th rowspan=\"11\" valign=\"top\">P</th>\n",
       "      <th rowspan=\"11\" valign=\"top\">F</th>\n",
       "      <th>0</th>\n",
       "      <td>1</td>\n",
       "    </tr>\n",
       "    <tr>\n",
       "      <th>1</th>\n",
       "      <td>1</td>\n",
       "    </tr>\n",
       "    <tr>\n",
       "      <th>2</th>\n",
       "      <td>1</td>\n",
       "    </tr>\n",
       "    <tr>\n",
       "      <th>3</th>\n",
       "      <td>1</td>\n",
       "    </tr>\n",
       "    <tr>\n",
       "      <th>4</th>\n",
       "      <td>1</td>\n",
       "    </tr>\n",
       "    <tr>\n",
       "      <th>...</th>\n",
       "      <td>...</td>\n",
       "    </tr>\n",
       "    <tr>\n",
       "      <th>1888</th>\n",
       "      <td>2</td>\n",
       "    </tr>\n",
       "    <tr>\n",
       "      <th>1891</th>\n",
       "      <td>1</td>\n",
       "    </tr>\n",
       "    <tr>\n",
       "      <th>1892</th>\n",
       "      <td>1</td>\n",
       "    </tr>\n",
       "    <tr>\n",
       "      <th>1893</th>\n",
       "      <td>1</td>\n",
       "    </tr>\n",
       "    <tr>\n",
       "      <th>1894</th>\n",
       "      <td>1</td>\n",
       "    </tr>\n",
       "  </tbody>\n",
       "</table>\n",
       "<p>1218 rows × 1 columns</p>\n",
       "</div>"
      ],
      "text/plain": [
       "                Count\n",
       "Side Deck Num        \n",
       "P    F    0         1\n",
       "          1         1\n",
       "          2         1\n",
       "          3         1\n",
       "          4         1\n",
       "...               ...\n",
       "          1888      2\n",
       "          1891      1\n",
       "          1892      1\n",
       "          1893      1\n",
       "          1894      1\n",
       "\n",
       "[1218 rows x 1 columns]"
      ]
     },
     "metadata": {},
     "output_type": "display_data"
    },
    {
     "data": {
      "text/html": [
       "<div>\n",
       "<style scoped>\n",
       "    .dataframe tbody tr th:only-of-type {\n",
       "        vertical-align: middle;\n",
       "    }\n",
       "\n",
       "    .dataframe tbody tr th {\n",
       "        vertical-align: top;\n",
       "    }\n",
       "\n",
       "    .dataframe thead th {\n",
       "        text-align: right;\n",
       "    }\n",
       "</style>\n",
       "<table border=\"1\" class=\"dataframe\">\n",
       "  <thead>\n",
       "    <tr style=\"text-align: right;\">\n",
       "      <th></th>\n",
       "      <th></th>\n",
       "      <th></th>\n",
       "      <th>Count</th>\n",
       "    </tr>\n",
       "    <tr>\n",
       "      <th>Side</th>\n",
       "      <th>Deck</th>\n",
       "      <th>Num</th>\n",
       "      <th></th>\n",
       "    </tr>\n",
       "  </thead>\n",
       "  <tbody>\n",
       "    <tr>\n",
       "      <th rowspan=\"11\" valign=\"top\">S</th>\n",
       "      <th rowspan=\"11\" valign=\"top\">F</th>\n",
       "      <th>0</th>\n",
       "      <td>1</td>\n",
       "    </tr>\n",
       "    <tr>\n",
       "      <th>1</th>\n",
       "      <td>1</td>\n",
       "    </tr>\n",
       "    <tr>\n",
       "      <th>2</th>\n",
       "      <td>1</td>\n",
       "    </tr>\n",
       "    <tr>\n",
       "      <th>3</th>\n",
       "      <td>1</td>\n",
       "    </tr>\n",
       "    <tr>\n",
       "      <th>6</th>\n",
       "      <td>1</td>\n",
       "    </tr>\n",
       "    <tr>\n",
       "      <th>...</th>\n",
       "      <td>...</td>\n",
       "    </tr>\n",
       "    <tr>\n",
       "      <th>1787</th>\n",
       "      <td>1</td>\n",
       "    </tr>\n",
       "    <tr>\n",
       "      <th>1788</th>\n",
       "      <td>1</td>\n",
       "    </tr>\n",
       "    <tr>\n",
       "      <th>1789</th>\n",
       "      <td>1</td>\n",
       "    </tr>\n",
       "    <tr>\n",
       "      <th>1792</th>\n",
       "      <td>1</td>\n",
       "    </tr>\n",
       "    <tr>\n",
       "      <th>1793</th>\n",
       "      <td>1</td>\n",
       "    </tr>\n",
       "  </tbody>\n",
       "</table>\n",
       "<p>1157 rows × 1 columns</p>\n",
       "</div>"
      ],
      "text/plain": [
       "                Count\n",
       "Side Deck Num        \n",
       "S    F    0         1\n",
       "          1         1\n",
       "          2         1\n",
       "          3         1\n",
       "          6         1\n",
       "...               ...\n",
       "          1787      1\n",
       "          1788      1\n",
       "          1789      1\n",
       "          1792      1\n",
       "          1793      1\n",
       "\n",
       "[1157 rows x 1 columns]"
      ]
     },
     "metadata": {},
     "output_type": "display_data"
    }
   ],
   "source": [
    "# Checking boat simetry\n",
    "Cabin_P_F = data[(data.Side=='P') & (data.Deck=='F')].groupby(['Side', 'Deck', 'Num']).size().to_frame('Count')\n",
    "Cabin_S_F = data[(data.Side=='S') & (data.Deck=='F')].groupby(['Side', 'Deck', 'Num']).size().to_frame('Count')\n",
    "\n",
    "display(Cabin_P_F)\n",
    "display(Cabin_S_F)\n",
    "\n",
    "# I dont know how to handle missing Num"
   ]
  },
  {
   "cell_type": "markdown",
   "id": "d756ae38",
   "metadata": {},
   "source": [
    "## Destination (Feature)"
   ]
  },
  {
   "cell_type": "code",
   "execution_count": 20,
   "id": "c0083439",
   "metadata": {
    "scrolled": true
   },
   "outputs": [
    {
     "name": "stdout",
     "output_type": "stream",
     "text": [
      "TRAPPIST-1e      5915\n",
      "55 Cancri e      1800\n",
      "PSO J318.5-22     796\n",
      "NaN               182\n",
      "Name: Destination, dtype: int64\n"
     ]
    },
    {
     "data": {
      "image/png": "[encoded data removed]",
      "text/plain": [
       "<Figure size 1200x200 with 2 Axes>"
      ]
     },
     "metadata": {},
     "output_type": "display_data"
    }
   ],
   "source": [
    "print(data['Destination'].value_counts(dropna=False))\n",
    "\n",
    "# Plots\n",
    "fig, ax = plt.subplots(1, 2, figsize=(12, 2))\n",
    "\n",
    "# ax[0]\n",
    "data['Destination'].value_counts(dropna=False).plot(kind='pie', autopct='%.1f%%', ax=ax[0], startangle=90, cmap='Set2')\n",
    "ax[0].set_ylabel('')\n",
    "ax[0].set_title('Distribution')\n",
    "\n",
    "# ax[1]\n",
    "sns.countplot(y=data['Destination'], order=data['Destination'].value_counts().index, ax=ax[1], hue=data['Transported'])\n",
    "ax[1].set_ylabel('')\n",
    "ax[1].set_title('Count and Comparison w/Target')\n",
    "\n",
    "\n",
    "plt.suptitle('Destination')\n",
    "plt.show()\n",
    "\n",
    "# Similar to HomePlanet. Most passengers heading TRAPPIST-1e, 182 Nulls\n",
    "# 55 Cancri e looks like they have a better Transported Rate"
   ]
  },
  {
   "cell_type": "markdown",
   "id": "a6ffada4",
   "metadata": {},
   "source": [
    "## Age (Feature)"
   ]
  },
  {
   "cell_type": "code",
   "execution_count": 21,
   "id": "774ddd6c",
   "metadata": {
    "scrolled": false
   },
   "outputs": [
    {
     "name": "stdout",
     "output_type": "stream",
     "text": [
      "Nulls: 179\n",
      "Skewness: 0.419097 \n",
      "\n",
      "count    8514.000000\n",
      "mean       28.827930\n",
      "std        14.489021\n",
      "min         0.000000\n",
      "25%        19.000000\n",
      "50%        27.000000\n",
      "75%        38.000000\n",
      "max        79.000000\n",
      "Name: Age, dtype: float64\n"
     ]
    },
    {
     "data": {
      "image/png": "[encoded data removed]",
      "text/plain": [
       "<Figure size 1800x400 with 1 Axes>"
      ]
     },
     "metadata": {},
     "output_type": "display_data"
    }
   ],
   "source": [
    "print('Nulls:', data['Age'].isnull().sum())\n",
    "print(\"Skewness: %f\" % data['Age'].skew(), '\\n') # Right\n",
    "print(data['Age'].describe())\n",
    "\n",
    "# Plots\n",
    "fig,ax=plt.subplots(1,1,figsize=(18,4))\n",
    "sns.histplot(data=data['Age'], binwidth=5)\n",
    "\n",
    "plt.title('Age')\n",
    "plt.show()\n",
    "\n",
    "# Will I have to descritize this one?"
   ]
  },
  {
   "cell_type": "markdown",
   "id": "c41fc4ac",
   "metadata": {},
   "source": [
    "## VIP (Feature)"
   ]
  },
  {
   "cell_type": "code",
   "execution_count": 22,
   "id": "8b267723",
   "metadata": {
    "scrolled": false
   },
   "outputs": [
    {
     "name": "stdout",
     "output_type": "stream",
     "text": [
      "True      199\n",
      "False    8291\n",
      "NaN       203\n",
      "Name: VIP, dtype: int64\n"
     ]
    },
    {
     "data": {
      "image/png": "[encoded data removed]",
      "text/plain": [
       "<Figure size 1200x200 with 2 Axes>"
      ]
     },
     "metadata": {},
     "output_type": "display_data"
    }
   ],
   "source": [
    "print(data['VIP'].value_counts(dropna=False).sort_index(ascending=False))\n",
    "\n",
    "# Plot\n",
    "fig,ax=plt.subplots(1,2,figsize=(12,2))\n",
    "\n",
    "# ax[0]\n",
    "data['VIP'].value_counts(dropna=False).plot(kind='pie', autopct='%.1f%%', startangle=90, cmap='Set2', ax=ax[0])\n",
    "ax[0].set_ylabel('')\n",
    "ax[0].set_title('Distribution')\n",
    "\n",
    "# ax[1]\n",
    "sns.countplot(y=data['VIP'], hue=data['Transported'], order=[True, False], hue_order=[True, False], ax=ax[1])\n",
    "ax[1].set_ylabel('')\n",
    "ax[1].set_title('Count and Comparison w/Target')\n",
    "fig.suptitle('VIP')\n",
    "plt.show()\n",
    "\n",
    "# Few VIPS and few Nulls, nothing important here"
   ]
  },
  {
   "cell_type": "markdown",
   "id": "c768c199",
   "metadata": {},
   "source": [
    "## Name (Feature)"
   ]
  },
  {
   "cell_type": "code",
   "execution_count": 23,
   "id": "8d87bed7",
   "metadata": {
    "scrolled": true
   },
   "outputs": [
    {
     "name": "stdout",
     "output_type": "stream",
     "text": [
      "Nulls: 200 \n",
      "\n",
      "Gollux Reedall        2\n",
      "Elaney Webstephrey    2\n",
      "Grake Porki           2\n",
      "Sus Coolez            2\n",
      "Apix Wala             2\n",
      "                     ..\n",
      "Jamela Griffy         1\n",
      "Hardy Griffy          1\n",
      "Salley Mckinn         1\n",
      "Mall Frasp            1\n",
      "Propsh Hontichre      1\n",
      "Name: Name, Length: 8473, dtype: int64\n"
     ]
    }
   ],
   "source": [
    "print('Nulls:', data['Name'].isnull().sum(), '\\n')\n",
    "print(data['Name'].value_counts())\n",
    "\n",
    "# 200 nulls, couple of name repeted. Im pretty sure this Feature is useless"
   ]
  },
  {
   "cell_type": "markdown",
   "id": "ad8d02fc",
   "metadata": {},
   "source": [
    " ## RoomService (Feature)"
   ]
  },
  {
   "cell_type": "code",
   "execution_count": 24,
   "id": "fa671951",
   "metadata": {
    "scrolled": true
   },
   "outputs": [
    {
     "name": "stdout",
     "output_type": "stream",
     "text": [
      "Nulls: 181 \n",
      "\n",
      "count     8512.000000\n",
      "mean       224.687617\n",
      "std        666.717663\n",
      "min          0.000000\n",
      "25%          0.000000\n",
      "50%          0.000000\n",
      "75%         47.000000\n",
      "max      14327.000000\n",
      "Name: RoomService, dtype: float64\n"
     ]
    },
    {
     "data": {
      "image/png": "[encoded data removed]",
      "text/plain": [
       "<Figure size 800x200 with 2 Axes>"
      ]
     },
     "metadata": {},
     "output_type": "display_data"
    }
   ],
   "source": [
    "print('Nulls:', data['RoomService'].isnull().sum(), '\\n')\n",
    "print(data['RoomService'].describe())\n",
    "\n",
    "# Plot\n",
    "fig, ax = plt.subplots(2, 1, figsize=(8, 2))\n",
    "\n",
    "# ax[0]\n",
    "sns.boxplot(x=data['RoomService'], showfliers=True, ax=ax[0])\n",
    "ax[0].set_ylabel('')\n",
    "\n",
    "# ax[1]\n",
    "sns.boxplot(x=data['RoomService'], showfliers=False, ax=ax[1])\n",
    "ax[1].set_ylabel('')\n",
    "\n",
    "fig.suptitle('RoomService with and without Outliers')\n",
    "plt.show()"
   ]
  },
  {
   "cell_type": "markdown",
   "id": "0c2f4423",
   "metadata": {},
   "source": [
    "## FoodCourt (Feature)"
   ]
  },
  {
   "cell_type": "code",
   "execution_count": 25,
   "id": "121be00c",
   "metadata": {
    "scrolled": false
   },
   "outputs": [
    {
     "name": "stdout",
     "output_type": "stream",
     "text": [
      "Nulls: 183 \n",
      "\n",
      "count     8510.000000\n",
      "mean       458.077203\n",
      "std       1611.489240\n",
      "min          0.000000\n",
      "25%          0.000000\n",
      "50%          0.000000\n",
      "75%         76.000000\n",
      "max      29813.000000\n",
      "Name: FoodCourt, dtype: float64\n"
     ]
    },
    {
     "data": {
      "image/png": "[encoded data removed]",
      "text/plain": [
       "<Figure size 800x200 with 2 Axes>"
      ]
     },
     "metadata": {},
     "output_type": "display_data"
    }
   ],
   "source": [
    "print('Nulls:', data['FoodCourt'].isnull().sum(), '\\n')\n",
    "print(data['FoodCourt'].describe())\n",
    "\n",
    "# Plot\n",
    "fig, ax = plt.subplots(2, 1, figsize=(8, 2))\n",
    "\n",
    "# ax[0]\n",
    "sns.boxplot(x=data['FoodCourt'], showfliers=True, ax=ax[0])\n",
    "ax[0].set_ylabel('')\n",
    "\n",
    "# ax[1]\n",
    "sns.boxplot(x=data['FoodCourt'], showfliers=False, ax=ax[1])\n",
    "ax[1].set_ylabel('')\n",
    "\n",
    "fig.suptitle('FoodCourt with and without Outliers')\n",
    "plt.show()"
   ]
  },
  {
   "cell_type": "markdown",
   "id": "7c5536ba",
   "metadata": {},
   "source": [
    "## ShoppingMall (Feature)"
   ]
  },
  {
   "cell_type": "code",
   "execution_count": 26,
   "id": "b7d6c0da",
   "metadata": {
    "scrolled": true
   },
   "outputs": [
    {
     "name": "stdout",
     "output_type": "stream",
     "text": [
      "Nulls: 208 \n",
      "\n",
      "count     8485.000000\n",
      "mean       173.729169\n",
      "std        604.696458\n",
      "min          0.000000\n",
      "25%          0.000000\n",
      "50%          0.000000\n",
      "75%         27.000000\n",
      "max      23492.000000\n",
      "Name: ShoppingMall, dtype: float64\n"
     ]
    },
    {
     "data": {
      "image/png": "[encoded data removed]",
      "text/plain": [
       "<Figure size 800x200 with 2 Axes>"
      ]
     },
     "metadata": {},
     "output_type": "display_data"
    }
   ],
   "source": [
    "print('Nulls:', data['ShoppingMall'].isnull().sum(), '\\n')\n",
    "print(data['ShoppingMall'].describe())\n",
    "\n",
    "# Plot\n",
    "fig, ax = plt.subplots(2, 1, figsize=(8, 2))\n",
    "\n",
    "# ax[0]\n",
    "sns.boxplot(x=data['ShoppingMall'], showfliers=True, ax=ax[0])\n",
    "ax[0].set_ylabel('')\n",
    "\n",
    "# ax[1]\n",
    "sns.boxplot(x=data['ShoppingMall'], showfliers=False, ax=ax[1])\n",
    "ax[1].set_ylabel('')\n",
    "\n",
    "fig.suptitle('ShoppingMall with and without Outliers')\n",
    "plt.show()"
   ]
  },
  {
   "cell_type": "markdown",
   "id": "12e2b141",
   "metadata": {},
   "source": [
    "## Spa (Feature)"
   ]
  },
  {
   "cell_type": "code",
   "execution_count": 27,
   "id": "2faf9f4f",
   "metadata": {
    "scrolled": true
   },
   "outputs": [
    {
     "name": "stdout",
     "output_type": "stream",
     "text": [
      "Nulls: 183 \n",
      "\n",
      "count     8510.000000\n",
      "mean       311.138778\n",
      "std       1136.705535\n",
      "min          0.000000\n",
      "25%          0.000000\n",
      "50%          0.000000\n",
      "75%         59.000000\n",
      "max      22408.000000\n",
      "Name: Spa, dtype: float64\n"
     ]
    },
    {
     "data": {
      "image/png": "[encoded data removed]",
      "text/plain": [
       "<Figure size 800x200 with 2 Axes>"
      ]
     },
     "metadata": {},
     "output_type": "display_data"
    }
   ],
   "source": [
    "print('Nulls:', data['Spa'].isnull().sum(), '\\n')\n",
    "print(data['Spa'].describe())\n",
    "\n",
    "# Plot\n",
    "fig, ax = plt.subplots(2, 1, figsize=(8, 2))\n",
    "\n",
    "# ax[0]\n",
    "sns.boxplot(x=data['Spa'], showfliers=True, ax=ax[0])\n",
    "ax[0].set_ylabel('')\n",
    "\n",
    "# ax[1]\n",
    "sns.boxplot(x=data['Spa'], showfliers=False, ax=ax[1])\n",
    "ax[1].set_ylabel('')\n",
    "\n",
    "fig.suptitle('Spa with and without Outliers')\n",
    "plt.show()"
   ]
  },
  {
   "cell_type": "markdown",
   "id": "dcecb41d",
   "metadata": {},
   "source": [
    "## VRDeck (Feature)"
   ]
  },
  {
   "cell_type": "code",
   "execution_count": 28,
   "id": "15df860e",
   "metadata": {
    "scrolled": false
   },
   "outputs": [
    {
     "name": "stdout",
     "output_type": "stream",
     "text": [
      "Nulls: 188 \n",
      "\n",
      "count     8505.000000\n",
      "mean       304.854791\n",
      "std       1145.717189\n",
      "min          0.000000\n",
      "25%          0.000000\n",
      "50%          0.000000\n",
      "75%         46.000000\n",
      "max      24133.000000\n",
      "Name: VRDeck, dtype: float64\n"
     ]
    },
    {
     "data": {
      "image/png": "[encoded data removed]",
      "text/plain": [
       "<Figure size 800x200 with 2 Axes>"
      ]
     },
     "metadata": {},
     "output_type": "display_data"
    }
   ],
   "source": [
    "print('Nulls:', data['VRDeck'].isnull().sum(), '\\n')\n",
    "print(data['VRDeck'].describe())\n",
    "\n",
    "# Plot\n",
    "fig, ax = plt.subplots(2, 1, figsize=(8, 2))\n",
    "\n",
    "# ax[0]\n",
    "sns.boxplot(x=data['VRDeck'], showfliers=True, ax=ax[0])\n",
    "ax[0].set_ylabel('')\n",
    "\n",
    "# ax[1]\n",
    "sns.boxplot(x=data['VRDeck'], showfliers=False, ax=ax[1])\n",
    "ax[1].set_ylabel('')\n",
    "\n",
    "fig.suptitle('VRDeck with and without Outliers')\n",
    "plt.show()"
   ]
  },
  {
   "cell_type": "markdown",
   "id": "19669266",
   "metadata": {},
   "source": [
    "# Spa (Feature)"
   ]
  },
  {
   "cell_type": "code",
   "execution_count": 29,
   "id": "4bb733b8",
   "metadata": {},
   "outputs": [
    {
     "name": "stdout",
     "output_type": "stream",
     "text": [
      "Nulls: 183 \n",
      "\n",
      "count     8510.000000\n",
      "mean       311.138778\n",
      "std       1136.705535\n",
      "min          0.000000\n",
      "25%          0.000000\n",
      "50%          0.000000\n",
      "75%         59.000000\n",
      "max      22408.000000\n",
      "Name: Spa, dtype: float64\n"
     ]
    },
    {
     "data": {
      "image/png": "[encoded data removed]",
      "text/plain": [
       "<Figure size 800x200 with 2 Axes>"
      ]
     },
     "metadata": {},
     "output_type": "display_data"
    }
   ],
   "source": [
    "print('Nulls:', data['Spa'].isnull().sum(), '\\n')\n",
    "print(data['Spa'].describe())\n",
    "\n",
    "# Plot\n",
    "fig, ax = plt.subplots(2, 1, figsize=(8, 2))\n",
    "\n",
    "# ax[0]\n",
    "sns.boxplot(x=data['Spa'], showfliers=True, ax=ax[0])\n",
    "ax[0].set_ylabel('')\n",
    "\n",
    "# ax[1]\n",
    "sns.boxplot(x=data['Spa'], showfliers=False, ax=ax[1])\n",
    "ax[1].set_ylabel('')\n",
    "\n",
    "fig.suptitle('Spa with and without Outliers')\n",
    "plt.show()\n",
    "\n",
    "# Weird values, probably we will ignore this Feature"
   ]
  },
  {
   "cell_type": "markdown",
   "id": "135fc630",
   "metadata": {},
   "source": [
    "## Continuous Features Comparation (PairPlot)"
   ]
  },
  {
   "cell_type": "code",
   "execution_count": 30,
   "id": "d9b847ed",
   "metadata": {
    "scrolled": false
   },
   "outputs": [],
   "source": [
    "# Complete NA values with 0\n",
    "data_plot = pd.concat([data.select_dtypes(['float64']).drop(columns='Age').fillna(0), data['Transported']], axis=1)\n",
    "\n",
    "# Plot\n",
    "# sns.pairplot(data=data_plot, hue='Transported', hue_order=[True, False])\n",
    "# plt.show()\n",
    "\n",
    "# I can't find any insights"
   ]
  },
  {
   "cell_type": "markdown",
   "id": "31144e51",
   "metadata": {},
   "source": [
    "# Correcting and Completing Nulls"
   ]
  },
  {
   "cell_type": "markdown",
   "id": "0b99256a",
   "metadata": {},
   "source": [
    "## HomePlanet (Feature)"
   ]
  },
  {
   "cell_type": "code",
   "execution_count": 31,
   "id": "74b2a2e2",
   "metadata": {},
   "outputs": [
    {
     "name": "stdout",
     "output_type": "stream",
     "text": [
      "Nulls Count: 201 \n",
      "\n"
     ]
    }
   ],
   "source": [
    "# Counting and Checking nulls\n",
    "print('Nulls Count:', data[data.HomePlanet.isnull()].shape[0], '\\n')"
   ]
  },
  {
   "cell_type": "markdown",
   "id": "ff3881cc",
   "metadata": {},
   "source": [
    "#### Groups Approach"
   ]
  },
  {
   "cell_type": "code",
   "execution_count": 32,
   "id": "ec110d2e",
   "metadata": {
    "scrolled": false
   },
   "outputs": [
    {
     "data": {
      "text/plain": [
       "'Passengers in groups'"
      ]
     },
     "metadata": {},
     "output_type": "display_data"
    },
    {
     "data": {
      "text/html": [
       "<div>\n",
       "<style scoped>\n",
       "    .dataframe tbody tr th:only-of-type {\n",
       "        vertical-align: middle;\n",
       "    }\n",
       "\n",
       "    .dataframe tbody tr th {\n",
       "        vertical-align: top;\n",
       "    }\n",
       "\n",
       "    .dataframe thead th {\n",
       "        text-align: right;\n",
       "    }\n",
       "</style>\n",
       "<table border=\"1\" class=\"dataframe\">\n",
       "  <thead>\n",
       "    <tr style=\"text-align: right;\">\n",
       "      <th></th>\n",
       "      <th>PassengerId</th>\n",
       "      <th>HomePlanet</th>\n",
       "      <th>IsAlone</th>\n",
       "    </tr>\n",
       "  </thead>\n",
       "  <tbody>\n",
       "    <tr>\n",
       "      <th>59</th>\n",
       "      <td>0064_02</td>\n",
       "      <td>NaN</td>\n",
       "      <td>False</td>\n",
       "    </tr>\n",
       "    <tr>\n",
       "      <th>113</th>\n",
       "      <td>0119_01</td>\n",
       "      <td>NaN</td>\n",
       "      <td>False</td>\n",
       "    </tr>\n",
       "    <tr>\n",
       "      <th>405</th>\n",
       "      <td>0444_02</td>\n",
       "      <td>NaN</td>\n",
       "      <td>False</td>\n",
       "    </tr>\n",
       "    <tr>\n",
       "      <th>407</th>\n",
       "      <td>0445_02</td>\n",
       "      <td>NaN</td>\n",
       "      <td>False</td>\n",
       "    </tr>\n",
       "    <tr>\n",
       "      <th>438</th>\n",
       "      <td>0470_02</td>\n",
       "      <td>NaN</td>\n",
       "      <td>False</td>\n",
       "    </tr>\n",
       "  </tbody>\n",
       "</table>\n",
       "</div>"
      ],
      "text/plain": [
       "    PassengerId HomePlanet  IsAlone\n",
       "59      0064_02        NaN    False\n",
       "113     0119_01        NaN    False\n",
       "405     0444_02        NaN    False\n",
       "407     0445_02        NaN    False\n",
       "438     0470_02        NaN    False"
      ]
     },
     "metadata": {},
     "output_type": "display_data"
    },
    {
     "name": "stdout",
     "output_type": "stream",
     "text": [
      "In groups with other passengers 92\n"
     ]
    }
   ],
   "source": [
    "# Passangers in Groups\n",
    "display('Passengers in groups', data[data.HomePlanet.isnull() & ~(data.IsAlone)]\n",
    "        [['PassengerId', 'HomePlanet', 'IsAlone']].head())\n",
    "print('In groups with other passengers',data[data.HomePlanet.isnull() & ~(data.IsAlone)].shape[0])\n",
    "\n",
    "# We can get HomePlanet from GroupId for almost 50% of NA. Lets check if this is a valid approach"
   ]
  },
  {
   "cell_type": "code",
   "execution_count": 33,
   "id": "4adaf7e3",
   "metadata": {
    "scrolled": true
   },
   "outputs": [
    {
     "data": {
      "text/html": [
       "<div>\n",
       "<style scoped>\n",
       "    .dataframe tbody tr th:only-of-type {\n",
       "        vertical-align: middle;\n",
       "    }\n",
       "\n",
       "    .dataframe tbody tr th {\n",
       "        vertical-align: top;\n",
       "    }\n",
       "\n",
       "    .dataframe thead th {\n",
       "        text-align: right;\n",
       "    }\n",
       "</style>\n",
       "<table border=\"1\" class=\"dataframe\">\n",
       "  <thead>\n",
       "    <tr style=\"text-align: right;\">\n",
       "      <th></th>\n",
       "      <th>GroupId</th>\n",
       "      <th>HomePlanet</th>\n",
       "      <th>Count</th>\n",
       "    </tr>\n",
       "  </thead>\n",
       "  <tbody>\n",
       "    <tr>\n",
       "      <th>0</th>\n",
       "      <td>0001</td>\n",
       "      <td>Europa</td>\n",
       "      <td>1</td>\n",
       "    </tr>\n",
       "    <tr>\n",
       "      <th>1</th>\n",
       "      <td>0002</td>\n",
       "      <td>Earth</td>\n",
       "      <td>1</td>\n",
       "    </tr>\n",
       "    <tr>\n",
       "      <th>2</th>\n",
       "      <td>0003</td>\n",
       "      <td>Europa</td>\n",
       "      <td>2</td>\n",
       "    </tr>\n",
       "    <tr>\n",
       "      <th>3</th>\n",
       "      <td>0004</td>\n",
       "      <td>Earth</td>\n",
       "      <td>1</td>\n",
       "    </tr>\n",
       "    <tr>\n",
       "      <th>4</th>\n",
       "      <td>0005</td>\n",
       "      <td>Earth</td>\n",
       "      <td>1</td>\n",
       "    </tr>\n",
       "  </tbody>\n",
       "</table>\n",
       "</div>"
      ],
      "text/plain": [
       "  GroupId HomePlanet  Count\n",
       "0    0001     Europa      1\n",
       "1    0002      Earth      1\n",
       "2    0003     Europa      2\n",
       "3    0004      Earth      1\n",
       "4    0005      Earth      1"
      ]
     },
     "metadata": {},
     "output_type": "display_data"
    },
    {
     "name": "stdout",
     "output_type": "stream",
     "text": [
      "Is GroupId unique?: True\n",
      "Nulls Count HomePlanet: 0\n"
     ]
    }
   ],
   "source": [
    "# Lets confirm all members of each group departed from the same HomePlanet\n",
    "\n",
    "data_grp_groupid_homeplanet = data.groupby(['GroupId', 'HomePlanet']).size().to_frame('Count').reset_index()\n",
    "display(data_grp_groupid_homeplanet.head())\n",
    "\n",
    "# There are no duplicated GroupId, so all are from the same HomePlanet\n",
    "print('Is GroupId unique?:', data_grp_groupid_homeplanet.GroupId.is_unique)\n",
    "\n",
    "# Filling Passangers in Groups with value from same GroupId\n",
    "data.loc[:, 'HomePlanet'] = data.sort_values(by=['GroupId', 'HomePlanet'])['HomePlanet'].fillna(method='ffill')\n",
    "print('Nulls Count HomePlanet:', data.HomePlanet.isnull().sum())"
   ]
  },
  {
   "cell_type": "markdown",
   "id": "b1336a7a",
   "metadata": {},
   "source": [
    "#### Mode Approach"
   ]
  },
  {
   "cell_type": "code",
   "execution_count": 34,
   "id": "d7aab47f",
   "metadata": {},
   "outputs": [],
   "source": [
    "# Filling Solo Travelers with the mode # Not Necesary, nulls already 0\n",
    "# data.loc[data.HomePlanet.isnull() & data.IsAlone, 'HomePlanet'] = data.HomePlanet.mode()[0]\n",
    "\n",
    "# print('Nulls Count HomePlanet:', data.HomePlanet.isnull().sum())"
   ]
  },
  {
   "cell_type": "markdown",
   "id": "fd14521f",
   "metadata": {},
   "source": [
    "## CryoSleep (Feature)"
   ]
  },
  {
   "cell_type": "code",
   "execution_count": 35,
   "id": "3a4c8adb",
   "metadata": {},
   "outputs": [
    {
     "name": "stdout",
     "output_type": "stream",
     "text": [
      "Nulls Count CryoSleep: 217 \n",
      "\n"
     ]
    }
   ],
   "source": [
    "# Counting and Checking nulls\n",
    "print('Nulls Count CryoSleep:', data[data.CryoSleep.isnull()].shape[0], '\\n')"
   ]
  },
  {
   "cell_type": "markdown",
   "id": "94db0388",
   "metadata": {},
   "source": [
    "#### Amenites Approcah"
   ]
  },
  {
   "cell_type": "code",
   "execution_count": 36,
   "id": "beb49425",
   "metadata": {},
   "outputs": [
    {
     "name": "stdout",
     "output_type": "stream",
     "text": [
      "Nulls Count CryoSleep: 99 \n",
      "\n"
     ]
    }
   ],
   "source": [
    "# Users spending money onboard are not in CryoSleeping\n",
    "mask_amenities_expenses = (data.RoomService>0) | (data.FoodCourt>0) | (data.ShoppingMall>0) | (data.VRDeck>0)\n",
    "data.loc[mask_amenities_expenses & data.CryoSleep.isnull(), 'CryoSleep'] = False\n",
    "\n",
    "print('Nulls Count CryoSleep:', data[data.CryoSleep.isnull()].shape[0], '\\n')"
   ]
  },
  {
   "cell_type": "markdown",
   "id": "6d36a2a7",
   "metadata": {},
   "source": [
    "#### Transported Approach"
   ]
  },
  {
   "cell_type": "code",
   "execution_count": 37,
   "id": "14f812cd",
   "metadata": {
    "scrolled": true
   },
   "outputs": [
    {
     "data": {
      "text/html": [
       "<div>\n",
       "<style scoped>\n",
       "    .dataframe tbody tr th:only-of-type {\n",
       "        vertical-align: middle;\n",
       "    }\n",
       "\n",
       "    .dataframe tbody tr th {\n",
       "        vertical-align: top;\n",
       "    }\n",
       "\n",
       "    .dataframe thead th {\n",
       "        text-align: right;\n",
       "    }\n",
       "</style>\n",
       "<table border=\"1\" class=\"dataframe\">\n",
       "  <thead>\n",
       "    <tr style=\"text-align: right;\">\n",
       "      <th></th>\n",
       "      <th>CryoSleep</th>\n",
       "      <th>Transported</th>\n",
       "    </tr>\n",
       "  </thead>\n",
       "  <tbody>\n",
       "    <tr>\n",
       "      <th>92</th>\n",
       "      <td>NaN</td>\n",
       "      <td>True</td>\n",
       "    </tr>\n",
       "    <tr>\n",
       "      <th>111</th>\n",
       "      <td>NaN</td>\n",
       "      <td>True</td>\n",
       "    </tr>\n",
       "    <tr>\n",
       "      <th>175</th>\n",
       "      <td>NaN</td>\n",
       "      <td>True</td>\n",
       "    </tr>\n",
       "    <tr>\n",
       "      <th>266</th>\n",
       "      <td>NaN</td>\n",
       "      <td>True</td>\n",
       "    </tr>\n",
       "    <tr>\n",
       "      <th>392</th>\n",
       "      <td>NaN</td>\n",
       "      <td>True</td>\n",
       "    </tr>\n",
       "    <tr>\n",
       "      <th>...</th>\n",
       "      <td>...</td>\n",
       "      <td>...</td>\n",
       "    </tr>\n",
       "    <tr>\n",
       "      <th>7756</th>\n",
       "      <td>NaN</td>\n",
       "      <td>True</td>\n",
       "    </tr>\n",
       "    <tr>\n",
       "      <th>8155</th>\n",
       "      <td>NaN</td>\n",
       "      <td>True</td>\n",
       "    </tr>\n",
       "    <tr>\n",
       "      <th>8362</th>\n",
       "      <td>NaN</td>\n",
       "      <td>True</td>\n",
       "    </tr>\n",
       "    <tr>\n",
       "      <th>8620</th>\n",
       "      <td>NaN</td>\n",
       "      <td>True</td>\n",
       "    </tr>\n",
       "    <tr>\n",
       "      <th>8664</th>\n",
       "      <td>NaN</td>\n",
       "      <td>True</td>\n",
       "    </tr>\n",
       "  </tbody>\n",
       "</table>\n",
       "<p>71 rows × 2 columns</p>\n",
       "</div>"
      ],
      "text/plain": [
       "     CryoSleep  Transported\n",
       "92         NaN         True\n",
       "111        NaN         True\n",
       "175        NaN         True\n",
       "266        NaN         True\n",
       "392        NaN         True\n",
       "...        ...          ...\n",
       "7756       NaN         True\n",
       "8155       NaN         True\n",
       "8362       NaN         True\n",
       "8620       NaN         True\n",
       "8664       NaN         True\n",
       "\n",
       "[71 rows x 2 columns]"
      ]
     },
     "metadata": {},
     "output_type": "display_data"
    },
    {
     "name": "stdout",
     "output_type": "stream",
     "text": [
      "\n",
      "Nulls Count CryoSleep: 28 \n",
      "\n"
     ]
    }
   ],
   "source": [
    "# Set True for Transported Passengers. Is this a good approach?\n",
    "\n",
    "display(data.loc[data.CryoSleep.isnull() & data.Transported][['CryoSleep', 'Transported']])\n",
    "data.loc[data.CryoSleep.isnull() & data.Transported, 'CryoSleep'] = True\n",
    "\n",
    "print('\\nNulls Count CryoSleep:', data[data.CryoSleep.isnull()].shape[0], '\\n')"
   ]
  },
  {
   "cell_type": "markdown",
   "id": "5364804c",
   "metadata": {},
   "source": [
    "#### GroupSize Approach"
   ]
  },
  {
   "cell_type": "code",
   "execution_count": 38,
   "id": "b21e0bd8",
   "metadata": {},
   "outputs": [],
   "source": [
    "# Pending"
   ]
  },
  {
   "cell_type": "markdown",
   "id": "aede0e12",
   "metadata": {},
   "source": [
    "#### VIP Approach"
   ]
  },
  {
   "cell_type": "code",
   "execution_count": 39,
   "id": "840f41c9",
   "metadata": {
    "scrolled": true
   },
   "outputs": [
    {
     "name": "stdout",
     "output_type": "stream",
     "text": [
      "False    25\n",
      "Name: VIP, dtype: int64\n",
      "\n",
      "Nulls Count CryoSleep: 28 \n",
      "\n"
     ]
    }
   ],
   "source": [
    "# Set to False for VIPs, any there are just 2\n",
    "print(data[data.CryoSleep.isnull()].VIP.value_counts())\n",
    "data.loc[data.CryoSleep.isnull() & data.VIP, 'CryoSleep'] = False\n",
    "\n",
    "print('\\nNulls Count CryoSleep:', data[data.CryoSleep.isnull()].shape[0], '\\n')"
   ]
  },
  {
   "cell_type": "markdown",
   "id": "4da6972d",
   "metadata": {},
   "source": [
    "#### Mode Approach"
   ]
  },
  {
   "cell_type": "code",
   "execution_count": 40,
   "id": "af0f17c4",
   "metadata": {},
   "outputs": [
    {
     "name": "stdout",
     "output_type": "stream",
     "text": [
      "\n",
      "Nulls Count CryoSleep: 0 \n",
      "\n"
     ]
    }
   ],
   "source": [
    "# For the rest\n",
    "data['CryoSleep'].fillna(data['CryoSleep'].mode()[0], inplace=True)\n",
    "\n",
    "print('\\nNulls Count CryoSleep:', data[data.CryoSleep.isnull()].shape[0], '\\n')"
   ]
  },
  {
   "cell_type": "markdown",
   "id": "f548447c",
   "metadata": {},
   "source": [
    "## Destination (Feature)"
   ]
  },
  {
   "cell_type": "code",
   "execution_count": 41,
   "id": "583be3b0",
   "metadata": {},
   "outputs": [
    {
     "name": "stdout",
     "output_type": "stream",
     "text": [
      "Nulls Count Destination: 182 \n",
      "\n"
     ]
    }
   ],
   "source": [
    "print('Nulls Count Destination:', data[data.Destination.isnull()].shape[0], '\\n')"
   ]
  },
  {
   "cell_type": "markdown",
   "id": "ef17e92d",
   "metadata": {},
   "source": [
    "#### Mode Approach"
   ]
  },
  {
   "cell_type": "code",
   "execution_count": 42,
   "id": "7bba3b80",
   "metadata": {
    "scrolled": true
   },
   "outputs": [
    {
     "name": "stdout",
     "output_type": "stream",
     "text": [
      "Nulls Count Destination: 0 \n",
      "\n"
     ]
    }
   ],
   "source": [
    "data['Destination'].fillna(data['Destination'].mode()[0], inplace=True)\n",
    "print('Nulls Count Destination:', data[data.Destination.isnull()].shape[0], '\\n')"
   ]
  },
  {
   "cell_type": "markdown",
   "id": "663b98f1",
   "metadata": {},
   "source": [
    "## Age (Feature)"
   ]
  },
  {
   "cell_type": "code",
   "execution_count": 43,
   "id": "35a8cb1b",
   "metadata": {
    "scrolled": true
   },
   "outputs": [
    {
     "name": "stdout",
     "output_type": "stream",
     "text": [
      "Nulls Count Age: 179 \n",
      "\n"
     ]
    }
   ],
   "source": [
    "print('Nulls Count Age:', data[data.Age.isnull()].shape[0], '\\n')"
   ]
  },
  {
   "cell_type": "markdown",
   "id": "4bb32d9c",
   "metadata": {},
   "source": [
    "#### Median Approach"
   ]
  },
  {
   "cell_type": "code",
   "execution_count": 44,
   "id": "b43c8099",
   "metadata": {
    "scrolled": true
   },
   "outputs": [],
   "source": [
    "# Unnecesary, we will deal with Continous Features later\n",
    "\n",
    "# data['Age'].fillna(data['Age'].median(), inplace=True)\n",
    "\n",
    "# print('Nulls Count Age:', data[data.Age.isnull()].shape[0], '\\n')"
   ]
  },
  {
   "cell_type": "markdown",
   "id": "7e7f6044",
   "metadata": {},
   "source": [
    "## VIP (Feature)"
   ]
  },
  {
   "cell_type": "code",
   "execution_count": 45,
   "id": "b3b7df60",
   "metadata": {},
   "outputs": [
    {
     "name": "stdout",
     "output_type": "stream",
     "text": [
      "Nulls Count VIP: 203 \n",
      "\n"
     ]
    }
   ],
   "source": [
    "print('Nulls Count VIP:', data[data.VIP.isnull()].shape[0], '\\n')"
   ]
  },
  {
   "cell_type": "markdown",
   "id": "a2f7b982",
   "metadata": {},
   "source": [
    "#### Mode Approach"
   ]
  },
  {
   "cell_type": "code",
   "execution_count": 46,
   "id": "097e6710",
   "metadata": {
    "scrolled": true
   },
   "outputs": [
    {
     "name": "stdout",
     "output_type": "stream",
     "text": [
      "Nulls Count VIP: 0 \n",
      "\n"
     ]
    }
   ],
   "source": [
    "data['VIP'].fillna(data['VIP'].mode()[0], inplace=True)\n",
    "print('Nulls Count VIP:', data[data.VIP.isnull()].shape[0], '\\n')"
   ]
  },
  {
   "cell_type": "markdown",
   "id": "b90aa568",
   "metadata": {},
   "source": [
    "## Age & Amenities (Continuous Features)"
   ]
  },
  {
   "cell_type": "code",
   "execution_count": 47,
   "id": "3cbfe759",
   "metadata": {},
   "outputs": [
    {
     "name": "stdout",
     "output_type": "stream",
     "text": [
      "Nulls Count Amenities: RoomService     181\n",
      "FoodCourt       183\n",
      "ShoppingMall    208\n",
      "VRDeck          188\n",
      "Age             179\n",
      "dtype: int64\n"
     ]
    }
   ],
   "source": [
    "continuous_cols = ['RoomService', 'FoodCourt', 'ShoppingMall', 'VRDeck', 'Age'] #Age?\n",
    "\n",
    "print('Nulls Count Amenities:', data[continuous_cols].isnull().sum())"
   ]
  },
  {
   "cell_type": "markdown",
   "id": "d6bf3989",
   "metadata": {},
   "source": [
    "#### Median Approach"
   ]
  },
  {
   "cell_type": "code",
   "execution_count": 48,
   "id": "f452cd9b",
   "metadata": {
    "scrolled": true
   },
   "outputs": [
    {
     "name": "stdout",
     "output_type": "stream",
     "text": [
      "Nulls Count Amenities: RoomService     0\n",
      "FoodCourt       0\n",
      "ShoppingMall    0\n",
      "VRDeck          0\n",
      "Age             0\n",
      "dtype: int64\n"
     ]
    }
   ],
   "source": [
    "# Medians are 0, I'm not sure if this is a good approach\n",
    "\n",
    "for col in continuous_cols:\n",
    "    data[col].fillna(data[col].median(), inplace=True)\n",
    "\n",
    "\n",
    "print('Nulls Count Amenities:', data[continuous_cols].isnull().sum())"
   ]
  },
  {
   "cell_type": "markdown",
   "id": "d897d65b",
   "metadata": {},
   "source": [
    "## Deck, Num, Side (Created Features)"
   ]
  },
  {
   "cell_type": "code",
   "execution_count": 49,
   "id": "f974c40e",
   "metadata": {
    "scrolled": false
   },
   "outputs": [
    {
     "name": "stdout",
     "output_type": "stream",
     "text": [
      "Nulls Count Deck: 134 \n",
      "\n"
     ]
    }
   ],
   "source": [
    "print('Nulls Count Deck:', data[data.Deck.isnull()].shape[0], '\\n')"
   ]
  },
  {
   "cell_type": "markdown",
   "id": "af1fe71f",
   "metadata": {},
   "source": [
    "#### DropNA"
   ]
  },
  {
   "cell_type": "code",
   "execution_count": 50,
   "id": "17cfa892",
   "metadata": {
    "scrolled": false
   },
   "outputs": [
    {
     "name": "stdout",
     "output_type": "stream",
     "text": [
      "Nulls Count Deck: 0 \n",
      "\n"
     ]
    }
   ],
   "source": [
    "data.dropna(subset='Deck', inplace=True)\n",
    "\n",
    "print('Nulls Count Deck:', data[data.Deck.isnull()].shape[0], '\\n')"
   ]
  },
  {
   "cell_type": "markdown",
   "id": "2341e917",
   "metadata": {},
   "source": [
    "# Features Selection and Convertion"
   ]
  },
  {
   "cell_type": "code",
   "execution_count": 51,
   "id": "5168e3bd",
   "metadata": {
    "scrolled": true
   },
   "outputs": [
    {
     "name": "stdout",
     "output_type": "stream",
     "text": [
      "<class 'pandas.core.frame.DataFrame'>\n",
      "Int64Index: 8559 entries, 0 to 8692\n",
      "Data columns (total 15 columns):\n",
      " #   Column        Non-Null Count  Dtype  \n",
      "---  ------        --------------  -----  \n",
      " 0   HomePlanet    8559 non-null   object \n",
      " 1   CryoSleep     8559 non-null   bool   \n",
      " 2   Destination   8559 non-null   object \n",
      " 3   Age           8559 non-null   float64\n",
      " 4   VIP           8559 non-null   bool   \n",
      " 5   RoomService   8559 non-null   float64\n",
      " 6   FoodCourt     8559 non-null   float64\n",
      " 7   ShoppingMall  8559 non-null   float64\n",
      " 8   VRDeck        8559 non-null   float64\n",
      " 9   GroupId       8559 non-null   object \n",
      " 10  GroupSize     8559 non-null   int64  \n",
      " 11  IsAlone       8559 non-null   bool   \n",
      " 12  Deck          8559 non-null   object \n",
      " 13  Num           8559 non-null   object \n",
      " 14  Side          8559 non-null   object \n",
      "dtypes: bool(3), float64(5), int64(1), object(6)\n",
      "memory usage: 894.3+ KB\n",
      "None\n",
      "Target size: (8559,)\n"
     ]
    }
   ],
   "source": [
    "X_cols = ['HomePlanet', 'CryoSleep', 'Destination', 'Age', 'VIP', 'RoomService', \n",
    "          'FoodCourt', 'ShoppingMall', 'VRDeck', 'GroupId', 'GroupSize', 'IsAlone', 'Deck', 'Num', 'Side']\n",
    "\n",
    "X = data[X_cols]\n",
    "y = data['Transported']\n",
    "\n",
    "print(X.info())\n",
    "print('Target size:', y.shape)"
   ]
  },
  {
   "cell_type": "markdown",
   "id": "aacd4d83",
   "metadata": {},
   "source": [
    "## Nominal Features "
   ]
  },
  {
   "cell_type": "code",
   "execution_count": 52,
   "id": "09fa2131",
   "metadata": {
    "scrolled": true
   },
   "outputs": [
    {
     "name": "stdout",
     "output_type": "stream",
     "text": [
      "<class 'pandas.core.frame.DataFrame'>\n",
      "Int64Index: 8559 entries, 0 to 8692\n",
      "Data columns (total 6 columns):\n",
      " #   Column       Non-Null Count  Dtype   \n",
      "---  ------       --------------  -----   \n",
      " 0   HomePlanet   8559 non-null   category\n",
      " 1   CryoSleep    8559 non-null   category\n",
      " 2   Destination  8559 non-null   category\n",
      " 3   VIP          8559 non-null   category\n",
      " 4   Side         8559 non-null   category\n",
      " 5   Deck         8559 non-null   category\n",
      "dtypes: category(6)\n",
      "memory usage: 118.0 KB\n",
      "None\n"
     ]
    }
   ],
   "source": [
    "nominal_cols = ['HomePlanet', 'CryoSleep', 'Destination', 'VIP', 'Side', 'Deck']\n",
    "X_nominals = data[nominal_cols].astype('category')\n",
    "print(X_nominals.info())\n",
    "\n",
    "# in doubt: IsAlone(correlated with GroupSize), Deck (Nominal?), Num (Ordinal?)"
   ]
  },
  {
   "cell_type": "markdown",
   "id": "2959ee9d",
   "metadata": {},
   "source": [
    "#### Encoding"
   ]
  },
  {
   "cell_type": "code",
   "execution_count": 53,
   "id": "d26c33cf",
   "metadata": {},
   "outputs": [
    {
     "data": {
      "text/html": [
       "<div>\n",
       "<style scoped>\n",
       "    .dataframe tbody tr th:only-of-type {\n",
       "        vertical-align: middle;\n",
       "    }\n",
       "\n",
       "    .dataframe tbody tr th {\n",
       "        vertical-align: top;\n",
       "    }\n",
       "\n",
       "    .dataframe thead th {\n",
       "        text-align: right;\n",
       "    }\n",
       "</style>\n",
       "<table border=\"1\" class=\"dataframe\">\n",
       "  <thead>\n",
       "    <tr style=\"text-align: right;\">\n",
       "      <th></th>\n",
       "      <th>HomePlanet_Earth</th>\n",
       "      <th>HomePlanet_Europa</th>\n",
       "      <th>HomePlanet_Mars</th>\n",
       "      <th>CryoSleep_False</th>\n",
       "      <th>CryoSleep_True</th>\n",
       "      <th>Destination_55 Cancri e</th>\n",
       "      <th>Destination_PSO J318.5-22</th>\n",
       "      <th>Destination_TRAPPIST-1e</th>\n",
       "      <th>VIP_False</th>\n",
       "      <th>VIP_True</th>\n",
       "      <th>Side_P</th>\n",
       "      <th>Side_S</th>\n",
       "      <th>Deck_A</th>\n",
       "      <th>Deck_B</th>\n",
       "      <th>Deck_C</th>\n",
       "      <th>Deck_D</th>\n",
       "      <th>Deck_E</th>\n",
       "      <th>Deck_F</th>\n",
       "      <th>Deck_G</th>\n",
       "      <th>Deck_T</th>\n",
       "    </tr>\n",
       "  </thead>\n",
       "  <tbody>\n",
       "    <tr>\n",
       "      <th>0</th>\n",
       "      <td>0.0</td>\n",
       "      <td>1.0</td>\n",
       "      <td>0.0</td>\n",
       "      <td>1.0</td>\n",
       "      <td>0.0</td>\n",
       "      <td>0.0</td>\n",
       "      <td>0.0</td>\n",
       "      <td>1.0</td>\n",
       "      <td>1.0</td>\n",
       "      <td>0.0</td>\n",
       "      <td>1.0</td>\n",
       "      <td>0.0</td>\n",
       "      <td>0.0</td>\n",
       "      <td>1.0</td>\n",
       "      <td>0.0</td>\n",
       "      <td>0.0</td>\n",
       "      <td>0.0</td>\n",
       "      <td>0.0</td>\n",
       "      <td>0.0</td>\n",
       "      <td>0.0</td>\n",
       "    </tr>\n",
       "    <tr>\n",
       "      <th>1</th>\n",
       "      <td>1.0</td>\n",
       "      <td>0.0</td>\n",
       "      <td>0.0</td>\n",
       "      <td>1.0</td>\n",
       "      <td>0.0</td>\n",
       "      <td>0.0</td>\n",
       "      <td>0.0</td>\n",
       "      <td>1.0</td>\n",
       "      <td>1.0</td>\n",
       "      <td>0.0</td>\n",
       "      <td>0.0</td>\n",
       "      <td>1.0</td>\n",
       "      <td>0.0</td>\n",
       "      <td>0.0</td>\n",
       "      <td>0.0</td>\n",
       "      <td>0.0</td>\n",
       "      <td>0.0</td>\n",
       "      <td>1.0</td>\n",
       "      <td>0.0</td>\n",
       "      <td>0.0</td>\n",
       "    </tr>\n",
       "    <tr>\n",
       "      <th>2</th>\n",
       "      <td>0.0</td>\n",
       "      <td>1.0</td>\n",
       "      <td>0.0</td>\n",
       "      <td>1.0</td>\n",
       "      <td>0.0</td>\n",
       "      <td>0.0</td>\n",
       "      <td>0.0</td>\n",
       "      <td>1.0</td>\n",
       "      <td>0.0</td>\n",
       "      <td>1.0</td>\n",
       "      <td>0.0</td>\n",
       "      <td>1.0</td>\n",
       "      <td>1.0</td>\n",
       "      <td>0.0</td>\n",
       "      <td>0.0</td>\n",
       "      <td>0.0</td>\n",
       "      <td>0.0</td>\n",
       "      <td>0.0</td>\n",
       "      <td>0.0</td>\n",
       "      <td>0.0</td>\n",
       "    </tr>\n",
       "    <tr>\n",
       "      <th>3</th>\n",
       "      <td>0.0</td>\n",
       "      <td>1.0</td>\n",
       "      <td>0.0</td>\n",
       "      <td>1.0</td>\n",
       "      <td>0.0</td>\n",
       "      <td>0.0</td>\n",
       "      <td>0.0</td>\n",
       "      <td>1.0</td>\n",
       "      <td>1.0</td>\n",
       "      <td>0.0</td>\n",
       "      <td>0.0</td>\n",
       "      <td>1.0</td>\n",
       "      <td>1.0</td>\n",
       "      <td>0.0</td>\n",
       "      <td>0.0</td>\n",
       "      <td>0.0</td>\n",
       "      <td>0.0</td>\n",
       "      <td>0.0</td>\n",
       "      <td>0.0</td>\n",
       "      <td>0.0</td>\n",
       "    </tr>\n",
       "    <tr>\n",
       "      <th>4</th>\n",
       "      <td>1.0</td>\n",
       "      <td>0.0</td>\n",
       "      <td>0.0</td>\n",
       "      <td>1.0</td>\n",
       "      <td>0.0</td>\n",
       "      <td>0.0</td>\n",
       "      <td>0.0</td>\n",
       "      <td>1.0</td>\n",
       "      <td>1.0</td>\n",
       "      <td>0.0</td>\n",
       "      <td>0.0</td>\n",
       "      <td>1.0</td>\n",
       "      <td>0.0</td>\n",
       "      <td>0.0</td>\n",
       "      <td>0.0</td>\n",
       "      <td>0.0</td>\n",
       "      <td>0.0</td>\n",
       "      <td>1.0</td>\n",
       "      <td>0.0</td>\n",
       "      <td>0.0</td>\n",
       "    </tr>\n",
       "  </tbody>\n",
       "</table>\n",
       "</div>"
      ],
      "text/plain": [
       "   HomePlanet_Earth  HomePlanet_Europa  HomePlanet_Mars  CryoSleep_False  \\\n",
       "0               0.0                1.0              0.0              1.0   \n",
       "1               1.0                0.0              0.0              1.0   \n",
       "2               0.0                1.0              0.0              1.0   \n",
       "3               0.0                1.0              0.0              1.0   \n",
       "4               1.0                0.0              0.0              1.0   \n",
       "\n",
       "   CryoSleep_True  Destination_55 Cancri e  Destination_PSO J318.5-22  \\\n",
       "0             0.0                      0.0                        0.0   \n",
       "1             0.0                      0.0                        0.0   \n",
       "2             0.0                      0.0                        0.0   \n",
       "3             0.0                      0.0                        0.0   \n",
       "4             0.0                      0.0                        0.0   \n",
       "\n",
       "   Destination_TRAPPIST-1e  VIP_False  VIP_True  Side_P  Side_S  Deck_A  \\\n",
       "0                      1.0        1.0       0.0     1.0     0.0     0.0   \n",
       "1                      1.0        1.0       0.0     0.0     1.0     0.0   \n",
       "2                      1.0        0.0       1.0     0.0     1.0     1.0   \n",
       "3                      1.0        1.0       0.0     0.0     1.0     1.0   \n",
       "4                      1.0        1.0       0.0     0.0     1.0     0.0   \n",
       "\n",
       "   Deck_B  Deck_C  Deck_D  Deck_E  Deck_F  Deck_G  Deck_T  \n",
       "0     1.0     0.0     0.0     0.0     0.0     0.0     0.0  \n",
       "1     0.0     0.0     0.0     0.0     1.0     0.0     0.0  \n",
       "2     0.0     0.0     0.0     0.0     0.0     0.0     0.0  \n",
       "3     0.0     0.0     0.0     0.0     0.0     0.0     0.0  \n",
       "4     0.0     0.0     0.0     0.0     1.0     0.0     0.0  "
      ]
     },
     "metadata": {},
     "output_type": "display_data"
    }
   ],
   "source": [
    "from sklearn.preprocessing import OneHotEncoder\n",
    "oh_encoder = OneHotEncoder(handle_unknown='infrequent_if_exist', sparse=False)\n",
    "\n",
    "X_nominals_encoded = oh_encoder.fit_transform(X_nominals)\n",
    "X_nominals_encoded = pd.DataFrame\\\n",
    "    (X_nominals_encoded, columns=oh_encoder.get_feature_names_out()) # DF Shape\n",
    "\n",
    "display(X_nominals_encoded.head())"
   ]
  },
  {
   "cell_type": "markdown",
   "id": "e0ac1f78",
   "metadata": {},
   "source": [
    "## Ordinal Features"
   ]
  },
  {
   "cell_type": "code",
   "execution_count": 54,
   "id": "14f4df6d",
   "metadata": {
    "scrolled": true
   },
   "outputs": [
    {
     "name": "stdout",
     "output_type": "stream",
     "text": [
      "<class 'pandas.core.frame.DataFrame'>\n",
      "Int64Index: 8559 entries, 0 to 8692\n",
      "Data columns (total 1 columns):\n",
      " #   Column     Non-Null Count  Dtype   \n",
      "---  ------     --------------  -----   \n",
      " 0   GroupSize  8559 non-null   category\n",
      "dtypes: category(1)\n",
      "memory usage: 75.6 KB\n",
      "None\n"
     ]
    }
   ],
   "source": [
    "ordinal_cols = ['GroupSize']\n",
    "\n",
    "X_ordinals = data[ordinal_cols].astype('category')\n",
    "print(X_ordinals.info())"
   ]
  },
  {
   "cell_type": "markdown",
   "id": "0ac69c42",
   "metadata": {},
   "source": [
    "#### Encoding"
   ]
  },
  {
   "cell_type": "code",
   "execution_count": 55,
   "id": "33a7544f",
   "metadata": {},
   "outputs": [
    {
     "data": {
      "text/html": [
       "<div>\n",
       "<style scoped>\n",
       "    .dataframe tbody tr th:only-of-type {\n",
       "        vertical-align: middle;\n",
       "    }\n",
       "\n",
       "    .dataframe tbody tr th {\n",
       "        vertical-align: top;\n",
       "    }\n",
       "\n",
       "    .dataframe thead th {\n",
       "        text-align: right;\n",
       "    }\n",
       "</style>\n",
       "<table border=\"1\" class=\"dataframe\">\n",
       "  <thead>\n",
       "    <tr style=\"text-align: right;\">\n",
       "      <th></th>\n",
       "      <th>GroupSize</th>\n",
       "    </tr>\n",
       "  </thead>\n",
       "  <tbody>\n",
       "    <tr>\n",
       "      <th>0</th>\n",
       "      <td>0.0</td>\n",
       "    </tr>\n",
       "    <tr>\n",
       "      <th>1</th>\n",
       "      <td>0.0</td>\n",
       "    </tr>\n",
       "    <tr>\n",
       "      <th>2</th>\n",
       "      <td>1.0</td>\n",
       "    </tr>\n",
       "    <tr>\n",
       "      <th>3</th>\n",
       "      <td>1.0</td>\n",
       "    </tr>\n",
       "    <tr>\n",
       "      <th>4</th>\n",
       "      <td>0.0</td>\n",
       "    </tr>\n",
       "  </tbody>\n",
       "</table>\n",
       "</div>"
      ],
      "text/plain": [
       "   GroupSize\n",
       "0        0.0\n",
       "1        0.0\n",
       "2        1.0\n",
       "3        1.0\n",
       "4        0.0"
      ]
     },
     "metadata": {},
     "output_type": "display_data"
    }
   ],
   "source": [
    "from sklearn.preprocessing import OrdinalEncoder\n",
    "ord_encoder = OrdinalEncoder(handle_unknown='use_encoded_value', unknown_value=np.nan)\n",
    "\n",
    "X_ordinals_encoded = ord_encoder.fit_transform(X_ordinals)\n",
    "X_ordinals_encoded = pd.DataFrame\\\n",
    "    (X_ordinals_encoded, columns=ord_encoder.get_feature_names_out()) #DF Shape\n",
    "\n",
    "display(X_ordinals_encoded.head())"
   ]
  },
  {
   "cell_type": "markdown",
   "id": "521af6d9",
   "metadata": {},
   "source": [
    "## Quantitative Features"
   ]
  },
  {
   "cell_type": "code",
   "execution_count": 56,
   "id": "5a856068",
   "metadata": {
    "scrolled": true
   },
   "outputs": [
    {
     "name": "stdout",
     "output_type": "stream",
     "text": [
      "<class 'pandas.core.frame.DataFrame'>\n",
      "RangeIndex: 8559 entries, 0 to 8558\n",
      "Data columns (total 5 columns):\n",
      " #   Column        Non-Null Count  Dtype  \n",
      "---  ------        --------------  -----  \n",
      " 0   RoomService   8559 non-null   float64\n",
      " 1   FoodCourt     8559 non-null   float64\n",
      " 2   ShoppingMall  8559 non-null   float64\n",
      " 3   VRDeck        8559 non-null   float64\n",
      " 4   Age           8559 non-null   float64\n",
      "dtypes: float64(5)\n",
      "memory usage: 334.5 KB\n",
      "None\n"
     ]
    }
   ],
   "source": [
    "X_continuous = data[continuous_cols].reset_index(drop=True)\n",
    "print(X_continuous.info())"
   ]
  },
  {
   "cell_type": "markdown",
   "id": "1bb95705",
   "metadata": {},
   "source": [
    "#### Encoding"
   ]
  },
  {
   "cell_type": "code",
   "execution_count": 57,
   "id": "ed81efd8",
   "metadata": {},
   "outputs": [],
   "source": [
    "from sklearn.preprocessing import KBinsDiscretizer\n",
    "\n",
    "kbins_encoder = KBinsDiscretizer(n_bins=10, encode='ordinal', strategy='qunatile')\n",
    "\n",
    "# For later"
   ]
  },
  {
   "cell_type": "markdown",
   "id": "064d90b0",
   "metadata": {},
   "source": [
    "## Target Feature"
   ]
  },
  {
   "cell_type": "code",
   "execution_count": 58,
   "id": "5e248238",
   "metadata": {},
   "outputs": [],
   "source": [
    "from sklearn.preprocessing import LabelEncoder\n",
    "lb_encoder = LabelEncoder()\n",
    "\n",
    "y_encoded = lb_encoder.fit_transform(data['Transported'])\n",
    "y_encoded = pd.Series(y_encoded, name='Transported')"
   ]
  },
  {
   "cell_type": "markdown",
   "id": "63a62811",
   "metadata": {},
   "source": [
    "# Modeling"
   ]
  },
  {
   "cell_type": "markdown",
   "id": "37fc1644",
   "metadata": {},
   "source": [
    "#### Train/Test/Split"
   ]
  },
  {
   "cell_type": "code",
   "execution_count": 59,
   "id": "df544011",
   "metadata": {},
   "outputs": [],
   "source": [
    "from sklearn.model_selection import train_test_split\n",
    "X_encoded = pd.concat([X_nominals_encoded, X_ordinals_encoded, X_continuous], axis=1)\n",
    "\n",
    "Xtrain, Xtest, ytrain, ytest = train_test_split\\\n",
    "                (X_encoded, y_encoded, stratify=y_encoded)"
   ]
  },
  {
   "cell_type": "markdown",
   "id": "83151223",
   "metadata": {},
   "source": [
    "#### First Predictions"
   ]
  },
  {
   "cell_type": "code",
   "execution_count": 79,
   "id": "e693e200",
   "metadata": {},
   "outputs": [
    {
     "name": "stdout",
     "output_type": "stream",
     "text": [
      "              precision    recall  f1-score   support\n",
      "\n",
      "           0       0.75      0.74      0.75      1060\n",
      "           1       0.75      0.76      0.75      1080\n",
      "\n",
      "    accuracy                           0.75      2140\n",
      "   macro avg       0.75      0.75      0.75      2140\n",
      "weighted avg       0.75      0.75      0.75      2140\n",
      "\n"
     ]
    }
   ],
   "source": [
    "from sklearn.model_selection import cross_val_score, RepeatedStratifiedKFold\n",
    "from sklearn.neighbors import KNeighborsClassifier\n",
    "from sklearn.metrics import accuracy_score, confusion_matrix, classification_report\n",
    "\n",
    "model = KNeighborsClassifier()\n",
    "\n",
    "model.fit(Xtrain, ytrain)\n",
    "ypred = model.predict(Xtest)\n",
    "\n",
    "print(classification_report(ytest, ypred))"
   ]
  }
 ],
 "metadata": {
  "kernelspec": {
   "display_name": "Python 3 (ipykernel)",
   "language": "python",
   "name": "python3"
  },
  "language_info": {
   "codemirror_mode": {
    "name": "ipython",
    "version": 3
   },
   "file_extension": ".py",
   "mimetype": "text/x-python",
   "name": "python",
   "nbconvert_exporter": "python",
   "pygments_lexer": "ipython3",
   "version": "3.10.4"
  }
 },
 "nbformat": 4,
 "nbformat_minor": 5
}
