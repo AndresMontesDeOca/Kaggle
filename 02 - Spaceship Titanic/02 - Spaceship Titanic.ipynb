{
 "cells": [
  {
   "cell_type": "markdown",
   "id": "bb1ecb49",
   "metadata": {},
   "source": [
    "# Spaceshift Titanic"
   ]
  },
  {
   "cell_type": "markdown",
   "id": "2e46d63e",
   "metadata": {},
   "source": [
    "## LogBook"
   ]
  },
  {
   "cell_type": "code",
   "execution_count": 1,
   "id": "a67abe7b",
   "metadata": {},
   "outputs": [],
   "source": [
    "# 10/07/22 --> Notebook Creation\n",
    "\n",
    "\n",
    "# Author: Andres Montes de Oca\n",
    "# LinkedIn: https://www.linkedin.com/in/jamontesdeoca/\n",
    "# GitHub: N/A"
   ]
  },
  {
   "cell_type": "markdown",
   "id": "d08428ef",
   "metadata": {},
   "source": [
    "## Load Data and Quick Look"
   ]
  },
  {
   "cell_type": "code",
   "execution_count": 2,
   "id": "dd57b3dd",
   "metadata": {},
   "outputs": [],
   "source": [
    "import numpy as np\n",
    "import pandas as pd\n",
    "import matplotlib.pyplot as plt\n",
    "import seaborn as sns\n",
    "\n",
    "%matplotlib inline\n",
    "sns.set(style='white', context='notebook', palette='RdYlGn')\n",
    "\n",
    "train = pd.read_csv('Data/train.csv')\n",
    "data = train\n",
    "test = pd.read_csv('Data/test.csv')\n",
    "\n",
    "\n",
    "# y = train['Transported'] # Not now"
   ]
  },
  {
   "cell_type": "code",
   "execution_count": 3,
   "id": "b1515353",
   "metadata": {
    "scrolled": true
   },
   "outputs": [
    {
     "name": "stdout",
     "output_type": "stream",
     "text": [
      "<class 'pandas.core.frame.DataFrame'>\n",
      "RangeIndex: 8693 entries, 0 to 8692\n",
      "Data columns (total 14 columns):\n",
      " #   Column        Non-Null Count  Dtype  \n",
      "---  ------        --------------  -----  \n",
      " 0   PassengerId   8693 non-null   object \n",
      " 1   HomePlanet    8492 non-null   object \n",
      " 2   CryoSleep     8476 non-null   object \n",
      " 3   Cabin         8494 non-null   object \n",
      " 4   Destination   8511 non-null   object \n",
      " 5   Age           8514 non-null   float64\n",
      " 6   VIP           8490 non-null   object \n",
      " 7   RoomService   8512 non-null   float64\n",
      " 8   FoodCourt     8510 non-null   float64\n",
      " 9   ShoppingMall  8485 non-null   float64\n",
      " 10  Spa           8510 non-null   float64\n",
      " 11  VRDeck        8505 non-null   float64\n",
      " 12  Name          8493 non-null   object \n",
      " 13  Transported   8693 non-null   bool   \n",
      "dtypes: bool(1), float64(6), object(7)\n",
      "memory usage: 891.5+ KB\n",
      "None\n"
     ]
    },
    {
     "data": {
      "text/html": [
       "<div>\n",
       "<style scoped>\n",
       "    .dataframe tbody tr th:only-of-type {\n",
       "        vertical-align: middle;\n",
       "    }\n",
       "\n",
       "    .dataframe tbody tr th {\n",
       "        vertical-align: top;\n",
       "    }\n",
       "\n",
       "    .dataframe thead th {\n",
       "        text-align: right;\n",
       "    }\n",
       "</style>\n",
       "<table border=\"1\" class=\"dataframe\">\n",
       "  <thead>\n",
       "    <tr style=\"text-align: right;\">\n",
       "      <th></th>\n",
       "      <th>PassengerId</th>\n",
       "      <th>HomePlanet</th>\n",
       "      <th>CryoSleep</th>\n",
       "      <th>Cabin</th>\n",
       "      <th>Destination</th>\n",
       "      <th>Age</th>\n",
       "      <th>VIP</th>\n",
       "      <th>RoomService</th>\n",
       "      <th>FoodCourt</th>\n",
       "      <th>ShoppingMall</th>\n",
       "      <th>Spa</th>\n",
       "      <th>VRDeck</th>\n",
       "      <th>Name</th>\n",
       "      <th>Transported</th>\n",
       "    </tr>\n",
       "  </thead>\n",
       "  <tbody>\n",
       "    <tr>\n",
       "      <th>0</th>\n",
       "      <td>0001_01</td>\n",
       "      <td>Europa</td>\n",
       "      <td>False</td>\n",
       "      <td>B/0/P</td>\n",
       "      <td>TRAPPIST-1e</td>\n",
       "      <td>39.0</td>\n",
       "      <td>False</td>\n",
       "      <td>0.0</td>\n",
       "      <td>0.0</td>\n",
       "      <td>0.0</td>\n",
       "      <td>0.0</td>\n",
       "      <td>0.0</td>\n",
       "      <td>Maham Ofracculy</td>\n",
       "      <td>False</td>\n",
       "    </tr>\n",
       "    <tr>\n",
       "      <th>1</th>\n",
       "      <td>0002_01</td>\n",
       "      <td>Earth</td>\n",
       "      <td>False</td>\n",
       "      <td>F/0/S</td>\n",
       "      <td>TRAPPIST-1e</td>\n",
       "      <td>24.0</td>\n",
       "      <td>False</td>\n",
       "      <td>109.0</td>\n",
       "      <td>9.0</td>\n",
       "      <td>25.0</td>\n",
       "      <td>549.0</td>\n",
       "      <td>44.0</td>\n",
       "      <td>Juanna Vines</td>\n",
       "      <td>True</td>\n",
       "    </tr>\n",
       "    <tr>\n",
       "      <th>2</th>\n",
       "      <td>0003_01</td>\n",
       "      <td>Europa</td>\n",
       "      <td>False</td>\n",
       "      <td>A/0/S</td>\n",
       "      <td>TRAPPIST-1e</td>\n",
       "      <td>58.0</td>\n",
       "      <td>True</td>\n",
       "      <td>43.0</td>\n",
       "      <td>3576.0</td>\n",
       "      <td>0.0</td>\n",
       "      <td>6715.0</td>\n",
       "      <td>49.0</td>\n",
       "      <td>Altark Susent</td>\n",
       "      <td>False</td>\n",
       "    </tr>\n",
       "    <tr>\n",
       "      <th>3</th>\n",
       "      <td>0003_02</td>\n",
       "      <td>Europa</td>\n",
       "      <td>False</td>\n",
       "      <td>A/0/S</td>\n",
       "      <td>TRAPPIST-1e</td>\n",
       "      <td>33.0</td>\n",
       "      <td>False</td>\n",
       "      <td>0.0</td>\n",
       "      <td>1283.0</td>\n",
       "      <td>371.0</td>\n",
       "      <td>3329.0</td>\n",
       "      <td>193.0</td>\n",
       "      <td>Solam Susent</td>\n",
       "      <td>False</td>\n",
       "    </tr>\n",
       "    <tr>\n",
       "      <th>4</th>\n",
       "      <td>0004_01</td>\n",
       "      <td>Earth</td>\n",
       "      <td>False</td>\n",
       "      <td>F/1/S</td>\n",
       "      <td>TRAPPIST-1e</td>\n",
       "      <td>16.0</td>\n",
       "      <td>False</td>\n",
       "      <td>303.0</td>\n",
       "      <td>70.0</td>\n",
       "      <td>151.0</td>\n",
       "      <td>565.0</td>\n",
       "      <td>2.0</td>\n",
       "      <td>Willy Santantines</td>\n",
       "      <td>True</td>\n",
       "    </tr>\n",
       "  </tbody>\n",
       "</table>\n",
       "</div>"
      ],
      "text/plain": [
       "  PassengerId HomePlanet CryoSleep  Cabin  Destination   Age    VIP  \\\n",
       "0     0001_01     Europa     False  B/0/P  TRAPPIST-1e  39.0  False   \n",
       "1     0002_01      Earth     False  F/0/S  TRAPPIST-1e  24.0  False   \n",
       "2     0003_01     Europa     False  A/0/S  TRAPPIST-1e  58.0   True   \n",
       "3     0003_02     Europa     False  A/0/S  TRAPPIST-1e  33.0  False   \n",
       "4     0004_01      Earth     False  F/1/S  TRAPPIST-1e  16.0  False   \n",
       "\n",
       "   RoomService  FoodCourt  ShoppingMall     Spa  VRDeck               Name  \\\n",
       "0          0.0        0.0           0.0     0.0     0.0    Maham Ofracculy   \n",
       "1        109.0        9.0          25.0   549.0    44.0       Juanna Vines   \n",
       "2         43.0     3576.0           0.0  6715.0    49.0      Altark Susent   \n",
       "3          0.0     1283.0         371.0  3329.0   193.0       Solam Susent   \n",
       "4        303.0       70.0         151.0   565.0     2.0  Willy Santantines   \n",
       "\n",
       "   Transported  \n",
       "0        False  \n",
       "1         True  \n",
       "2        False  \n",
       "3        False  \n",
       "4         True  "
      ]
     },
     "metadata": {},
     "output_type": "display_data"
    }
   ],
   "source": [
    "print(data.info())\n",
    "display(data.head())\n",
    "# display(data.describe())\n",
    "# display(data.describe(include='object'))\n"
   ]
  },
  {
   "cell_type": "code",
   "execution_count": 4,
   "id": "f509979d",
   "metadata": {},
   "outputs": [],
   "source": [
    "# print(test.info())\n",
    "# display(test.head())"
   ]
  },
  {
   "cell_type": "markdown",
   "id": "81bf605d",
   "metadata": {},
   "source": [
    "## Individual Features Check"
   ]
  },
  {
   "cell_type": "markdown",
   "id": "a1720045",
   "metadata": {},
   "source": [
    "### Transported (Target)"
   ]
  },
  {
   "cell_type": "code",
   "execution_count": 5,
   "id": "6eea5250",
   "metadata": {
    "scrolled": false
   },
   "outputs": [
    {
     "name": "stdout",
     "output_type": "stream",
     "text": [
      "Transported in Train: 0.5036236051995858\n",
      "Transported in Test: N/A\n"
     ]
    },
    {
     "data": {
      "image/png": "[encoded data removed]",
      "text/plain": [
       "<Figure size 500x300 with 1 Axes>"
      ]
     },
     "metadata": {},
     "output_type": "display_data"
    }
   ],
   "source": [
    "print('Transported in Train:', data['Transported'].mean())\n",
    "print('Transported in Test: N/A', )\n",
    "\n",
    "# Plot\n",
    "fig, ax = plt.subplots(1, 1, figsize=(5, 3))\n",
    "data['Transported'].value_counts().plot(kind='pie', autopct='%.1f%%')\n",
    "plt.show()\n",
    "\n",
    "# We will use it later\n",
    "mask_transported = data['Transported']==True\n",
    "\n",
    "# Transported is well balanced"
   ]
  },
  {
   "cell_type": "markdown",
   "id": "4cb34daa",
   "metadata": {},
   "source": [
    "### PassengerId"
   ]
  },
  {
   "cell_type": "code",
   "execution_count": 6,
   "id": "c5577bae",
   "metadata": {
    "scrolled": false
   },
   "outputs": [
    {
     "name": "stdout",
     "output_type": "stream",
     "text": [
      "Nulls: 0 \n",
      "\n",
      "0    0001_01\n",
      "1    0002_01\n",
      "2    0003_01\n",
      "3    0003_02\n",
      "4    0004_01\n",
      "Name: PassengerId, dtype: object\n"
     ]
    }
   ],
   "source": [
    "print('Nulls:', data.PassengerId.isnull().sum(), '\\n')\n",
    "print(data.PassengerId.head())\n",
    "\n",
    "\n",
    "# We will have to split the GroupId form this Feature, there are no nulls"
   ]
  },
  {
   "cell_type": "markdown",
   "id": "1b1f20c8",
   "metadata": {},
   "source": [
    "#### Split (PassangerId)"
   ]
  },
  {
   "cell_type": "code",
   "execution_count": 7,
   "id": "b4ee4d97",
   "metadata": {},
   "outputs": [
    {
     "data": {
      "image/png": "[encoded data removed]",
      "text/plain": [
       "<Figure size 800x300 with 2 Axes>"
      ]
     },
     "metadata": {},
     "output_type": "display_data"
    }
   ],
   "source": [
    "# GroupId Feature Generation\n",
    "data['GroupId'] = data['PassengerId'].str.split('_', expand=True)[0]\n",
    "\n",
    "# Grouping by GroupId to count each group size\n",
    "GroupId_size_serie = data.groupby('GroupId').size() # temp GroupId_size Serie\n",
    "GroupId_size_serie.rename('GroupSize', inplace=True) # necesary for the Join\n",
    "\n",
    "\n",
    "# IsAlone Feature Generation\n",
    "# First we add how many passengers are in the group\n",
    "data = pd.merge(left=data, right=GroupId_size_serie, left_on='GroupId', right_on='GroupId', how='left')\n",
    "\n",
    "# Then we filter just the lonley travelelrs\n",
    "data.loc[:, 'IsAlone'] = data['GroupSize']==1 # Or we can leave it as it is, maybe improves the results\n",
    "# data.rename(columns={'Group_size':'IsAlone'}, inplace=True)\n",
    "\n",
    "# Plot\n",
    "fig, ax = plt.subplots(1, 2, figsize=(8, 3))\n",
    "data['IsAlone'].value_counts(dropna=False).plot(kind='pie', autopct='%.1f%%', ax=ax[0])\n",
    "ax[0].set_ylabel('Alone Travellers on-board')\n",
    "\n",
    "data.loc[mask_transported, 'IsAlone'].value_counts(dropna=False).plot(kind='pie', autopct='%.1f%%', ax=ax[1])\n",
    "ax[1].set_ylabel('Alone Travellers Transported Rate')\n",
    "plt.show()\n",
    "\n",
    "# There are more Alone Travellers but they have similar Transported Rate as the Population"
   ]
  },
  {
   "cell_type": "markdown",
   "id": "8627bb67",
   "metadata": {},
   "source": [
    "### HomePlanet"
   ]
  },
  {
   "cell_type": "markdown",
   "id": "429a7f6e",
   "metadata": {},
   "source": [
    "#### Distribution and Correlation with Target Variable"
   ]
  },
  {
   "cell_type": "code",
   "execution_count": 8,
   "id": "3eae5d0f",
   "metadata": {
    "scrolled": true
   },
   "outputs": [
    {
     "name": "stdout",
     "output_type": "stream",
     "text": [
      "Earth     4602\n",
      "Europa    2131\n",
      "Mars      1759\n",
      "NaN        201\n",
      "Name: HomePlanet, dtype: int64\n"
     ]
    },
    {
     "data": {
      "image/png": "[encoded data removed]",
      "text/plain": [
       "<Figure size 1000x200 with 2 Axes>"
      ]
     },
     "metadata": {},
     "output_type": "display_data"
    }
   ],
   "source": [
    "print(data['HomePlanet'].value_counts(dropna=False))\n",
    "\n",
    "# Plots\n",
    "fig, ax = plt.subplots(1, 2, figsize=(10, 2))\n",
    "data['HomePlanet'].value_counts(dropna=False).plot(kind='pie', autopct='%.1f%%', ax=ax[0])\n",
    "ax[0].set_ylabel('')\n",
    "ax[0].set_title('HomePlanet Distribution')\n",
    "sns.countplot(y=data['HomePlanet'], order=data['HomePlanet'].value_counts().index, ax=ax[1], hue=data['Transported'])\n",
    "ax[1].set_ylabel('')\n",
    "ax[1].set_xlabel('')\n",
    "ax[1].set_title('Relation with Target Variable')\n",
    "\n",
    "plt.show()\n",
    "\n",
    "# There are 201 nulls\n",
    "# Most coming from Earth\n",
    "# Passangers from Europe have more chances to be Transported\n",
    "# Pending: Reduce annot_size for the PieChart"
   ]
  },
  {
   "cell_type": "markdown",
   "id": "da08051c",
   "metadata": {},
   "source": [
    "#### Nulls Check"
   ]
  },
  {
   "cell_type": "code",
   "execution_count": 9,
   "id": "02b2e30b",
   "metadata": {
    "scrolled": false
   },
   "outputs": [
    {
     "name": "stdout",
     "output_type": "stream",
     "text": [
      "Nulls Count: 201 \n",
      "\n"
     ]
    },
    {
     "data": {
      "text/plain": [
       "'Passengers in groups'"
      ]
     },
     "metadata": {},
     "output_type": "display_data"
    },
    {
     "data": {
      "text/html": [
       "<div>\n",
       "<style scoped>\n",
       "    .dataframe tbody tr th:only-of-type {\n",
       "        vertical-align: middle;\n",
       "    }\n",
       "\n",
       "    .dataframe tbody tr th {\n",
       "        vertical-align: top;\n",
       "    }\n",
       "\n",
       "    .dataframe thead th {\n",
       "        text-align: right;\n",
       "    }\n",
       "</style>\n",
       "<table border=\"1\" class=\"dataframe\">\n",
       "  <thead>\n",
       "    <tr style=\"text-align: right;\">\n",
       "      <th></th>\n",
       "      <th>PassengerId</th>\n",
       "      <th>HomePlanet</th>\n",
       "      <th>CryoSleep</th>\n",
       "      <th>Cabin</th>\n",
       "      <th>Destination</th>\n",
       "      <th>Age</th>\n",
       "      <th>VIP</th>\n",
       "      <th>RoomService</th>\n",
       "      <th>FoodCourt</th>\n",
       "      <th>ShoppingMall</th>\n",
       "      <th>Spa</th>\n",
       "      <th>VRDeck</th>\n",
       "      <th>Name</th>\n",
       "      <th>Transported</th>\n",
       "      <th>GroupId</th>\n",
       "      <th>GroupSize</th>\n",
       "      <th>IsAlone</th>\n",
       "    </tr>\n",
       "  </thead>\n",
       "  <tbody>\n",
       "    <tr>\n",
       "      <th>59</th>\n",
       "      <td>0064_02</td>\n",
       "      <td>NaN</td>\n",
       "      <td>True</td>\n",
       "      <td>E/3/S</td>\n",
       "      <td>TRAPPIST-1e</td>\n",
       "      <td>33.0</td>\n",
       "      <td>False</td>\n",
       "      <td>0.0</td>\n",
       "      <td>0.0</td>\n",
       "      <td>NaN</td>\n",
       "      <td>0.0</td>\n",
       "      <td>0.0</td>\n",
       "      <td>Colatz Keen</td>\n",
       "      <td>True</td>\n",
       "      <td>0064</td>\n",
       "      <td>2</td>\n",
       "      <td>False</td>\n",
       "    </tr>\n",
       "    <tr>\n",
       "      <th>113</th>\n",
       "      <td>0119_01</td>\n",
       "      <td>NaN</td>\n",
       "      <td>False</td>\n",
       "      <td>A/0/P</td>\n",
       "      <td>TRAPPIST-1e</td>\n",
       "      <td>39.0</td>\n",
       "      <td>False</td>\n",
       "      <td>0.0</td>\n",
       "      <td>2344.0</td>\n",
       "      <td>0.0</td>\n",
       "      <td>65.0</td>\n",
       "      <td>6898.0</td>\n",
       "      <td>Batan Coning</td>\n",
       "      <td>False</td>\n",
       "      <td>0119</td>\n",
       "      <td>2</td>\n",
       "      <td>False</td>\n",
       "    </tr>\n",
       "    <tr>\n",
       "      <th>405</th>\n",
       "      <td>0444_02</td>\n",
       "      <td>NaN</td>\n",
       "      <td>False</td>\n",
       "      <td>F/99/P</td>\n",
       "      <td>TRAPPIST-1e</td>\n",
       "      <td>26.0</td>\n",
       "      <td>True</td>\n",
       "      <td>1869.0</td>\n",
       "      <td>0.0</td>\n",
       "      <td>136.0</td>\n",
       "      <td>0.0</td>\n",
       "      <td>0.0</td>\n",
       "      <td>Colal Curte</td>\n",
       "      <td>False</td>\n",
       "      <td>0444</td>\n",
       "      <td>2</td>\n",
       "      <td>False</td>\n",
       "    </tr>\n",
       "  </tbody>\n",
       "</table>\n",
       "</div>"
      ],
      "text/plain": [
       "    PassengerId HomePlanet CryoSleep   Cabin  Destination   Age    VIP  \\\n",
       "59      0064_02        NaN      True   E/3/S  TRAPPIST-1e  33.0  False   \n",
       "113     0119_01        NaN     False   A/0/P  TRAPPIST-1e  39.0  False   \n",
       "405     0444_02        NaN     False  F/99/P  TRAPPIST-1e  26.0   True   \n",
       "\n",
       "     RoomService  FoodCourt  ShoppingMall   Spa  VRDeck          Name  \\\n",
       "59           0.0        0.0           NaN   0.0     0.0   Colatz Keen   \n",
       "113          0.0     2344.0           0.0  65.0  6898.0  Batan Coning   \n",
       "405       1869.0        0.0         136.0   0.0     0.0   Colal Curte   \n",
       "\n",
       "     Transported GroupId  GroupSize  IsAlone  \n",
       "59          True    0064          2    False  \n",
       "113        False    0119          2    False  \n",
       "405        False    0444          2    False  "
      ]
     },
     "metadata": {},
     "output_type": "display_data"
    },
    {
     "name": "stdout",
     "output_type": "stream",
     "text": [
      "In groups with other passengers 92\n"
     ]
    }
   ],
   "source": [
    "# Counting and Checking nulls\n",
    "print('Nulls Count:', data[data.HomePlanet.isnull()].shape[0], '\\n')\n",
    "\n",
    "# Passangers in Groups\n",
    "display('Passengers in groups', data[data.HomePlanet.isnull() & ~(data.IsAlone)].head(3))\n",
    "print('In groups with other passengers',data[data.HomePlanet.isnull() & ~(data.IsAlone)].shape[0])\n",
    "\n",
    "# We can get HomePlanet from GroupId for almost 50% of NA. Lets check if this is a valid approach"
   ]
  },
  {
   "cell_type": "markdown",
   "id": "1a408a4a",
   "metadata": {},
   "source": [
    "#### FillNA Check (HomePlanet)"
   ]
  },
  {
   "cell_type": "code",
   "execution_count": 10,
   "id": "7c1f739d",
   "metadata": {},
   "outputs": [
    {
     "data": {
      "text/html": [
       "<div>\n",
       "<style scoped>\n",
       "    .dataframe tbody tr th:only-of-type {\n",
       "        vertical-align: middle;\n",
       "    }\n",
       "\n",
       "    .dataframe tbody tr th {\n",
       "        vertical-align: top;\n",
       "    }\n",
       "\n",
       "    .dataframe thead th {\n",
       "        text-align: right;\n",
       "    }\n",
       "</style>\n",
       "<table border=\"1\" class=\"dataframe\">\n",
       "  <thead>\n",
       "    <tr style=\"text-align: right;\">\n",
       "      <th></th>\n",
       "      <th>GroupId</th>\n",
       "      <th>HomePlanet</th>\n",
       "      <th>Count</th>\n",
       "    </tr>\n",
       "  </thead>\n",
       "  <tbody>\n",
       "    <tr>\n",
       "      <th>0</th>\n",
       "      <td>0001</td>\n",
       "      <td>Europa</td>\n",
       "      <td>1</td>\n",
       "    </tr>\n",
       "    <tr>\n",
       "      <th>1</th>\n",
       "      <td>0002</td>\n",
       "      <td>Earth</td>\n",
       "      <td>1</td>\n",
       "    </tr>\n",
       "    <tr>\n",
       "      <th>2</th>\n",
       "      <td>0003</td>\n",
       "      <td>Europa</td>\n",
       "      <td>2</td>\n",
       "    </tr>\n",
       "    <tr>\n",
       "      <th>3</th>\n",
       "      <td>0004</td>\n",
       "      <td>Earth</td>\n",
       "      <td>1</td>\n",
       "    </tr>\n",
       "    <tr>\n",
       "      <th>4</th>\n",
       "      <td>0005</td>\n",
       "      <td>Earth</td>\n",
       "      <td>1</td>\n",
       "    </tr>\n",
       "    <tr>\n",
       "      <th>...</th>\n",
       "      <td>...</td>\n",
       "      <td>...</td>\n",
       "      <td>...</td>\n",
       "    </tr>\n",
       "    <tr>\n",
       "      <th>6102</th>\n",
       "      <td>9275</td>\n",
       "      <td>Europa</td>\n",
       "      <td>3</td>\n",
       "    </tr>\n",
       "    <tr>\n",
       "      <th>6103</th>\n",
       "      <td>9276</td>\n",
       "      <td>Europa</td>\n",
       "      <td>1</td>\n",
       "    </tr>\n",
       "    <tr>\n",
       "      <th>6104</th>\n",
       "      <td>9278</td>\n",
       "      <td>Earth</td>\n",
       "      <td>1</td>\n",
       "    </tr>\n",
       "    <tr>\n",
       "      <th>6105</th>\n",
       "      <td>9279</td>\n",
       "      <td>Earth</td>\n",
       "      <td>1</td>\n",
       "    </tr>\n",
       "    <tr>\n",
       "      <th>6106</th>\n",
       "      <td>9280</td>\n",
       "      <td>Europa</td>\n",
       "      <td>2</td>\n",
       "    </tr>\n",
       "  </tbody>\n",
       "</table>\n",
       "<p>6107 rows × 3 columns</p>\n",
       "</div>"
      ],
      "text/plain": [
       "     GroupId HomePlanet  Count\n",
       "0       0001     Europa      1\n",
       "1       0002      Earth      1\n",
       "2       0003     Europa      2\n",
       "3       0004      Earth      1\n",
       "4       0005      Earth      1\n",
       "...      ...        ...    ...\n",
       "6102    9275     Europa      3\n",
       "6103    9276     Europa      1\n",
       "6104    9278      Earth      1\n",
       "6105    9279      Earth      1\n",
       "6106    9280     Europa      2\n",
       "\n",
       "[6107 rows x 3 columns]"
      ]
     },
     "metadata": {},
     "output_type": "display_data"
    },
    {
     "name": "stdout",
     "output_type": "stream",
     "text": [
      "Is GroupId unique?: True\n"
     ]
    }
   ],
   "source": [
    "# Lets confirm all members of each group member departed from the same HomePlanet\n",
    "\n",
    "data_grp_groupid_homeplanet = data.groupby(['GroupId', 'HomePlanet']).size().to_frame('Count').reset_index()\n",
    "display(data_grp_groupid_homeplanet)\n",
    "\n",
    "# There are no duplicated GroupId, so is all OK\n",
    "print('Is GroupId unique?:', data_grp_groupid_homeplanet.GroupId.is_unique)"
   ]
  },
  {
   "cell_type": "markdown",
   "id": "d115a9cf",
   "metadata": {},
   "source": [
    "#### FillNa (HomePlanet)"
   ]
  },
  {
   "cell_type": "code",
   "execution_count": 11,
   "id": "21db8c9e",
   "metadata": {
    "scrolled": true
   },
   "outputs": [
    {
     "name": "stdout",
     "output_type": "stream",
     "text": [
      "New Nulls Count: 0\n"
     ]
    }
   ],
   "source": [
    "# Filling Lonley Travelers with the mode\n",
    "data.loc[data.HomePlanet.isnull() & data.IsAlone, 'HomePlanet'] = data.HomePlanet.mode()[0]\n",
    "\n",
    "# Filling Passangers in Groups with value from same GroupId\n",
    "data.loc[:, 'HomePlanet'] = data.sort_values(by=['GroupId', 'HomePlanet'])['HomePlanet'].fillna(method='ffill')\n",
    "print('New Nulls Count:', data.HomePlanet.isnull().sum())"
   ]
  },
  {
   "cell_type": "markdown",
   "id": "84db1be0",
   "metadata": {},
   "source": [
    "### CryoSleep"
   ]
  },
  {
   "cell_type": "markdown",
   "id": "69637043",
   "metadata": {},
   "source": [
    "#### Distribution and correlation with Target Variable"
   ]
  },
  {
   "cell_type": "code",
   "execution_count": 12,
   "id": "281b65c7",
   "metadata": {
    "scrolled": false
   },
   "outputs": [
    {
     "name": "stdout",
     "output_type": "stream",
     "text": [
      "False    5439\n",
      "True     3037\n",
      "NaN       217\n",
      "Name: CryoSleep, dtype: int64\n"
     ]
    },
    {
     "data": {
      "image/png": "[encoded data removed]",
      "text/plain": [
       "<Figure size 1200x200 with 2 Axes>"
      ]
     },
     "metadata": {},
     "output_type": "display_data"
    }
   ],
   "source": [
    "# Transform to Numeric, otherwise piechart doesn't include Nulls\n",
    "# data.loc[data.CryoSleep==True, 'CryoSleep'] = 1\n",
    "# data.loc[data.CryoSleep==False, 'CryoSleep'] = 0\n",
    "\n",
    "print(data['CryoSleep'].value_counts(dropna=False))\n",
    "\n",
    "# Plots\n",
    "fig, ax = plt.subplots(1, 2, figsize=(12, 2))\n",
    "data['CryoSleep'].value_counts().plot(kind='pie', autopct='%.1f%%', ax=ax[0])\n",
    "ax[0].set_ylabel('')\n",
    "ax[0].set_title('CryoSleep Distribution')\n",
    "sns.countplot(y=data['CryoSleep'], hue=data['Transported'], ax=ax[1])\n",
    "ax[1].set_ylabel('')\n",
    "ax[1].set_xlabel('')\n",
    "ax[1].set_title('Relation with Target Variable')\n",
    "plt.show()\n",
    "\n",
    "# There are 217 Nulls\n",
    "# Just 1/3 are in CryoSleep\n",
    "# Strong correlation with Target Variable"
   ]
  },
  {
   "cell_type": "markdown",
   "id": "a82077a1",
   "metadata": {},
   "source": [
    "#### Correlation with VIP"
   ]
  },
  {
   "cell_type": "code",
   "execution_count": 13,
   "id": "477b6b9c",
   "metadata": {
    "scrolled": true
   },
   "outputs": [
    {
     "name": "stdout",
     "output_type": "stream",
     "text": [
      "Total VIP Passengers: 199\n"
     ]
    },
    {
     "data": {
      "image/png": "[encoded data removed]",
      "text/plain": [
       "<Figure size 400x200 with 1 Axes>"
      ]
     },
     "metadata": {},
     "output_type": "display_data"
    }
   ],
   "source": [
    "print('Total VIP Passengers:', data[data.VIP==True].shape[0])\n",
    "fig, ax = plt.subplots(1, 1, figsize=(4, 2))\n",
    "data[data.VIP==True].CryoSleep.value_counts().plot(kind='pie', autopct='%.1f%%')\n",
    "ax.set_ylabel('')\n",
    "ax.set_title('VIP Passengers on Cryo')\n",
    "# sns.countplot(y=)\n",
    "plt.show()\n",
    "\n",
    "# There few VIP Passengers\n",
    "# Strong correlation, VIP passengers dont want to be put to sleep"
   ]
  },
  {
   "cell_type": "markdown",
   "id": "f023f885",
   "metadata": {},
   "source": [
    "#### Correlation with Age"
   ]
  },
  {
   "cell_type": "code",
   "execution_count": 14,
   "id": "b115b904",
   "metadata": {},
   "outputs": [
    {
     "data": {
      "image/png": "[encoded data removed]",
      "text/plain": [
       "<Figure size 600x200 with 1 Axes>"
      ]
     },
     "metadata": {},
     "output_type": "display_data"
    }
   ],
   "source": [
    "fig, ax = plt.subplots(1, 1, figsize=(6, 2))\n",
    "data[data.CryoSleep==True].Age.value_counts().sort_index().plot(title='Count Passengers by Age', color='red', label='Sleeping Passengers')\n",
    "data.Age.value_counts().sort_index().plot(color='blue', label='All Passengers')\n",
    "plt.legend()\n",
    "plt.show()\n",
    "\n",
    "# Most Seniors (+65 years) are put to sleep, but they are few\n",
    "# Same happens with kids (0 to 12 years)????\n",
    "# The gap between both gets gradually reduced for adults (18 to 65 years) "
   ]
  },
  {
   "cell_type": "markdown",
   "id": "8bb186ba",
   "metadata": {},
   "source": [
    "#### Correlation with GroupSize"
   ]
  },
  {
   "cell_type": "code",
   "execution_count": 15,
   "id": "cd097591",
   "metadata": {},
   "outputs": [
    {
     "data": {
      "image/png": "[encoded data removed]",
      "text/plain": [
       "<Figure size 600x200 with 1 Axes>"
      ]
     },
     "metadata": {},
     "output_type": "display_data"
    }
   ],
   "source": [
    "fig, ax = plt.subplots(1, 1, figsize=(6, 2))\n",
    "data[data.CryoSleep==True].GroupSize.value_counts().sort_index().plot(title='Count Passengers by GroupSize', \n",
    "                                                                      color='red', label='Sleeping Passengers')\n",
    "data.GroupSize.value_counts().sort_index().plot(color='blue', label='All Passengers')\n",
    "plt.yticks(np.arange(0, 5000, 1000))\n",
    "plt.legend()\n",
    "plt.show()\n",
    "\n",
    "# The bigger the GroupSize, more chances of CryoSleep?"
   ]
  },
  {
   "cell_type": "markdown",
   "id": "68802ec0",
   "metadata": {},
   "source": [
    "#### FillNa (CryoSleep)"
   ]
  },
  {
   "cell_type": "code",
   "execution_count": 16,
   "id": "d5527e60",
   "metadata": {},
   "outputs": [
    {
     "name": "stdout",
     "output_type": "stream",
     "text": [
      "Nulls Count Original: 217 \n",
      "\n",
      "Nulls Count after VIPs: 214 \n",
      "\n",
      "Nulls Count after Age: 189 \n",
      "\n"
     ]
    }
   ],
   "source": [
    "print('Nulls Count Original:', data[data.CryoSleep.isnull()].shape[0], '\\n')\n",
    "\n",
    "# Complete with VIPs (90% Rate)\n",
    "data.loc[data.CryoSleep.isnull() & data.VIP, 'CryoSleep']=False # 214 to go\n",
    "print('Nulls Count after VIPs:', data[data.CryoSleep.isnull()].shape[0], '\\n')\n",
    "\n",
    "# Complete for Kids and Seniors (to be tested)\n",
    "data.loc[data.CryoSleep.isnull() & np.logical_or(data.Age>=65, data.Age<=12), 'CryoSleep'] = True\n",
    "print('Nulls Count after Age:', data[data.CryoSleep.isnull()].shape[0], '\\n')"
   ]
  },
  {
   "cell_type": "markdown",
   "id": "dafc9774",
   "metadata": {},
   "source": [
    "### Cabin"
   ]
  },
  {
   "cell_type": "code",
   "execution_count": 18,
   "id": "b2920033",
   "metadata": {
    "scrolled": true
   },
   "outputs": [
    {
     "name": "stdout",
     "output_type": "stream",
     "text": [
      "Nulls: 199 \n",
      "\n",
      "0    B/0/P\n",
      "1    F/0/S\n",
      "2    A/0/S\n",
      "3    A/0/S\n",
      "4    F/1/S\n",
      "Name: Cabin, dtype: object\n"
     ]
    }
   ],
   "source": [
    "print('Nulls:', data['Cabin'].isnull().sum(), '\\n')\n",
    "print(data['Cabin'].head()) # PortSide/StarboardSide: Left/Right\n",
    "\n",
    "\n",
    "# Split into Deck/Num/Side, 199 nulls"
   ]
  },
  {
   "cell_type": "markdown",
   "id": "d756ae38",
   "metadata": {},
   "source": [
    "### Destination"
   ]
  },
  {
   "cell_type": "code",
   "execution_count": null,
   "id": "c0083439",
   "metadata": {
    "scrolled": true
   },
   "outputs": [],
   "source": [
    "print(data['Destination'].value_counts(dropna=False))\n",
    "\n",
    "# Plots\n",
    "fig, ax = plt.subplots(1, 2, figsize=(10, 2))\n",
    "data['Destination'].value_counts(dropna=False).plot(kind='pie', autopct='%.1f%%', ax=ax[0])\n",
    "sns.countplot(y=data['Destination'], order=data['Destination'].value_counts().index, ax=ax[1])\n",
    "ax[1].set_ylabel('')\n",
    "plt.show()\n",
    "\n",
    "# Similar to HomePlanet. Most passengers heading TRAPPIST-1e, 182 Nulls"
   ]
  },
  {
   "cell_type": "markdown",
   "id": "a6ffada4",
   "metadata": {},
   "source": [
    "### Age"
   ]
  },
  {
   "cell_type": "code",
   "execution_count": null,
   "id": "774ddd6c",
   "metadata": {
    "scrolled": false
   },
   "outputs": [],
   "source": [
    "print('Nulls:', data['Age'].isnull().sum())\n",
    "print(\"Skewness: %f\" % data['Age'].skew(), '\\n') # Right\n",
    "print(data['Age'].describe())\n",
    "\n",
    "# Plots\n",
    "fig,ax=plt.subplots(1,1,figsize=(18,4))\n",
    "sns.histplot(data=data['Age'])\n",
    "plt.title('Age')\n",
    "plt.show()"
   ]
  },
  {
   "cell_type": "markdown",
   "id": "c41fc4ac",
   "metadata": {},
   "source": [
    "### VIP"
   ]
  },
  {
   "cell_type": "code",
   "execution_count": null,
   "id": "8b267723",
   "metadata": {
    "scrolled": true
   },
   "outputs": [],
   "source": [
    "print(data['VIP'].value_counts(dropna=False))\n",
    "\n",
    "fig,ax=plt.subplots(1,1,figsize=(4,3))\n",
    "data['VIP'].value_counts(dropna=False).plot(kind='pie', autopct='%.1f%%')\n",
    "ax.set_ylabel('')\n",
    "plt.title('VIP')\n",
    "plt.show()\n",
    "\n",
    "# Most are standard passengers, few VIPS and few Nulls"
   ]
  },
  {
   "cell_type": "markdown",
   "id": "c768c199",
   "metadata": {},
   "source": [
    "### Name"
   ]
  },
  {
   "cell_type": "code",
   "execution_count": null,
   "id": "8d87bed7",
   "metadata": {
    "scrolled": true
   },
   "outputs": [],
   "source": [
    "print('Nulls:', data['Name'].isnull().sum(), '\\n')\n",
    "print(data['Name'].value_counts())\n",
    "\n",
    "# 200 nulls, couple of name repeted"
   ]
  },
  {
   "cell_type": "markdown",
   "id": "ad8d02fc",
   "metadata": {},
   "source": [
    "### RoomService"
   ]
  },
  {
   "cell_type": "code",
   "execution_count": null,
   "id": "fa671951",
   "metadata": {
    "scrolled": true
   },
   "outputs": [],
   "source": [
    "print('Nulls:', data['RoomService'].isnull().sum(), '\\n')\n",
    "print(data['RoomService'].describe())\n",
    "\n",
    "fig, ax = plt.subplots(1, 1, figsize=(4, 4))\n",
    "sns.boxplot(y=data['RoomService'], showfliers=False)\n",
    "ax.set_ylabel('')\n",
    "plt.title('RoomService(w/o Outliers)')\n",
    "plt.show()"
   ]
  },
  {
   "cell_type": "markdown",
   "id": "0c2f4423",
   "metadata": {},
   "source": [
    "### FoodCourt"
   ]
  },
  {
   "cell_type": "code",
   "execution_count": null,
   "id": "121be00c",
   "metadata": {
    "scrolled": false
   },
   "outputs": [],
   "source": [
    "print('Nulls:', data['FoodCourt'].isnull().sum(), '\\n')\n",
    "print(data['FoodCourt'].describe())\n",
    "\n",
    "fig, ax = plt.subplots(1, 1, figsize=(4, 4))\n",
    "sns.boxplot(y=data['FoodCourt'], showfliers=False)\n",
    "ax.set_ylabel('')\n",
    "plt.title('FoodCourt(w/o Outliers)')\n",
    "plt.show()"
   ]
  },
  {
   "cell_type": "markdown",
   "id": "7c5536ba",
   "metadata": {},
   "source": [
    "### ShoppingMall"
   ]
  },
  {
   "cell_type": "code",
   "execution_count": null,
   "id": "b7d6c0da",
   "metadata": {
    "scrolled": true
   },
   "outputs": [],
   "source": [
    "print('Nulls:', data['ShoppingMall'].isnull().sum(), '\\n')\n",
    "print(data['ShoppingMall'].describe())\n",
    "\n",
    "fig, ax = plt.subplots(1, 1, figsize=(4, 4))\n",
    "sns.boxplot(y=data['ShoppingMall'], showfliers=False)\n",
    "ax.set_ylabel('')\n",
    "plt.title('ShoppingMall(w/o Outliers)')\n",
    "plt.show()"
   ]
  },
  {
   "cell_type": "markdown",
   "id": "12e2b141",
   "metadata": {},
   "source": [
    "### Spa"
   ]
  },
  {
   "cell_type": "code",
   "execution_count": null,
   "id": "2faf9f4f",
   "metadata": {
    "scrolled": true
   },
   "outputs": [],
   "source": [
    "print('Nulls:', data['Spa'].isnull().sum(), '\\n')\n",
    "print(data['Spa'].describe())\n",
    "\n",
    "fig, ax = plt.subplots(1, 1, figsize=(4, 4))\n",
    "sns.boxplot(y=data['Spa'], showfliers=False)\n",
    "ax.set_ylabel('')\n",
    "plt.title('Spa(w/o Outliers)')\n",
    "plt.show()"
   ]
  },
  {
   "cell_type": "markdown",
   "id": "dcecb41d",
   "metadata": {},
   "source": [
    "### VRDeck"
   ]
  },
  {
   "cell_type": "code",
   "execution_count": null,
   "id": "15df860e",
   "metadata": {},
   "outputs": [],
   "source": [
    "print('Nulls:', data['VRDeck'].isnull().sum(), '\\n')\n",
    "print(data['VRDeck'].describe())\n",
    "\n",
    "fig, ax = plt.subplots(1, 1, figsize=(4, 4))\n",
    "sns.boxplot(y=data['VRDeck'], showfliers=False)\n",
    "ax.set_ylabel('')\n",
    "plt.title('Spa(w/o Outliers)')\n",
    "plt.show()"
   ]
  }
 ],
 "metadata": {
  "kernelspec": {
   "display_name": "Python 3 (ipykernel)",
   "language": "python",
   "name": "python3"
  },
  "language_info": {
   "codemirror_mode": {
    "name": "ipython",
    "version": 3
   },
   "file_extension": ".py",
   "mimetype": "text/x-python",
   "name": "python",
   "nbconvert_exporter": "python",
   "pygments_lexer": "ipython3",
   "version": "3.10.4"
  }
 },
 "nbformat": 4,
 "nbformat_minor": 5
}
